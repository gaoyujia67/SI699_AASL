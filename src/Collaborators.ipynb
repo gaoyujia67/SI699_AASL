{
 "cells": [
  {
   "cell_type": "markdown",
   "metadata": {},
   "source": [
    "# A Third-party Analysis of the AASL Standards"
   ]
  },
  {
   "cell_type": "markdown",
   "metadata": {},
   "source": [
    "Jinren Yuan\n",
    "\n",
    "This section contains the analysis of **collaborators**."
   ]
  },
  {
   "cell_type": "code",
   "execution_count": 1,
   "metadata": {},
   "outputs": [],
   "source": [
    "import pandas as pd"
   ]
  },
  {
   "cell_type": "code",
   "execution_count": 2,
   "metadata": {},
   "outputs": [
    {
     "data": {
      "text/plain": [
       "(43, 149)"
      ]
     },
     "execution_count": 2,
     "metadata": {},
     "output_type": "execute_result"
    }
   ],
   "source": [
    "df_c = pd.read_csv(\"data/AASL Standards Survey - Collaborators - Sheet.csv\")\n",
    "df_c.shape"
   ]
  },
  {
   "cell_type": "code",
   "execution_count": 3,
   "metadata": {},
   "outputs": [
    {
     "data": {
      "text/html": [
       "<div>\n",
       "<style scoped>\n",
       "    .dataframe tbody tr th:only-of-type {\n",
       "        vertical-align: middle;\n",
       "    }\n",
       "\n",
       "    .dataframe tbody tr th {\n",
       "        vertical-align: top;\n",
       "    }\n",
       "\n",
       "    .dataframe thead th {\n",
       "        text-align: right;\n",
       "    }\n",
       "</style>\n",
       "<table border=\"1\" class=\"dataframe\">\n",
       "  <thead>\n",
       "    <tr style=\"text-align: right;\">\n",
       "      <th></th>\n",
       "      <th>Respondent ID</th>\n",
       "      <th>Collector ID</th>\n",
       "      <th>Start Date</th>\n",
       "      <th>End Date</th>\n",
       "      <th>IP Address</th>\n",
       "      <th>Email Address</th>\n",
       "      <th>First Name</th>\n",
       "      <th>Last Name</th>\n",
       "      <th>Custom Data 1</th>\n",
       "      <th>Which of the following positions most closely reflects your job role? Please select all that apply.</th>\n",
       "      <th>...</th>\n",
       "      <th>Unnamed: 139</th>\n",
       "      <th>Unnamed: 140</th>\n",
       "      <th>What is the primary language spoken in your work environment?</th>\n",
       "      <th>Unnamed: 142</th>\n",
       "      <th>Are you of Hispanic or Latino background – such as Mexican, Puerto Rican, Cuban, or another Latin American background?</th>\n",
       "      <th>Which of the following categories best describes your race or ethnicity?</th>\n",
       "      <th>Unnamed: 145</th>\n",
       "      <th>Which of the following categories best describes your employment status?</th>\n",
       "      <th>Unnamed: 147</th>\n",
       "      <th>Is there anything else you would like to add?</th>\n",
       "    </tr>\n",
       "  </thead>\n",
       "  <tbody>\n",
       "    <tr>\n",
       "      <th>0</th>\n",
       "      <td>NaN</td>\n",
       "      <td>NaN</td>\n",
       "      <td>NaN</td>\n",
       "      <td>NaN</td>\n",
       "      <td>NaN</td>\n",
       "      <td>NaN</td>\n",
       "      <td>NaN</td>\n",
       "      <td>NaN</td>\n",
       "      <td>NaN</td>\n",
       "      <td>None of the above</td>\n",
       "      <td>...</td>\n",
       "      <td>English language version</td>\n",
       "      <td>Another language (please specify)</td>\n",
       "      <td>Response</td>\n",
       "      <td>Other (please specify)</td>\n",
       "      <td>Response</td>\n",
       "      <td>Response</td>\n",
       "      <td>Other (please specify)</td>\n",
       "      <td>Response</td>\n",
       "      <td>Other (please specify)</td>\n",
       "      <td>Open-Ended Response</td>\n",
       "    </tr>\n",
       "    <tr>\n",
       "      <th>1</th>\n",
       "      <td>1.184746e+11</td>\n",
       "      <td>453683477.0</td>\n",
       "      <td>2023-11-20 10:06:21</td>\n",
       "      <td>2023-11-20 10:06:31</td>\n",
       "      <td>NaN</td>\n",
       "      <td>NaN</td>\n",
       "      <td>NaN</td>\n",
       "      <td>NaN</td>\n",
       "      <td>NaN</td>\n",
       "      <td>None of the above</td>\n",
       "      <td>...</td>\n",
       "      <td>NaN</td>\n",
       "      <td>NaN</td>\n",
       "      <td>NaN</td>\n",
       "      <td>NaN</td>\n",
       "      <td>NaN</td>\n",
       "      <td>NaN</td>\n",
       "      <td>NaN</td>\n",
       "      <td>NaN</td>\n",
       "      <td>NaN</td>\n",
       "      <td>NaN</td>\n",
       "    </tr>\n",
       "    <tr>\n",
       "      <th>2</th>\n",
       "      <td>1.184745e+11</td>\n",
       "      <td>453683477.0</td>\n",
       "      <td>2023-11-20 07:45:34</td>\n",
       "      <td>2023-11-20 07:45:52</td>\n",
       "      <td>NaN</td>\n",
       "      <td>NaN</td>\n",
       "      <td>NaN</td>\n",
       "      <td>NaN</td>\n",
       "      <td>NaN</td>\n",
       "      <td>None of the above</td>\n",
       "      <td>...</td>\n",
       "      <td>NaN</td>\n",
       "      <td>NaN</td>\n",
       "      <td>NaN</td>\n",
       "      <td>NaN</td>\n",
       "      <td>NaN</td>\n",
       "      <td>NaN</td>\n",
       "      <td>NaN</td>\n",
       "      <td>NaN</td>\n",
       "      <td>NaN</td>\n",
       "      <td>NaN</td>\n",
       "    </tr>\n",
       "    <tr>\n",
       "      <th>3</th>\n",
       "      <td>1.184742e+11</td>\n",
       "      <td>453683477.0</td>\n",
       "      <td>2023-11-19 23:24:27</td>\n",
       "      <td>2023-11-19 23:57:41</td>\n",
       "      <td>NaN</td>\n",
       "      <td>NaN</td>\n",
       "      <td>NaN</td>\n",
       "      <td>NaN</td>\n",
       "      <td>NaN</td>\n",
       "      <td>NaN</td>\n",
       "      <td>...</td>\n",
       "      <td>NaN</td>\n",
       "      <td>NaN</td>\n",
       "      <td>NaN</td>\n",
       "      <td>NaN</td>\n",
       "      <td>NaN</td>\n",
       "      <td>NaN</td>\n",
       "      <td>NaN</td>\n",
       "      <td>NaN</td>\n",
       "      <td>NaN</td>\n",
       "      <td>NaN</td>\n",
       "    </tr>\n",
       "    <tr>\n",
       "      <th>4</th>\n",
       "      <td>1.184732e+11</td>\n",
       "      <td>453683477.0</td>\n",
       "      <td>2023-11-17 19:52:30</td>\n",
       "      <td>2023-11-17 19:54:32</td>\n",
       "      <td>NaN</td>\n",
       "      <td>NaN</td>\n",
       "      <td>NaN</td>\n",
       "      <td>NaN</td>\n",
       "      <td>NaN</td>\n",
       "      <td>NaN</td>\n",
       "      <td>...</td>\n",
       "      <td>NaN</td>\n",
       "      <td>NaN</td>\n",
       "      <td>NaN</td>\n",
       "      <td>NaN</td>\n",
       "      <td>NaN</td>\n",
       "      <td>NaN</td>\n",
       "      <td>NaN</td>\n",
       "      <td>NaN</td>\n",
       "      <td>NaN</td>\n",
       "      <td>NaN</td>\n",
       "    </tr>\n",
       "  </tbody>\n",
       "</table>\n",
       "<p>5 rows × 149 columns</p>\n",
       "</div>"
      ],
      "text/plain": [
       "   Respondent ID  Collector ID           Start Date             End Date  \\\n",
       "0            NaN           NaN                  NaN                  NaN   \n",
       "1   1.184746e+11   453683477.0  2023-11-20 10:06:21  2023-11-20 10:06:31   \n",
       "2   1.184745e+11   453683477.0  2023-11-20 07:45:34  2023-11-20 07:45:52   \n",
       "3   1.184742e+11   453683477.0  2023-11-19 23:24:27  2023-11-19 23:57:41   \n",
       "4   1.184732e+11   453683477.0  2023-11-17 19:52:30  2023-11-17 19:54:32   \n",
       "\n",
       "   IP Address  Email Address  First Name  Last Name  Custom Data 1  \\\n",
       "0         NaN            NaN         NaN        NaN            NaN   \n",
       "1         NaN            NaN         NaN        NaN            NaN   \n",
       "2         NaN            NaN         NaN        NaN            NaN   \n",
       "3         NaN            NaN         NaN        NaN            NaN   \n",
       "4         NaN            NaN         NaN        NaN            NaN   \n",
       "\n",
       "  Which of the following positions most closely reflects your job role? Please select all that apply.  \\\n",
       "0                                  None of the above                                                    \n",
       "1                                  None of the above                                                    \n",
       "2                                  None of the above                                                    \n",
       "3                                                NaN                                                    \n",
       "4                                                NaN                                                    \n",
       "\n",
       "   ...              Unnamed: 139                       Unnamed: 140  \\\n",
       "0  ...  English language version  Another language (please specify)   \n",
       "1  ...                       NaN                                NaN   \n",
       "2  ...                       NaN                                NaN   \n",
       "3  ...                       NaN                                NaN   \n",
       "4  ...                       NaN                                NaN   \n",
       "\n",
       "  What is the primary language spoken in your work environment?  \\\n",
       "0                                           Response              \n",
       "1                                                NaN              \n",
       "2                                                NaN              \n",
       "3                                                NaN              \n",
       "4                                                NaN              \n",
       "\n",
       "             Unnamed: 142  \\\n",
       "0  Other (please specify)   \n",
       "1                     NaN   \n",
       "2                     NaN   \n",
       "3                     NaN   \n",
       "4                     NaN   \n",
       "\n",
       "  Are you of Hispanic or Latino background – such as Mexican, Puerto Rican, Cuban, or another Latin American background?  \\\n",
       "0                                           Response                                                                       \n",
       "1                                                NaN                                                                       \n",
       "2                                                NaN                                                                       \n",
       "3                                                NaN                                                                       \n",
       "4                                                NaN                                                                       \n",
       "\n",
       "  Which of the following categories best describes your race or ethnicity?  \\\n",
       "0                                           Response                         \n",
       "1                                                NaN                         \n",
       "2                                                NaN                         \n",
       "3                                                NaN                         \n",
       "4                                                NaN                         \n",
       "\n",
       "             Unnamed: 145  \\\n",
       "0  Other (please specify)   \n",
       "1                     NaN   \n",
       "2                     NaN   \n",
       "3                     NaN   \n",
       "4                     NaN   \n",
       "\n",
       "  Which of the following categories best describes your employment status?  \\\n",
       "0                                           Response                         \n",
       "1                                                NaN                         \n",
       "2                                                NaN                         \n",
       "3                                                NaN                         \n",
       "4                                                NaN                         \n",
       "\n",
       "             Unnamed: 147 Is there anything else you would like to add?  \n",
       "0  Other (please specify)                           Open-Ended Response  \n",
       "1                     NaN                                           NaN  \n",
       "2                     NaN                                           NaN  \n",
       "3                     NaN                                           NaN  \n",
       "4                     NaN                                           NaN  \n",
       "\n",
       "[5 rows x 149 columns]"
      ]
     },
     "execution_count": 3,
     "metadata": {},
     "output_type": "execute_result"
    }
   ],
   "source": [
    "df_c.head()"
   ]
  },
  {
   "cell_type": "code",
   "execution_count": 4,
   "metadata": {},
   "outputs": [
    {
     "data": {
      "text/plain": [
       "Index(['Respondent ID', 'Collector ID', 'Start Date', 'End Date', 'IP Address',\n",
       "       'Email Address', 'First Name', 'Last Name', 'Custom Data 1',\n",
       "       'Which of the following positions most closely reflects your job role? Please select all that apply.',\n",
       "       ...\n",
       "       'Unnamed: 139', 'Unnamed: 140',\n",
       "       'What is the primary language spoken in your work environment?',\n",
       "       'Unnamed: 142',\n",
       "       'Are you of Hispanic or Latino background – such as Mexican, Puerto Rican, Cuban, or another Latin American background?',\n",
       "       'Which of the following categories best describes your race or ethnicity?',\n",
       "       'Unnamed: 145',\n",
       "       'Which of the following categories best describes your employment status?',\n",
       "       'Unnamed: 147', 'Is there anything else you would like to add?'],\n",
       "      dtype='object', length=149)"
      ]
     },
     "execution_count": 4,
     "metadata": {},
     "output_type": "execute_result"
    }
   ],
   "source": [
    "df_c.columns"
   ]
  },
  {
   "cell_type": "code",
   "execution_count": 5,
   "metadata": {},
   "outputs": [
    {
     "data": {
      "text/html": [
       "<div>\n",
       "<style scoped>\n",
       "    .dataframe tbody tr th:only-of-type {\n",
       "        vertical-align: middle;\n",
       "    }\n",
       "\n",
       "    .dataframe tbody tr th {\n",
       "        vertical-align: top;\n",
       "    }\n",
       "\n",
       "    .dataframe thead th {\n",
       "        text-align: right;\n",
       "    }\n",
       "</style>\n",
       "<table border=\"1\" class=\"dataframe\">\n",
       "  <thead>\n",
       "    <tr style=\"text-align: right;\">\n",
       "      <th></th>\n",
       "      <th>Which of the following positions most closely reflects your job role? Please select all that apply.</th>\n",
       "      <th>Unnamed: 10</th>\n",
       "      <th>Unnamed: 11</th>\n",
       "      <th>Unnamed: 12</th>\n",
       "      <th>Unnamed: 13</th>\n",
       "      <th>Which of the following best describes your work environment? Please select all that apply. (i.e. If you are in a combined setting you may select multiple levels.)</th>\n",
       "      <th>Unnamed: 15</th>\n",
       "      <th>Unnamed: 16</th>\n",
       "      <th>Unnamed: 17</th>\n",
       "      <th>Unnamed: 18</th>\n",
       "      <th>...</th>\n",
       "      <th>Unnamed: 139</th>\n",
       "      <th>Unnamed: 140</th>\n",
       "      <th>What is the primary language spoken in your work environment?</th>\n",
       "      <th>Unnamed: 142</th>\n",
       "      <th>Are you of Hispanic or Latino background – such as Mexican, Puerto Rican, Cuban, or another Latin American background?</th>\n",
       "      <th>Which of the following categories best describes your race or ethnicity?</th>\n",
       "      <th>Unnamed: 145</th>\n",
       "      <th>Which of the following categories best describes your employment status?</th>\n",
       "      <th>Unnamed: 147</th>\n",
       "      <th>Is there anything else you would like to add?</th>\n",
       "    </tr>\n",
       "  </thead>\n",
       "  <tbody>\n",
       "    <tr>\n",
       "      <th>0</th>\n",
       "      <td>None of the above</td>\n",
       "      <td>Teacher (e.g. educational faculty)</td>\n",
       "      <td>Support staff (e.g. teacher’s aide)</td>\n",
       "      <td>Building Level Technology (e.g. tech specialis...</td>\n",
       "      <td>Instructional Facilitator/ Coach</td>\n",
       "      <td>Elementary school</td>\n",
       "      <td>Middle school or junior high school</td>\n",
       "      <td>High school</td>\n",
       "      <td>Multiple buildings</td>\n",
       "      <td>School District office</td>\n",
       "      <td>...</td>\n",
       "      <td>English language version</td>\n",
       "      <td>Another language (please specify)</td>\n",
       "      <td>Response</td>\n",
       "      <td>Other (please specify)</td>\n",
       "      <td>Response</td>\n",
       "      <td>Response</td>\n",
       "      <td>Other (please specify)</td>\n",
       "      <td>Response</td>\n",
       "      <td>Other (please specify)</td>\n",
       "      <td>Open-Ended Response</td>\n",
       "    </tr>\n",
       "    <tr>\n",
       "      <th>1</th>\n",
       "      <td>None of the above</td>\n",
       "      <td>NaN</td>\n",
       "      <td>NaN</td>\n",
       "      <td>NaN</td>\n",
       "      <td>NaN</td>\n",
       "      <td>NaN</td>\n",
       "      <td>NaN</td>\n",
       "      <td>NaN</td>\n",
       "      <td>NaN</td>\n",
       "      <td>NaN</td>\n",
       "      <td>...</td>\n",
       "      <td>NaN</td>\n",
       "      <td>NaN</td>\n",
       "      <td>NaN</td>\n",
       "      <td>NaN</td>\n",
       "      <td>NaN</td>\n",
       "      <td>NaN</td>\n",
       "      <td>NaN</td>\n",
       "      <td>NaN</td>\n",
       "      <td>NaN</td>\n",
       "      <td>NaN</td>\n",
       "    </tr>\n",
       "    <tr>\n",
       "      <th>2</th>\n",
       "      <td>None of the above</td>\n",
       "      <td>NaN</td>\n",
       "      <td>NaN</td>\n",
       "      <td>NaN</td>\n",
       "      <td>NaN</td>\n",
       "      <td>NaN</td>\n",
       "      <td>NaN</td>\n",
       "      <td>NaN</td>\n",
       "      <td>NaN</td>\n",
       "      <td>NaN</td>\n",
       "      <td>...</td>\n",
       "      <td>NaN</td>\n",
       "      <td>NaN</td>\n",
       "      <td>NaN</td>\n",
       "      <td>NaN</td>\n",
       "      <td>NaN</td>\n",
       "      <td>NaN</td>\n",
       "      <td>NaN</td>\n",
       "      <td>NaN</td>\n",
       "      <td>NaN</td>\n",
       "      <td>NaN</td>\n",
       "    </tr>\n",
       "    <tr>\n",
       "      <th>3</th>\n",
       "      <td>NaN</td>\n",
       "      <td>Teacher (e.g. educational faculty)</td>\n",
       "      <td>NaN</td>\n",
       "      <td>NaN</td>\n",
       "      <td>Instructional Facilitator/ Coach</td>\n",
       "      <td>NaN</td>\n",
       "      <td>Middle school or junior high school</td>\n",
       "      <td>High school</td>\n",
       "      <td>NaN</td>\n",
       "      <td>NaN</td>\n",
       "      <td>...</td>\n",
       "      <td>NaN</td>\n",
       "      <td>NaN</td>\n",
       "      <td>NaN</td>\n",
       "      <td>NaN</td>\n",
       "      <td>NaN</td>\n",
       "      <td>NaN</td>\n",
       "      <td>NaN</td>\n",
       "      <td>NaN</td>\n",
       "      <td>NaN</td>\n",
       "      <td>NaN</td>\n",
       "    </tr>\n",
       "    <tr>\n",
       "      <th>4</th>\n",
       "      <td>NaN</td>\n",
       "      <td>Teacher (e.g. educational faculty)</td>\n",
       "      <td>NaN</td>\n",
       "      <td>NaN</td>\n",
       "      <td>NaN</td>\n",
       "      <td>Elementary school</td>\n",
       "      <td>NaN</td>\n",
       "      <td>NaN</td>\n",
       "      <td>NaN</td>\n",
       "      <td>NaN</td>\n",
       "      <td>...</td>\n",
       "      <td>NaN</td>\n",
       "      <td>NaN</td>\n",
       "      <td>NaN</td>\n",
       "      <td>NaN</td>\n",
       "      <td>NaN</td>\n",
       "      <td>NaN</td>\n",
       "      <td>NaN</td>\n",
       "      <td>NaN</td>\n",
       "      <td>NaN</td>\n",
       "      <td>NaN</td>\n",
       "    </tr>\n",
       "  </tbody>\n",
       "</table>\n",
       "<p>5 rows × 140 columns</p>\n",
       "</div>"
      ],
      "text/plain": [
       "  Which of the following positions most closely reflects your job role? Please select all that apply.  \\\n",
       "0                                  None of the above                                                    \n",
       "1                                  None of the above                                                    \n",
       "2                                  None of the above                                                    \n",
       "3                                                NaN                                                    \n",
       "4                                                NaN                                                    \n",
       "\n",
       "                          Unnamed: 10                          Unnamed: 11  \\\n",
       "0  Teacher (e.g. educational faculty)  Support staff (e.g. teacher’s aide)   \n",
       "1                                 NaN                                  NaN   \n",
       "2                                 NaN                                  NaN   \n",
       "3  Teacher (e.g. educational faculty)                                  NaN   \n",
       "4  Teacher (e.g. educational faculty)                                  NaN   \n",
       "\n",
       "                                         Unnamed: 12  \\\n",
       "0  Building Level Technology (e.g. tech specialis...   \n",
       "1                                                NaN   \n",
       "2                                                NaN   \n",
       "3                                                NaN   \n",
       "4                                                NaN   \n",
       "\n",
       "                        Unnamed: 13  \\\n",
       "0  Instructional Facilitator/ Coach   \n",
       "1                               NaN   \n",
       "2                               NaN   \n",
       "3  Instructional Facilitator/ Coach   \n",
       "4                               NaN   \n",
       "\n",
       "  Which of the following best describes your work environment? Please select all that apply. (i.e. If you are in a combined setting you may select multiple levels.)  \\\n",
       "0                                  Elementary school                                                                                                                   \n",
       "1                                                NaN                                                                                                                   \n",
       "2                                                NaN                                                                                                                   \n",
       "3                                                NaN                                                                                                                   \n",
       "4                                  Elementary school                                                                                                                   \n",
       "\n",
       "                           Unnamed: 15  Unnamed: 16         Unnamed: 17  \\\n",
       "0  Middle school or junior high school  High school  Multiple buildings   \n",
       "1                                  NaN          NaN                 NaN   \n",
       "2                                  NaN          NaN                 NaN   \n",
       "3  Middle school or junior high school  High school                 NaN   \n",
       "4                                  NaN          NaN                 NaN   \n",
       "\n",
       "              Unnamed: 18  ...              Unnamed: 139  \\\n",
       "0  School District office  ...  English language version   \n",
       "1                     NaN  ...                       NaN   \n",
       "2                     NaN  ...                       NaN   \n",
       "3                     NaN  ...                       NaN   \n",
       "4                     NaN  ...                       NaN   \n",
       "\n",
       "                        Unnamed: 140  \\\n",
       "0  Another language (please specify)   \n",
       "1                                NaN   \n",
       "2                                NaN   \n",
       "3                                NaN   \n",
       "4                                NaN   \n",
       "\n",
       "  What is the primary language spoken in your work environment?  \\\n",
       "0                                           Response              \n",
       "1                                                NaN              \n",
       "2                                                NaN              \n",
       "3                                                NaN              \n",
       "4                                                NaN              \n",
       "\n",
       "             Unnamed: 142  \\\n",
       "0  Other (please specify)   \n",
       "1                     NaN   \n",
       "2                     NaN   \n",
       "3                     NaN   \n",
       "4                     NaN   \n",
       "\n",
       "  Are you of Hispanic or Latino background – such as Mexican, Puerto Rican, Cuban, or another Latin American background?  \\\n",
       "0                                           Response                                                                       \n",
       "1                                                NaN                                                                       \n",
       "2                                                NaN                                                                       \n",
       "3                                                NaN                                                                       \n",
       "4                                                NaN                                                                       \n",
       "\n",
       "  Which of the following categories best describes your race or ethnicity?  \\\n",
       "0                                           Response                         \n",
       "1                                                NaN                         \n",
       "2                                                NaN                         \n",
       "3                                                NaN                         \n",
       "4                                                NaN                         \n",
       "\n",
       "             Unnamed: 145  \\\n",
       "0  Other (please specify)   \n",
       "1                     NaN   \n",
       "2                     NaN   \n",
       "3                     NaN   \n",
       "4                     NaN   \n",
       "\n",
       "  Which of the following categories best describes your employment status?  \\\n",
       "0                                           Response                         \n",
       "1                                                NaN                         \n",
       "2                                                NaN                         \n",
       "3                                                NaN                         \n",
       "4                                                NaN                         \n",
       "\n",
       "             Unnamed: 147 Is there anything else you would like to add?  \n",
       "0  Other (please specify)                           Open-Ended Response  \n",
       "1                     NaN                                           NaN  \n",
       "2                     NaN                                           NaN  \n",
       "3                     NaN                                           NaN  \n",
       "4                     NaN                                           NaN  \n",
       "\n",
       "[5 rows x 140 columns]"
      ]
     },
     "execution_count": 5,
     "metadata": {},
     "output_type": "execute_result"
    }
   ],
   "source": [
    "# drop irrelavent ID and date fields\n",
    "df_c = df_c.drop(columns=['Respondent ID', 'Collector ID', 'Start Date', 'End Date'])\n",
    "\n",
    "# drop fields that contain only missing values (NaN)\n",
    "df_c = df_c.dropna(axis=1, how='all')\n",
    "df_c.head()"
   ]
  },
  {
   "cell_type": "code",
   "execution_count": 6,
   "metadata": {},
   "outputs": [],
   "source": [
    "# Drop Q2 - Q4\n",
    "df_c = df_c.drop(df_c.columns[5:32], axis=1)"
   ]
  },
  {
   "cell_type": "code",
   "execution_count": 7,
   "metadata": {},
   "outputs": [
    {
     "data": {
      "text/plain": [
       "(43, 113)"
      ]
     },
     "execution_count": 7,
     "metadata": {},
     "output_type": "execute_result"
    }
   ],
   "source": [
    "df_c.shape"
   ]
  },
  {
   "cell_type": "code",
   "execution_count": 8,
   "metadata": {},
   "outputs": [],
   "source": [
    "# Drop from Q30\n",
    "df_c = df_c.drop(df_c.columns[96:], axis=1)"
   ]
  },
  {
   "cell_type": "code",
   "execution_count": 9,
   "metadata": {},
   "outputs": [
    {
     "name": "stdout",
     "output_type": "stream",
     "text": [
      "Which of the following positions most closely reflects your job role? Please select all that apply.\n",
      "Unnamed: 10\n",
      "Unnamed: 11\n",
      "Unnamed: 12\n",
      "Unnamed: 13\n",
      "What does school library staffing look like in your place of work or the school(s) you support? Please select all that apply.\n",
      "Unnamed: 42\n",
      "Unnamed: 43\n",
      "Unnamed: 44\n",
      "Unnamed: 45\n",
      "Unnamed: 46\n",
      "How often do you collaborate and work with the school librarian(s)?\n",
      "What are the main reasons you do not work with or collaborate more often with the school librarian?\n",
      "As an educator, how do you work with the school librarian? Please select all that apply.\n",
      "Unnamed: 50\n",
      "Unnamed: 51\n",
      "Unnamed: 52\n",
      "Unnamed: 53\n",
      "Unnamed: 54\n",
      "Unnamed: 55\n",
      "Who usually initiates collaborations between yourself and the school librarian?\n",
      "Unnamed: 57\n",
      "In your opinion, what are the school librarian’s most important contributions to the education program of the school?\n",
      "In which of the following ways do you engage with your school librarian(s) to effectively maximize their contribution to your academic program? Please select all that apply.\n",
      "Unnamed: 60\n",
      "Unnamed: 61\n",
      "Unnamed: 62\n",
      "Unnamed: 63\n",
      "Unnamed: 64\n",
      "Here is an image of the National School Library Standards for Learners, School Librarians, and School Libraries [book] produced by the American Association of School Librarians (AASL)? Please indicate whether you have seen this document before today or have a copy of this document. Please select all that apply. Standards Book Cover\n",
      "Unnamed: 66\n",
      "Unnamed: 67\n",
      "Unnamed: 68\n",
      "Unnamed: 69\n",
      "Unnamed: 70\n",
      "Here is an image of the AASL Standards Framework for Learners [pamphlet] produced by the American Association of School Librarians (AASL)? Please indicate whether you have seen this document before today or have a copy of this document. Please select all that apply. Learner Pamphlet Cover\n",
      "Unnamed: 72\n",
      "Unnamed: 73\n",
      "Unnamed: 74\n",
      "Unnamed: 75\n",
      "Unnamed: 76\n",
      "How familiar are you with the content of the National School Library Standards for Learners, School Librarians, and School Libraries?\n",
      "Overall, how would you rate the AASL National School Library Standards?\n",
      "For what reason did you give that rating? Please explain your thinking.\n",
      "Below is a list of words and phrases. Please indicate how well you think each word or phrase describes the National School Library Standards for Learners, School Librarians, and School Libraries.\n",
      "Unnamed: 81\n",
      "Unnamed: 82\n",
      "Unnamed: 83\n",
      "Unnamed: 84\n",
      "Unnamed: 85\n",
      "Unnamed: 86\n",
      "Unnamed: 87\n",
      "Unnamed: 88\n",
      "Unnamed: 89\n",
      "Please state how much you agree or disagree with each of the following statements about AASL’s National School Library Standards for Learners, School Librarians, and School Libraries.\n",
      "Unnamed: 91\n",
      "Unnamed: 92\n",
      "Please state how much you agree or disagree with each of the following Common Beliefs of the school library profession.\n",
      "Unnamed: 94\n",
      "Unnamed: 95\n",
      "Unnamed: 96\n",
      "Unnamed: 97\n",
      "Unnamed: 98\n",
      "Does the school librarian use the National School Library Standards for Learners, School Librarians, and School Libraries in their work?\n",
      "In which of the following ways have you worked with the school librarian to implement the National School Library Standards for Learners, School Librarians, and School Libraries? Please select all that apply.\n",
      "Unnamed: 101\n",
      "Unnamed: 102\n",
      "Unnamed: 103\n",
      "Unnamed: 104\n",
      "Unnamed: 105\n",
      "Unnamed: 106\n",
      "Unnamed: 107\n",
      "Unnamed: 108\n",
      "Unnamed: 109\n",
      "Unnamed: 110\n",
      "Unnamed: 111\n",
      "Unnamed: 112\n",
      "Unnamed: 113\n",
      "What are some things that could be done to better aid your collaboration with your school librarian to implement the National School Library Standards?\n",
      "How frequently do you use or refer to the National School Library Standards when working with your school librarian?\n",
      "How often do you reference each of the following AASL Standards Frameworks when collaborating with your school librarian?\n",
      "Unnamed: 117\n",
      "Unnamed: 118\n",
      "How often do you consider each of the AASL Standards Shared Foundations when collaborating with your school librarian?\n",
      "Unnamed: 120\n",
      "Unnamed: 121\n",
      "Unnamed: 122\n",
      "Unnamed: 123\n",
      "Unnamed: 124\n",
      "How often do you consider each of the AASL Standards Domains when collaborating with your school librarian?\n",
      "Unnamed: 126\n",
      "Unnamed: 127\n",
      "Unnamed: 128\n",
      "Overall, how would you rate AASL’s efforts to set and maintain up-to-date and practical standards and supporting resources?\n",
      "For what reason did you give that rating? Please explain your thinking..1\n",
      "What additional supports would have been helpful to you when you first encountered the National School Library Standards?\n"
     ]
    }
   ],
   "source": [
    "for col in df_c.columns:\n",
    "    print(col)"
   ]
  },
  {
   "cell_type": "code",
   "execution_count": 10,
   "metadata": {},
   "outputs": [
    {
     "data": {
      "text/plain": [
       "(43, 96)"
      ]
     },
     "execution_count": 10,
     "metadata": {},
     "output_type": "execute_result"
    }
   ],
   "source": [
    "df_c.shape"
   ]
  },
  {
   "cell_type": "code",
   "execution_count": 11,
   "metadata": {},
   "outputs": [
    {
     "data": {
      "text/html": [
       "<div>\n",
       "<style scoped>\n",
       "    .dataframe tbody tr th:only-of-type {\n",
       "        vertical-align: middle;\n",
       "    }\n",
       "\n",
       "    .dataframe tbody tr th {\n",
       "        vertical-align: top;\n",
       "    }\n",
       "\n",
       "    .dataframe thead th {\n",
       "        text-align: right;\n",
       "    }\n",
       "</style>\n",
       "<table border=\"1\" class=\"dataframe\">\n",
       "  <thead>\n",
       "    <tr style=\"text-align: right;\">\n",
       "      <th></th>\n",
       "      <th>Which of the following positions most closely reflects your job role? Please select all that apply.</th>\n",
       "      <th>Unnamed: 10</th>\n",
       "      <th>Unnamed: 11</th>\n",
       "      <th>Unnamed: 12</th>\n",
       "      <th>Unnamed: 13</th>\n",
       "      <th>What does school library staffing look like in your place of work or the school(s) you support? Please select all that apply.</th>\n",
       "      <th>Unnamed: 42</th>\n",
       "      <th>Unnamed: 43</th>\n",
       "      <th>Unnamed: 44</th>\n",
       "      <th>Unnamed: 45</th>\n",
       "      <th>...</th>\n",
       "      <th>Unnamed: 122</th>\n",
       "      <th>Unnamed: 123</th>\n",
       "      <th>Unnamed: 124</th>\n",
       "      <th>How often do you consider each of the AASL Standards Domains when collaborating with your school librarian?</th>\n",
       "      <th>Unnamed: 126</th>\n",
       "      <th>Unnamed: 127</th>\n",
       "      <th>Unnamed: 128</th>\n",
       "      <th>Overall, how would you rate AASL’s efforts to set and maintain up-to-date and practical standards and supporting resources?</th>\n",
       "      <th>For what reason did you give that rating? Please explain your thinking..1</th>\n",
       "      <th>What additional supports would have been helpful to you when you first encountered the National School Library Standards?</th>\n",
       "    </tr>\n",
       "  </thead>\n",
       "  <tbody>\n",
       "    <tr>\n",
       "      <th>0</th>\n",
       "      <td>None of the above</td>\n",
       "      <td>Teacher (e.g. educational faculty)</td>\n",
       "      <td>Support staff (e.g. teacher’s aide)</td>\n",
       "      <td>Building Level Technology (e.g. tech specialis...</td>\n",
       "      <td>Instructional Facilitator/ Coach</td>\n",
       "      <td>None of the above</td>\n",
       "      <td>Certified / licensed school librarian</td>\n",
       "      <td>Paraprofessional or other non-instructional staff</td>\n",
       "      <td>Teacher on special assignment</td>\n",
       "      <td>Volunteer</td>\n",
       "      <td>...</td>\n",
       "      <td>Curate Make meaning for oneself and others by ...</td>\n",
       "      <td>Explore Discover and innovate in a growth mind...</td>\n",
       "      <td>Engage Demonstrate safe, legal, and ethical cr...</td>\n",
       "      <td>Think Inquire, think critically, and gain know...</td>\n",
       "      <td>Create Draw conclusions, make informed decisio...</td>\n",
       "      <td>Share Share knowledge and participate ethicall...</td>\n",
       "      <td>Grow Pursue personal and aesthetic growth</td>\n",
       "      <td>Response</td>\n",
       "      <td>Open-Ended Response</td>\n",
       "      <td>Open-Ended Response</td>\n",
       "    </tr>\n",
       "    <tr>\n",
       "      <th>1</th>\n",
       "      <td>None of the above</td>\n",
       "      <td>NaN</td>\n",
       "      <td>NaN</td>\n",
       "      <td>NaN</td>\n",
       "      <td>NaN</td>\n",
       "      <td>NaN</td>\n",
       "      <td>NaN</td>\n",
       "      <td>NaN</td>\n",
       "      <td>NaN</td>\n",
       "      <td>NaN</td>\n",
       "      <td>...</td>\n",
       "      <td>NaN</td>\n",
       "      <td>NaN</td>\n",
       "      <td>NaN</td>\n",
       "      <td>NaN</td>\n",
       "      <td>NaN</td>\n",
       "      <td>NaN</td>\n",
       "      <td>NaN</td>\n",
       "      <td>NaN</td>\n",
       "      <td>NaN</td>\n",
       "      <td>NaN</td>\n",
       "    </tr>\n",
       "    <tr>\n",
       "      <th>2</th>\n",
       "      <td>None of the above</td>\n",
       "      <td>NaN</td>\n",
       "      <td>NaN</td>\n",
       "      <td>NaN</td>\n",
       "      <td>NaN</td>\n",
       "      <td>NaN</td>\n",
       "      <td>NaN</td>\n",
       "      <td>NaN</td>\n",
       "      <td>NaN</td>\n",
       "      <td>NaN</td>\n",
       "      <td>...</td>\n",
       "      <td>NaN</td>\n",
       "      <td>NaN</td>\n",
       "      <td>NaN</td>\n",
       "      <td>NaN</td>\n",
       "      <td>NaN</td>\n",
       "      <td>NaN</td>\n",
       "      <td>NaN</td>\n",
       "      <td>NaN</td>\n",
       "      <td>NaN</td>\n",
       "      <td>NaN</td>\n",
       "    </tr>\n",
       "    <tr>\n",
       "      <th>3</th>\n",
       "      <td>NaN</td>\n",
       "      <td>Teacher (e.g. educational faculty)</td>\n",
       "      <td>NaN</td>\n",
       "      <td>NaN</td>\n",
       "      <td>Instructional Facilitator/ Coach</td>\n",
       "      <td>NaN</td>\n",
       "      <td>Certified / licensed school librarian</td>\n",
       "      <td>NaN</td>\n",
       "      <td>NaN</td>\n",
       "      <td>NaN</td>\n",
       "      <td>...</td>\n",
       "      <td>NaN</td>\n",
       "      <td>NaN</td>\n",
       "      <td>NaN</td>\n",
       "      <td>NaN</td>\n",
       "      <td>NaN</td>\n",
       "      <td>NaN</td>\n",
       "      <td>NaN</td>\n",
       "      <td>NaN</td>\n",
       "      <td>NaN</td>\n",
       "      <td>NaN</td>\n",
       "    </tr>\n",
       "    <tr>\n",
       "      <th>4</th>\n",
       "      <td>NaN</td>\n",
       "      <td>Teacher (e.g. educational faculty)</td>\n",
       "      <td>NaN</td>\n",
       "      <td>NaN</td>\n",
       "      <td>NaN</td>\n",
       "      <td>NaN</td>\n",
       "      <td>Certified / licensed school librarian</td>\n",
       "      <td>Paraprofessional or other non-instructional staff</td>\n",
       "      <td>NaN</td>\n",
       "      <td>NaN</td>\n",
       "      <td>...</td>\n",
       "      <td>NaN</td>\n",
       "      <td>NaN</td>\n",
       "      <td>NaN</td>\n",
       "      <td>NaN</td>\n",
       "      <td>NaN</td>\n",
       "      <td>NaN</td>\n",
       "      <td>NaN</td>\n",
       "      <td>NaN</td>\n",
       "      <td>NaN</td>\n",
       "      <td>NaN</td>\n",
       "    </tr>\n",
       "  </tbody>\n",
       "</table>\n",
       "<p>5 rows × 96 columns</p>\n",
       "</div>"
      ],
      "text/plain": [
       "  Which of the following positions most closely reflects your job role? Please select all that apply.  \\\n",
       "0                                  None of the above                                                    \n",
       "1                                  None of the above                                                    \n",
       "2                                  None of the above                                                    \n",
       "3                                                NaN                                                    \n",
       "4                                                NaN                                                    \n",
       "\n",
       "                          Unnamed: 10                          Unnamed: 11  \\\n",
       "0  Teacher (e.g. educational faculty)  Support staff (e.g. teacher’s aide)   \n",
       "1                                 NaN                                  NaN   \n",
       "2                                 NaN                                  NaN   \n",
       "3  Teacher (e.g. educational faculty)                                  NaN   \n",
       "4  Teacher (e.g. educational faculty)                                  NaN   \n",
       "\n",
       "                                         Unnamed: 12  \\\n",
       "0  Building Level Technology (e.g. tech specialis...   \n",
       "1                                                NaN   \n",
       "2                                                NaN   \n",
       "3                                                NaN   \n",
       "4                                                NaN   \n",
       "\n",
       "                        Unnamed: 13  \\\n",
       "0  Instructional Facilitator/ Coach   \n",
       "1                               NaN   \n",
       "2                               NaN   \n",
       "3  Instructional Facilitator/ Coach   \n",
       "4                               NaN   \n",
       "\n",
       "  What does school library staffing look like in your place of work or the school(s) you support? Please select all that apply.  \\\n",
       "0                                  None of the above                                                                              \n",
       "1                                                NaN                                                                              \n",
       "2                                                NaN                                                                              \n",
       "3                                                NaN                                                                              \n",
       "4                                                NaN                                                                              \n",
       "\n",
       "                             Unnamed: 42  \\\n",
       "0  Certified / licensed school librarian   \n",
       "1                                    NaN   \n",
       "2                                    NaN   \n",
       "3  Certified / licensed school librarian   \n",
       "4  Certified / licensed school librarian   \n",
       "\n",
       "                                         Unnamed: 43  \\\n",
       "0  Paraprofessional or other non-instructional staff   \n",
       "1                                                NaN   \n",
       "2                                                NaN   \n",
       "3                                                NaN   \n",
       "4  Paraprofessional or other non-instructional staff   \n",
       "\n",
       "                     Unnamed: 44 Unnamed: 45  ...  \\\n",
       "0  Teacher on special assignment   Volunteer  ...   \n",
       "1                            NaN         NaN  ...   \n",
       "2                            NaN         NaN  ...   \n",
       "3                            NaN         NaN  ...   \n",
       "4                            NaN         NaN  ...   \n",
       "\n",
       "                                        Unnamed: 122  \\\n",
       "0  Curate Make meaning for oneself and others by ...   \n",
       "1                                                NaN   \n",
       "2                                                NaN   \n",
       "3                                                NaN   \n",
       "4                                                NaN   \n",
       "\n",
       "                                        Unnamed: 123  \\\n",
       "0  Explore Discover and innovate in a growth mind...   \n",
       "1                                                NaN   \n",
       "2                                                NaN   \n",
       "3                                                NaN   \n",
       "4                                                NaN   \n",
       "\n",
       "                                        Unnamed: 124  \\\n",
       "0  Engage Demonstrate safe, legal, and ethical cr...   \n",
       "1                                                NaN   \n",
       "2                                                NaN   \n",
       "3                                                NaN   \n",
       "4                                                NaN   \n",
       "\n",
       "  How often do you consider each of the AASL Standards Domains when collaborating with your school librarian?  \\\n",
       "0  Think Inquire, think critically, and gain know...                                                            \n",
       "1                                                NaN                                                            \n",
       "2                                                NaN                                                            \n",
       "3                                                NaN                                                            \n",
       "4                                                NaN                                                            \n",
       "\n",
       "                                        Unnamed: 126  \\\n",
       "0  Create Draw conclusions, make informed decisio...   \n",
       "1                                                NaN   \n",
       "2                                                NaN   \n",
       "3                                                NaN   \n",
       "4                                                NaN   \n",
       "\n",
       "                                        Unnamed: 127  \\\n",
       "0  Share Share knowledge and participate ethicall...   \n",
       "1                                                NaN   \n",
       "2                                                NaN   \n",
       "3                                                NaN   \n",
       "4                                                NaN   \n",
       "\n",
       "                                Unnamed: 128  \\\n",
       "0  Grow Pursue personal and aesthetic growth   \n",
       "1                                        NaN   \n",
       "2                                        NaN   \n",
       "3                                        NaN   \n",
       "4                                        NaN   \n",
       "\n",
       "  Overall, how would you rate AASL’s efforts to set and maintain up-to-date and practical standards and supporting resources?  \\\n",
       "0                                           Response                                                                            \n",
       "1                                                NaN                                                                            \n",
       "2                                                NaN                                                                            \n",
       "3                                                NaN                                                                            \n",
       "4                                                NaN                                                                            \n",
       "\n",
       "  For what reason did you give that rating? Please explain your thinking..1  \\\n",
       "0                                Open-Ended Response                          \n",
       "1                                                NaN                          \n",
       "2                                                NaN                          \n",
       "3                                                NaN                          \n",
       "4                                                NaN                          \n",
       "\n",
       "  What additional supports would have been helpful to you when you first encountered the National School Library Standards?  \n",
       "0                                Open-Ended Response                                                                         \n",
       "1                                                NaN                                                                         \n",
       "2                                                NaN                                                                         \n",
       "3                                                NaN                                                                         \n",
       "4                                                NaN                                                                         \n",
       "\n",
       "[5 rows x 96 columns]"
      ]
     },
     "execution_count": 11,
     "metadata": {},
     "output_type": "execute_result"
    }
   ],
   "source": [
    "df_c.head()"
   ]
  },
  {
   "cell_type": "code",
   "execution_count": 12,
   "metadata": {},
   "outputs": [],
   "source": [
    "df_c.rename(columns={df_c.columns[0]: 'q1_none', # Q1\n",
    "                     df_c.columns[1]: 'q1_teacher',\n",
    "                     df_c.columns[2]: 'q1_support_staff',\n",
    "                     df_c.columns[3]: 'q1_technology',\n",
    "                     df_c.columns[4]: 'q1_facilitator',\n",
    "\n",
    "                     df_c.columns[5]: 'q5_none', # Q5\n",
    "                     df_c.columns[6]: 'q5_certified',\n",
    "                     df_c.columns[7]: 'q5_noninstructional',\n",
    "                     df_c.columns[8]: 'q5_special_teacher',\n",
    "                     df_c.columns[9]: 'q5_volunteer',\n",
    "                     df_c.columns[10]: 'q5_not_sure',\n",
    "\n",
    "                     df_c.columns[11]: 'q6_how_often', # Q6\n",
    "                     df_c.columns[12]: 'q7_main_reason', # Q7\n",
    "\n",
    "                     df_c.columns[13]: 'q8_provide_resources', # Q8\n",
    "                     df_c.columns[14]: 'q8_support_lessons',\n",
    "                     df_c.columns[15]: 'q8_plan_instructional_units',\n",
    "                     df_c.columns[16]: 'q8_deliver_instruction',\n",
    "                     df_c.columns[17]: 'q8_assess',\n",
    "                     df_c.columns[18]: 'q8_special_events',\n",
    "                     df_c.columns[19]: 'q8_others',\n",
    "\n",
    "                     df_c.columns[20]: 'q9_initiate', # Q9\n",
    "                     df_c.columns[21]: 'q9_others',\n",
    "\n",
    "                     df_c.columns[22]: 'q10_librarians_contribution', # Q10\n",
    "\n",
    "                     df_c.columns[23]: 'q11_none', # Q11\n",
    "                     df_c.columns[24]: 'q11_content_department_meetings',\n",
    "                     df_c.columns[25]: 'q11_grade_level_meetings',\n",
    "                     df_c.columns[26]: 'q11_curriculum_planning',\n",
    "                     df_c.columns[27]: 'q11_instruction_and_teaching',\n",
    "                     df_c.columns[28]: 'q11_others'}\n",
    "                     , inplace=True)"
   ]
  },
  {
   "cell_type": "code",
   "execution_count": 13,
   "metadata": {},
   "outputs": [],
   "source": [
    "df_c.rename(columns={df_c.columns[29]: 'q12_no', # Q12\n",
    "                     df_c.columns[30]: 'q12_yes_purchase',\n",
    "                     df_c.columns[31]: 'q12_yes_from_workplace',\n",
    "                     df_c.columns[32]: 'q12_yes_from_librarian',\n",
    "                     df_c.columns[33]: 'q12_yes_not_own',\n",
    "                     df_c.columns[34]: 'q12_others',\n",
    "\n",
    "                     df_c.columns[35]: 'q13_no', # Q13\n",
    "                     df_c.columns[36]: 'q13_yes_purchase',\n",
    "                     df_c.columns[37]: 'q13_yes_from_workplace',\n",
    "                     df_c.columns[38]: 'q13_yes_from_librarian',\n",
    "                     df_c.columns[39]: 'q13_yes_not_own',\n",
    "                     df_c.columns[40]: 'q13_others',\n",
    "\n",
    "                     df_c.columns[41]: 'q14_how_familiar', # Q14\n",
    "                     df_c.columns[42]: 'q15_rate', # Q15\n",
    "                     df_c.columns[43]: 'q16_poor_rating_reason', # Q16\n",
    "\n",
    "                     df_c.columns[44]: 'q17_valuable', # Q17\n",
    "                     df_c.columns[45]: 'q17_relevant',\n",
    "                     df_c.columns[46]: 'q17_practical',\n",
    "                     df_c.columns[47]: 'q17_useful',\n",
    "                     df_c.columns[48]: 'q17_easy_to_use',\n",
    "                     df_c.columns[49]: 'q17_easy_to_understand',\n",
    "                     df_c.columns[50]: 'q17_well_written',\n",
    "                     df_c.columns[51]: 'q17_nicely_designed',\n",
    "                     df_c.columns[52]: 'q17_well_organized',\n",
    "                     df_c.columns[53]: 'q17_ADA_accessible',\n",
    "\n",
    "                     df_c.columns[54]: 'q18_mirror_other_standards.', # Q18\n",
    "                     df_c.columns[55]: 'q18_crosswalk_with_other_standards',\n",
    "                     df_c.columns[56]: 'q18_align_educational_outlook'}\n",
    "                     , inplace=True)"
   ]
  },
  {
   "cell_type": "code",
   "execution_count": 14,
   "metadata": {},
   "outputs": [],
   "source": [
    "df_c.rename(columns={df_c.columns[57]: 'q19_unique_and_essential', # Q19\n",
    "                     df_c.columns[58]: 'q19_effective',\n",
    "                     df_c.columns[59]: 'q19_prepared',\n",
    "                     df_c.columns[60]: 'q19_reading',\n",
    "                     df_c.columns[61]: 'q19_intellectual_freedom',\n",
    "                     df_c.columns[62]: 'q19_equitably_available',\n",
    "\n",
    "                     df_c.columns[63]: 'q20_librarian_using', # Q20\n",
    "\n",
    "                     df_c.columns[64]: 'q21_none', # Q21\n",
    "                     df_c.columns[65]: 'q21_lesson_preparation_and_assessment',\n",
    "                     df_c.columns[66]: 'q21_learning_opportunities_for_educators',\n",
    "                     df_c.columns[67]: 'q21_collaboration_with_teacher',\n",
    "                     df_c.columns[68]: 'q21_with_other_educators',\n",
    "                     df_c.columns[69]: 'q21_with_external_stakeholders',\n",
    "                     df_c.columns[70]: 'q21_with_parents',\n",
    "                     df_c.columns[71]: 'q21_demonstrate_learner_success',\n",
    "                     df_c.columns[72]: 'q21_guide_instructional_priorities',\n",
    "                     df_c.columns[73]: 'q21_develop_curriculum',\n",
    "                     df_c.columns[74]: 'q21_advocate_for_school_library',\n",
    "                     df_c.columns[75]: 'q21_advocate_for_learners',\n",
    "                     df_c.columns[76]: 'q21_increase_understanding_of_school_librarian',\n",
    "                     df_c.columns[77]: 'q21_others',\n",
    "\n",
    "                     df_c.columns[78]: 'q22_collaboration_aids', # Q22\n",
    "                     df_c.columns[79]: 'q23_refer_to_standards', # Q23\n",
    "\n",
    "                     df_c.columns[80]: 'q24_for_learners', # Q24\n",
    "                     df_c.columns[81]: 'q24_for_school_librarians',\n",
    "                     df_c.columns[82]: 'q24_for_school_libraries'}\n",
    "                     , inplace=True)"
   ]
  },
  {
   "cell_type": "code",
   "execution_count": 15,
   "metadata": {},
   "outputs": [],
   "source": [
    "df_c.rename(columns={df_c.columns[83]: 'q25_inquire', # Q25\n",
    "                     df_c.columns[84]: 'q25_include',\n",
    "                     df_c.columns[85]: 'q25_collaborate',\n",
    "                     df_c.columns[86]: 'q25_curate',\n",
    "                     df_c.columns[87]: 'q25_explore',\n",
    "                     df_c.columns[88]: 'q25_engage',\n",
    "\n",
    "                     df_c.columns[89]: 'q26_think', # Q26\n",
    "                     df_c.columns[90]: 'q26_create',\n",
    "                     df_c.columns[91]: 'q26_share',\n",
    "                     df_c.columns[92]: 'q26_grow',\n",
    "\n",
    "                     df_c.columns[93]: 'q27_rate_support_materials', # Q27\n",
    "                     df_c.columns[94]: 'q28_poor_support_reason', # Q28\n",
    "                     df_c.columns[95]: 'q29_additional_support'} # Q29\n",
    "                     , inplace=True)"
   ]
  },
  {
   "cell_type": "code",
   "execution_count": 16,
   "metadata": {},
   "outputs": [],
   "source": [
    "df_c = df_c.iloc[1:].reset_index(drop=True)"
   ]
  },
  {
   "cell_type": "code",
   "execution_count": 17,
   "metadata": {},
   "outputs": [
    {
     "data": {
      "text/html": [
       "<div>\n",
       "<style scoped>\n",
       "    .dataframe tbody tr th:only-of-type {\n",
       "        vertical-align: middle;\n",
       "    }\n",
       "\n",
       "    .dataframe tbody tr th {\n",
       "        vertical-align: top;\n",
       "    }\n",
       "\n",
       "    .dataframe thead th {\n",
       "        text-align: right;\n",
       "    }\n",
       "</style>\n",
       "<table border=\"1\" class=\"dataframe\">\n",
       "  <thead>\n",
       "    <tr style=\"text-align: right;\">\n",
       "      <th></th>\n",
       "      <th>q1_none</th>\n",
       "      <th>q1_teacher</th>\n",
       "      <th>q1_support_staff</th>\n",
       "      <th>q1_technology</th>\n",
       "      <th>q1_facilitator</th>\n",
       "      <th>q5_none</th>\n",
       "      <th>q5_certified</th>\n",
       "      <th>q5_noninstructional</th>\n",
       "      <th>q5_special_teacher</th>\n",
       "      <th>q5_volunteer</th>\n",
       "      <th>...</th>\n",
       "      <th>q25_curate</th>\n",
       "      <th>q25_explore</th>\n",
       "      <th>q25_engage</th>\n",
       "      <th>q26_think</th>\n",
       "      <th>q26_create</th>\n",
       "      <th>q26_share</th>\n",
       "      <th>q26_grow</th>\n",
       "      <th>q27_rate_support_materials</th>\n",
       "      <th>q28_poor_support_reason</th>\n",
       "      <th>q29_additional_support</th>\n",
       "    </tr>\n",
       "  </thead>\n",
       "  <tbody>\n",
       "    <tr>\n",
       "      <th>0</th>\n",
       "      <td>None of the above</td>\n",
       "      <td>NaN</td>\n",
       "      <td>NaN</td>\n",
       "      <td>NaN</td>\n",
       "      <td>NaN</td>\n",
       "      <td>NaN</td>\n",
       "      <td>NaN</td>\n",
       "      <td>NaN</td>\n",
       "      <td>NaN</td>\n",
       "      <td>NaN</td>\n",
       "      <td>...</td>\n",
       "      <td>NaN</td>\n",
       "      <td>NaN</td>\n",
       "      <td>NaN</td>\n",
       "      <td>NaN</td>\n",
       "      <td>NaN</td>\n",
       "      <td>NaN</td>\n",
       "      <td>NaN</td>\n",
       "      <td>NaN</td>\n",
       "      <td>NaN</td>\n",
       "      <td>NaN</td>\n",
       "    </tr>\n",
       "    <tr>\n",
       "      <th>1</th>\n",
       "      <td>None of the above</td>\n",
       "      <td>NaN</td>\n",
       "      <td>NaN</td>\n",
       "      <td>NaN</td>\n",
       "      <td>NaN</td>\n",
       "      <td>NaN</td>\n",
       "      <td>NaN</td>\n",
       "      <td>NaN</td>\n",
       "      <td>NaN</td>\n",
       "      <td>NaN</td>\n",
       "      <td>...</td>\n",
       "      <td>NaN</td>\n",
       "      <td>NaN</td>\n",
       "      <td>NaN</td>\n",
       "      <td>NaN</td>\n",
       "      <td>NaN</td>\n",
       "      <td>NaN</td>\n",
       "      <td>NaN</td>\n",
       "      <td>NaN</td>\n",
       "      <td>NaN</td>\n",
       "      <td>NaN</td>\n",
       "    </tr>\n",
       "    <tr>\n",
       "      <th>2</th>\n",
       "      <td>NaN</td>\n",
       "      <td>Teacher (e.g. educational faculty)</td>\n",
       "      <td>NaN</td>\n",
       "      <td>NaN</td>\n",
       "      <td>Instructional Facilitator/ Coach</td>\n",
       "      <td>NaN</td>\n",
       "      <td>Certified / licensed school librarian</td>\n",
       "      <td>NaN</td>\n",
       "      <td>NaN</td>\n",
       "      <td>NaN</td>\n",
       "      <td>...</td>\n",
       "      <td>NaN</td>\n",
       "      <td>NaN</td>\n",
       "      <td>NaN</td>\n",
       "      <td>NaN</td>\n",
       "      <td>NaN</td>\n",
       "      <td>NaN</td>\n",
       "      <td>NaN</td>\n",
       "      <td>NaN</td>\n",
       "      <td>NaN</td>\n",
       "      <td>NaN</td>\n",
       "    </tr>\n",
       "    <tr>\n",
       "      <th>3</th>\n",
       "      <td>NaN</td>\n",
       "      <td>Teacher (e.g. educational faculty)</td>\n",
       "      <td>NaN</td>\n",
       "      <td>NaN</td>\n",
       "      <td>NaN</td>\n",
       "      <td>NaN</td>\n",
       "      <td>Certified / licensed school librarian</td>\n",
       "      <td>Paraprofessional or other non-instructional staff</td>\n",
       "      <td>NaN</td>\n",
       "      <td>NaN</td>\n",
       "      <td>...</td>\n",
       "      <td>NaN</td>\n",
       "      <td>NaN</td>\n",
       "      <td>NaN</td>\n",
       "      <td>NaN</td>\n",
       "      <td>NaN</td>\n",
       "      <td>NaN</td>\n",
       "      <td>NaN</td>\n",
       "      <td>NaN</td>\n",
       "      <td>NaN</td>\n",
       "      <td>NaN</td>\n",
       "    </tr>\n",
       "    <tr>\n",
       "      <th>4</th>\n",
       "      <td>NaN</td>\n",
       "      <td>NaN</td>\n",
       "      <td>NaN</td>\n",
       "      <td>Building Level Technology (e.g. tech specialis...</td>\n",
       "      <td>NaN</td>\n",
       "      <td>NaN</td>\n",
       "      <td>Certified / licensed school librarian</td>\n",
       "      <td>NaN</td>\n",
       "      <td>NaN</td>\n",
       "      <td>NaN</td>\n",
       "      <td>...</td>\n",
       "      <td>NaN</td>\n",
       "      <td>NaN</td>\n",
       "      <td>NaN</td>\n",
       "      <td>NaN</td>\n",
       "      <td>NaN</td>\n",
       "      <td>NaN</td>\n",
       "      <td>NaN</td>\n",
       "      <td>NaN</td>\n",
       "      <td>NaN</td>\n",
       "      <td>NaN</td>\n",
       "    </tr>\n",
       "  </tbody>\n",
       "</table>\n",
       "<p>5 rows × 96 columns</p>\n",
       "</div>"
      ],
      "text/plain": [
       "             q1_none                          q1_teacher q1_support_staff  \\\n",
       "0  None of the above                                 NaN              NaN   \n",
       "1  None of the above                                 NaN              NaN   \n",
       "2                NaN  Teacher (e.g. educational faculty)              NaN   \n",
       "3                NaN  Teacher (e.g. educational faculty)              NaN   \n",
       "4                NaN                                 NaN              NaN   \n",
       "\n",
       "                                       q1_technology  \\\n",
       "0                                                NaN   \n",
       "1                                                NaN   \n",
       "2                                                NaN   \n",
       "3                                                NaN   \n",
       "4  Building Level Technology (e.g. tech specialis...   \n",
       "\n",
       "                     q1_facilitator q5_none  \\\n",
       "0                               NaN     NaN   \n",
       "1                               NaN     NaN   \n",
       "2  Instructional Facilitator/ Coach     NaN   \n",
       "3                               NaN     NaN   \n",
       "4                               NaN     NaN   \n",
       "\n",
       "                            q5_certified  \\\n",
       "0                                    NaN   \n",
       "1                                    NaN   \n",
       "2  Certified / licensed school librarian   \n",
       "3  Certified / licensed school librarian   \n",
       "4  Certified / licensed school librarian   \n",
       "\n",
       "                                 q5_noninstructional q5_special_teacher  \\\n",
       "0                                                NaN                NaN   \n",
       "1                                                NaN                NaN   \n",
       "2                                                NaN                NaN   \n",
       "3  Paraprofessional or other non-instructional staff                NaN   \n",
       "4                                                NaN                NaN   \n",
       "\n",
       "  q5_volunteer  ... q25_curate q25_explore q25_engage q26_think q26_create  \\\n",
       "0          NaN  ...        NaN         NaN        NaN       NaN        NaN   \n",
       "1          NaN  ...        NaN         NaN        NaN       NaN        NaN   \n",
       "2          NaN  ...        NaN         NaN        NaN       NaN        NaN   \n",
       "3          NaN  ...        NaN         NaN        NaN       NaN        NaN   \n",
       "4          NaN  ...        NaN         NaN        NaN       NaN        NaN   \n",
       "\n",
       "  q26_share q26_grow q27_rate_support_materials q28_poor_support_reason  \\\n",
       "0       NaN      NaN                        NaN                     NaN   \n",
       "1       NaN      NaN                        NaN                     NaN   \n",
       "2       NaN      NaN                        NaN                     NaN   \n",
       "3       NaN      NaN                        NaN                     NaN   \n",
       "4       NaN      NaN                        NaN                     NaN   \n",
       "\n",
       "  q29_additional_support  \n",
       "0                    NaN  \n",
       "1                    NaN  \n",
       "2                    NaN  \n",
       "3                    NaN  \n",
       "4                    NaN  \n",
       "\n",
       "[5 rows x 96 columns]"
      ]
     },
     "execution_count": 17,
     "metadata": {},
     "output_type": "execute_result"
    }
   ],
   "source": [
    "df_c.head()"
   ]
  },
  {
   "cell_type": "code",
   "execution_count": 18,
   "metadata": {},
   "outputs": [],
   "source": [
    "# Drop the first column\n",
    "df_c = df_c.iloc[:, 1:]\n",
    "\n",
    "# Drop rows with all NaN values\n",
    "df_c = df_c.dropna(how='all')"
   ]
  },
  {
   "cell_type": "code",
   "execution_count": 19,
   "metadata": {},
   "outputs": [
    {
     "data": {
      "text/plain": [
       "(34, 95)"
      ]
     },
     "execution_count": 19,
     "metadata": {},
     "output_type": "execute_result"
    }
   ],
   "source": [
    "df_c.shape"
   ]
  },
  {
   "cell_type": "code",
   "execution_count": 20,
   "metadata": {},
   "outputs": [],
   "source": [
    "# Q17 - Replace extreme values with corresponding integers\n",
    "df_c_q17 = df_c.iloc[:, [0] + list(range(43, 53))].dropna(\n",
    "    subset=df_c.columns[43:53], how='all')\n",
    "\n",
    "df_c_q17.iloc[:, 1:11] = df_c_q17.iloc[:, 1:11].replace({\n",
    "        'Describes completely': 6,\n",
    "        '2': 5,\n",
    "        '3': 4,\n",
    "        '4': 3,\n",
    "        '5': 2,\n",
    "        'Does not describe at all': 0\n",
    "    }).astype(int)"
   ]
  },
  {
   "cell_type": "code",
   "execution_count": 21,
   "metadata": {},
   "outputs": [],
   "source": [
    "# Q18 - Two-extremes rescale\n",
    "df_c_q18 = df_c.iloc[:, [0] + list(range(53, 56))].dropna(\n",
    "    subset=df_c.columns[53:56], how='all')\n",
    "\n",
    "df_c_q18.iloc[:, 1:4] = df_c_q18.iloc[:, 1:4].replace({\n",
    "    \"Strongly agree\": 2,\n",
    "    \"Somewhat agree\": 1,\n",
    "    \"Somewhat disagree\": -1,\n",
    "    \"Strongly disagree\": -2\n",
    "}).astype(int)"
   ]
  },
  {
   "cell_type": "code",
   "execution_count": 22,
   "metadata": {},
   "outputs": [],
   "source": [
    "# Q19 - Two-extremes rescale\n",
    "df_c_q19 = df_c.iloc[:, [0] + list(range(56, 62))].dropna(\n",
    "    subset=df_c.columns[56:62], how='all')\n",
    "\n",
    "df_c_q19.iloc[:, 1:7] = df_c_q19.iloc[:, 1:7].replace({\n",
    "    \"Strongly agree\": 2,\n",
    "    \"Somewhat agree\": 1,\n",
    "    \"Somewhat disagree\": -1,\n",
    "    \"Strongly disagree\": -2\n",
    "}).astype(int)"
   ]
  },
  {
   "cell_type": "code",
   "execution_count": 23,
   "metadata": {},
   "outputs": [],
   "source": [
    "# Q24 - Four levels\n",
    "df_c_q24 = df_c.iloc[:, [0] + list(range(79, 82))].dropna(\n",
    "    subset=df_c.columns[79:82], how='all')\n",
    "\n",
    "df_c_q24.iloc[:, 1:4] = df_c_q24.iloc[:, 1:4].replace({\n",
    "    \"All the time\": 3,\n",
    "    \"Sometimes\": 2,\n",
    "    \"Rarely\": 1,\n",
    "    \"Never\": 0,\n",
    "}).astype(int)"
   ]
  },
  {
   "cell_type": "code",
   "execution_count": 24,
   "metadata": {},
   "outputs": [],
   "source": [
    "# Q25 - Four levels\n",
    "df_c_q25 = df_c.iloc[:, [0] + list(range(82, 88))].dropna(\n",
    "    subset=df_c.columns[82:88], how='all')\n",
    "\n",
    "df_c_q25.iloc[:, 1:7] = df_c_q25.iloc[:, 1:7].replace({\n",
    "    \"All the time\": 3,\n",
    "    \"Sometimes\": 2,\n",
    "    \"Rarely\": 1,\n",
    "    \"Never\": 0,\n",
    "}).astype(int)"
   ]
  },
  {
   "cell_type": "code",
   "execution_count": 25,
   "metadata": {},
   "outputs": [],
   "source": [
    "# Q26 - Four levels\n",
    "df_c_q26 = df_c.iloc[:, [0] + list(range(88, 92))].dropna(\n",
    "    subset=df_c.columns[88:92], how='all')\n",
    "\n",
    "df_c_q26.iloc[:, 1:5] = df_c_q26.iloc[:, 1:5].replace({\n",
    "    \"All the time\": 3,\n",
    "    \"Sometimes\": 2,\n",
    "    \"Rarely\": 1,\n",
    "    \"Never\": 0,\n",
    "}).astype(int)"
   ]
  },
  {
   "cell_type": "code",
   "execution_count": 26,
   "metadata": {},
   "outputs": [],
   "source": [
    "# OneHot encode\n",
    "df_c.iloc[:, 0:4] = df_c.iloc[:, 0:4].notna().astype(int) # Q1\n",
    "df_c.iloc[:, 4:10] = df_c.iloc[:, 4:10].notna().astype(int) # Q5\n",
    "df_c.iloc[:, 12:18] = df_c.iloc[:, 12:18].notna().astype(int) # Q8\n",
    "df_c.iloc[:, 22:27] = df_c.iloc[:, 22:27].notna().astype(int) # Q11\n",
    "df_c.iloc[:, 28:33] = df_c.iloc[:, 28:33].notna().astype(int) # Q12\n",
    "df_c.iloc[:, 34:39] = df_c.iloc[:, 34:39].notna().astype(int) # Q13\n",
    "df_c.iloc[:, 63:76] = df_c.iloc[:, 63:76].notna().astype(int) # Q21"
   ]
  },
  {
   "cell_type": "markdown",
   "metadata": {},
   "source": [
    "## Analysis"
   ]
  },
  {
   "cell_type": "markdown",
   "metadata": {},
   "source": [
    "`q1`: Which of the following positions most closely reflects your job role? Please select all that apply."
   ]
  },
  {
   "cell_type": "code",
   "execution_count": 27,
   "metadata": {},
   "outputs": [
    {
     "name": "stdout",
     "output_type": "stream",
     "text": [
      "q1_teacher          27\n",
      "q1_support_staff     4\n",
      "q1_technology        2\n",
      "q1_facilitator       5\n",
      "dtype: object\n"
     ]
    }
   ],
   "source": [
    "q1_distribution = df_c.iloc[:, 0:4].sum()\n",
    "print(q1_distribution)"
   ]
  },
  {
   "cell_type": "code",
   "execution_count": 28,
   "metadata": {},
   "outputs": [
    {
     "name": "stdout",
     "output_type": "stream",
     "text": [
      "Percentage:\n",
      " q1_teacher          71.052632\n",
      "q1_support_staff    10.526316\n",
      "q1_technology        5.263158\n",
      "q1_facilitator      13.157895\n",
      "dtype: object\n"
     ]
    }
   ],
   "source": [
    "# Calculate the percentage\n",
    "q1_percentage = (q1_distribution / q1_distribution.sum()) * 100\n",
    "print(\"Percentage:\\n\", q1_percentage)"
   ]
  },
  {
   "cell_type": "code",
   "execution_count": 29,
   "metadata": {},
   "outputs": [
    {
     "name": "stdout",
     "output_type": "stream",
     "text": [
      "Number of multiple choices: 4\n",
      "Choices for those selecting multiple options:\n",
      "   q1_teacher q1_support_staff q1_technology q1_facilitator\n",
      "2           1                0             0              1\n",
      "21          1                0             0              1\n",
      "28          1                0             0              1\n",
      "29          1                0             0              1\n"
     ]
    }
   ],
   "source": [
    "# Calculate the number of multiple choices\n",
    "multiple_choices = (df_c.iloc[:, 0:4].sum(axis=1) > 1).sum()\n",
    "print(\"Number of multiple choices:\", multiple_choices)\n",
    "\n",
    "# Filter rows where multiple choices were made\n",
    "multiple_choices_rows = df_c[df_c.iloc[:, 0:4].sum(axis=1) > 1]\n",
    "print(\"Choices for those selecting multiple options:\")\n",
    "print(multiple_choices_rows.iloc[:, 0:4])"
   ]
  },
  {
   "cell_type": "markdown",
   "metadata": {},
   "source": [
    "- There are 34 respondents at all.\n",
    "\n",
    "- There are 4 respondents replying multiple options, and they chose 'Teacher (e.g. educational faculty)' and 'Instructional Facilitator/Coach'."
   ]
  },
  {
   "cell_type": "markdown",
   "metadata": {},
   "source": [
    "### Utilization"
   ]
  },
  {
   "cell_type": "markdown",
   "metadata": {},
   "source": [
    "`q12`: Here is an image of the National School Library Standards for Learners, School Librarians, and School Libraries [book] produced by the American Association of School Librarians (AASL)? Please indicate whether you have seen this document before today or have a copy of this document. Please select all that apply."
   ]
  },
  {
   "cell_type": "code",
   "execution_count": 30,
   "metadata": {},
   "outputs": [
    {
     "data": {
      "text/html": [
       "<div>\n",
       "<style scoped>\n",
       "    .dataframe tbody tr th:only-of-type {\n",
       "        vertical-align: middle;\n",
       "    }\n",
       "\n",
       "    .dataframe tbody tr th {\n",
       "        vertical-align: top;\n",
       "    }\n",
       "\n",
       "    .dataframe thead th {\n",
       "        text-align: right;\n",
       "    }\n",
       "</style>\n",
       "<table border=\"1\" class=\"dataframe\">\n",
       "  <thead>\n",
       "    <tr style=\"text-align: right;\">\n",
       "      <th></th>\n",
       "      <th>Count</th>\n",
       "      <th>Percentage</th>\n",
       "    </tr>\n",
       "  </thead>\n",
       "  <tbody>\n",
       "    <tr>\n",
       "      <th>q12_no</th>\n",
       "      <td>8</td>\n",
       "      <td>34.782609</td>\n",
       "    </tr>\n",
       "    <tr>\n",
       "      <th>q12_yes_not_own</th>\n",
       "      <td>8</td>\n",
       "      <td>34.782609</td>\n",
       "    </tr>\n",
       "    <tr>\n",
       "      <th>q12_yes_purchase</th>\n",
       "      <td>4</td>\n",
       "      <td>17.391304</td>\n",
       "    </tr>\n",
       "    <tr>\n",
       "      <th>q12_yes_from_librarian</th>\n",
       "      <td>2</td>\n",
       "      <td>8.695652</td>\n",
       "    </tr>\n",
       "    <tr>\n",
       "      <th>q12_yes_from_workplace</th>\n",
       "      <td>1</td>\n",
       "      <td>4.347826</td>\n",
       "    </tr>\n",
       "  </tbody>\n",
       "</table>\n",
       "</div>"
      ],
      "text/plain": [
       "                       Count Percentage\n",
       "q12_no                     8  34.782609\n",
       "q12_yes_not_own            8  34.782609\n",
       "q12_yes_purchase           4  17.391304\n",
       "q12_yes_from_librarian     2   8.695652\n",
       "q12_yes_from_workplace     1   4.347826"
      ]
     },
     "execution_count": 30,
     "metadata": {},
     "output_type": "execute_result"
    }
   ],
   "source": [
    "df_c_q12 = df_c.iloc[:, 28:33]\n",
    "counts = df_c_q12.sum()\n",
    "percentages = (counts / 23) * 100\n",
    "\n",
    "result = pd.DataFrame({\n",
    "    'Count': counts,\n",
    "    'Percentage': percentages\n",
    "})\n",
    "\n",
    "result.sort_values(by='Count', ascending=False, inplace=True)\n",
    "result"
   ]
  },
  {
   "cell_type": "markdown",
   "metadata": {},
   "source": [
    "- One-third (8 of 23) have never seen the AASL Standards before — a notable awareness gap.\n",
    "\n",
    "- Another one-third (8 of 23) have seen it but don’t own a copy, indicating passive exposure.\n",
    "\n",
    "- Only a small number actually own the document: 4 purchased it, 1 received it from their workplace, and 2 from a librarian."
   ]
  },
  {
   "cell_type": "markdown",
   "metadata": {},
   "source": [
    "`q13`: Here is an image of the AASL Standards Framework for Learners [pamphlet] produced by the American Association of School Librarians (AASL)? Please indicate whether you have seen this document before today or have a copy of this document. Please select all that apply."
   ]
  },
  {
   "cell_type": "code",
   "execution_count": 31,
   "metadata": {},
   "outputs": [
    {
     "data": {
      "text/html": [
       "<div>\n",
       "<style scoped>\n",
       "    .dataframe tbody tr th:only-of-type {\n",
       "        vertical-align: middle;\n",
       "    }\n",
       "\n",
       "    .dataframe tbody tr th {\n",
       "        vertical-align: top;\n",
       "    }\n",
       "\n",
       "    .dataframe thead th {\n",
       "        text-align: right;\n",
       "    }\n",
       "</style>\n",
       "<table border=\"1\" class=\"dataframe\">\n",
       "  <thead>\n",
       "    <tr style=\"text-align: right;\">\n",
       "      <th></th>\n",
       "      <th>Count</th>\n",
       "      <th>Percentage</th>\n",
       "    </tr>\n",
       "  </thead>\n",
       "  <tbody>\n",
       "    <tr>\n",
       "      <th>q13_no</th>\n",
       "      <td>11</td>\n",
       "      <td>47.826087</td>\n",
       "    </tr>\n",
       "    <tr>\n",
       "      <th>q13_yes_not_own</th>\n",
       "      <td>7</td>\n",
       "      <td>30.434783</td>\n",
       "    </tr>\n",
       "    <tr>\n",
       "      <th>q13_yes_from_workplace</th>\n",
       "      <td>2</td>\n",
       "      <td>8.695652</td>\n",
       "    </tr>\n",
       "    <tr>\n",
       "      <th>q13_yes_from_librarian</th>\n",
       "      <td>2</td>\n",
       "      <td>8.695652</td>\n",
       "    </tr>\n",
       "    <tr>\n",
       "      <th>q13_yes_purchase</th>\n",
       "      <td>1</td>\n",
       "      <td>4.347826</td>\n",
       "    </tr>\n",
       "  </tbody>\n",
       "</table>\n",
       "</div>"
      ],
      "text/plain": [
       "                       Count Percentage\n",
       "q13_no                    11  47.826087\n",
       "q13_yes_not_own            7  30.434783\n",
       "q13_yes_from_workplace     2   8.695652\n",
       "q13_yes_from_librarian     2   8.695652\n",
       "q13_yes_purchase           1   4.347826"
      ]
     },
     "execution_count": 31,
     "metadata": {},
     "output_type": "execute_result"
    }
   ],
   "source": [
    "df_c_q13 = df_c.iloc[:, 34:39]\n",
    "counts = df_c_q13.sum()\n",
    "percentages = (counts / 23) * 100\n",
    "\n",
    "result = pd.DataFrame({\n",
    "    'Count': counts,\n",
    "    'Percentage': percentages\n",
    "})\n",
    "\n",
    "result.sort_values(by='Count', ascending=False, inplace=True)\n",
    "result"
   ]
  },
  {
   "cell_type": "markdown",
   "metadata": {},
   "source": [
    "- Nearly half (48%) of respondents have never seen the pamphlet — slightly higher than for the book.\n",
    "\n",
    "- Only 5 of 23 (21.75%) have any kind of copy — suggesting the pamphlet may be less distributed or less visible.\n",
    "\n",
    "- Awareness without ownership is again notable — 30% have seen it but don’t have it."
   ]
  },
  {
   "cell_type": "markdown",
   "metadata": {},
   "source": [
    "`q14`: How familiar are you with the content of the National School Library Standards for Learners, School Librarians, and School Libraries?"
   ]
  },
  {
   "cell_type": "code",
   "execution_count": 32,
   "metadata": {},
   "outputs": [
    {
     "data": {
      "text/html": [
       "<div>\n",
       "<style scoped>\n",
       "    .dataframe tbody tr th:only-of-type {\n",
       "        vertical-align: middle;\n",
       "    }\n",
       "\n",
       "    .dataframe tbody tr th {\n",
       "        vertical-align: top;\n",
       "    }\n",
       "\n",
       "    .dataframe thead th {\n",
       "        text-align: right;\n",
       "    }\n",
       "</style>\n",
       "<table border=\"1\" class=\"dataframe\">\n",
       "  <thead>\n",
       "    <tr style=\"text-align: right;\">\n",
       "      <th></th>\n",
       "      <th>Count</th>\n",
       "      <th>Percentage</th>\n",
       "    </tr>\n",
       "    <tr>\n",
       "      <th>q14_how_familiar</th>\n",
       "      <th></th>\n",
       "      <th></th>\n",
       "    </tr>\n",
       "  </thead>\n",
       "  <tbody>\n",
       "    <tr>\n",
       "      <th>Not at all familiar</th>\n",
       "      <td>8</td>\n",
       "      <td>34.782609</td>\n",
       "    </tr>\n",
       "    <tr>\n",
       "      <th>Not too familiar</th>\n",
       "      <td>7</td>\n",
       "      <td>30.434783</td>\n",
       "    </tr>\n",
       "    <tr>\n",
       "      <th>Somewhat familiar</th>\n",
       "      <td>5</td>\n",
       "      <td>21.739130</td>\n",
       "    </tr>\n",
       "    <tr>\n",
       "      <th>Very familiar</th>\n",
       "      <td>3</td>\n",
       "      <td>13.043478</td>\n",
       "    </tr>\n",
       "  </tbody>\n",
       "</table>\n",
       "</div>"
      ],
      "text/plain": [
       "                     Count  Percentage\n",
       "q14_how_familiar                      \n",
       "Not at all familiar      8   34.782609\n",
       "Not too familiar         7   30.434783\n",
       "Somewhat familiar        5   21.739130\n",
       "Very familiar            3   13.043478"
      ]
     },
     "execution_count": 32,
     "metadata": {},
     "output_type": "execute_result"
    }
   ],
   "source": [
    "value_counts = df_c.iloc[:, 40].value_counts()\n",
    "percentage = (value_counts / value_counts.sum()) * 100\n",
    "result = pd.DataFrame({'Count': value_counts, 'Percentage': percentage})\n",
    "result.sort_values(by='Count', ascending=False)"
   ]
  },
  {
   "cell_type": "markdown",
   "metadata": {},
   "source": [
    "- Over two-thirds (65%) are not too familiar or not at all familiar — suggesting a significant awareness and engagement gap.\n",
    "\n",
    "- Only 3 respondents (13%) feel very familiar, and 5 (22%) are somewhat familiar — a small but potentially strong base of informed collaborators."
   ]
  },
  {
   "cell_type": "markdown",
   "metadata": {},
   "source": [
    "`q20`: Does the school librarian use the National School Library Standards for Learners, School Librarians, and School Libraries in their work?"
   ]
  },
  {
   "cell_type": "code",
   "execution_count": 33,
   "metadata": {},
   "outputs": [
    {
     "data": {
      "text/html": [
       "<div>\n",
       "<style scoped>\n",
       "    .dataframe tbody tr th:only-of-type {\n",
       "        vertical-align: middle;\n",
       "    }\n",
       "\n",
       "    .dataframe tbody tr th {\n",
       "        vertical-align: top;\n",
       "    }\n",
       "\n",
       "    .dataframe thead th {\n",
       "        text-align: right;\n",
       "    }\n",
       "</style>\n",
       "<table border=\"1\" class=\"dataframe\">\n",
       "  <thead>\n",
       "    <tr style=\"text-align: right;\">\n",
       "      <th></th>\n",
       "      <th>Count</th>\n",
       "      <th>Percentage</th>\n",
       "    </tr>\n",
       "    <tr>\n",
       "      <th>q20_librarian_using</th>\n",
       "      <th></th>\n",
       "      <th></th>\n",
       "    </tr>\n",
       "  </thead>\n",
       "  <tbody>\n",
       "    <tr>\n",
       "      <th>Yes</th>\n",
       "      <td>8</td>\n",
       "      <td>57.142857</td>\n",
       "    </tr>\n",
       "    <tr>\n",
       "      <th>Not sure</th>\n",
       "      <td>4</td>\n",
       "      <td>28.571429</td>\n",
       "    </tr>\n",
       "    <tr>\n",
       "      <th>No</th>\n",
       "      <td>2</td>\n",
       "      <td>14.285714</td>\n",
       "    </tr>\n",
       "  </tbody>\n",
       "</table>\n",
       "</div>"
      ],
      "text/plain": [
       "                     Count  Percentage\n",
       "q20_librarian_using                   \n",
       "Yes                      8   57.142857\n",
       "Not sure                 4   28.571429\n",
       "No                       2   14.285714"
      ]
     },
     "execution_count": 33,
     "metadata": {},
     "output_type": "execute_result"
    }
   ],
   "source": [
    "value_counts = df_c.iloc[:, 62].value_counts()\n",
    "percentage = (value_counts / value_counts.sum()) * 100\n",
    "result = pd.DataFrame({'Count': value_counts, 'Percentage': percentage})\n",
    "result.sort_values(by='Count', ascending=False)"
   ]
  },
  {
   "cell_type": "markdown",
   "metadata": {},
   "source": [
    "- 57.14% (8 of 14) respondents said Yes — more than half observe active use of the Standards by the school librarian.\n",
    "\n",
    "- However, 42.86% were either not sure (28.57%) or said No (14.29%) — signaling a possible lack of communication or visibility into how the standards are being used."
   ]
  },
  {
   "cell_type": "markdown",
   "metadata": {},
   "source": [
    "`q21`: In which of the following ways have you worked with the school librarian to implement the National School Library Standards for Learners, School Librarians, and School Libraries? Please select all that apply."
   ]
  },
  {
   "cell_type": "code",
   "execution_count": 34,
   "metadata": {},
   "outputs": [
    {
     "data": {
      "text/html": [
       "<div>\n",
       "<style scoped>\n",
       "    .dataframe tbody tr th:only-of-type {\n",
       "        vertical-align: middle;\n",
       "    }\n",
       "\n",
       "    .dataframe tbody tr th {\n",
       "        vertical-align: top;\n",
       "    }\n",
       "\n",
       "    .dataframe thead th {\n",
       "        text-align: right;\n",
       "    }\n",
       "</style>\n",
       "<table border=\"1\" class=\"dataframe\">\n",
       "  <thead>\n",
       "    <tr style=\"text-align: right;\">\n",
       "      <th></th>\n",
       "      <th>Count</th>\n",
       "      <th>Percentage</th>\n",
       "    </tr>\n",
       "  </thead>\n",
       "  <tbody>\n",
       "    <tr>\n",
       "      <th>q21_collaboration_with_teacher</th>\n",
       "      <td>7</td>\n",
       "      <td>87.5</td>\n",
       "    </tr>\n",
       "    <tr>\n",
       "      <th>q21_guide_instructional_priorities</th>\n",
       "      <td>5</td>\n",
       "      <td>62.5</td>\n",
       "    </tr>\n",
       "    <tr>\n",
       "      <th>q21_with_other_educators</th>\n",
       "      <td>4</td>\n",
       "      <td>50.0</td>\n",
       "    </tr>\n",
       "    <tr>\n",
       "      <th>q21_advocate_for_school_library</th>\n",
       "      <td>4</td>\n",
       "      <td>50.0</td>\n",
       "    </tr>\n",
       "    <tr>\n",
       "      <th>q21_advocate_for_learners</th>\n",
       "      <td>4</td>\n",
       "      <td>50.0</td>\n",
       "    </tr>\n",
       "    <tr>\n",
       "      <th>q21_lesson_preparation_and_assessment</th>\n",
       "      <td>3</td>\n",
       "      <td>37.5</td>\n",
       "    </tr>\n",
       "    <tr>\n",
       "      <th>q21_learning_opportunities_for_educators</th>\n",
       "      <td>2</td>\n",
       "      <td>25.0</td>\n",
       "    </tr>\n",
       "    <tr>\n",
       "      <th>q21_develop_curriculum</th>\n",
       "      <td>2</td>\n",
       "      <td>25.0</td>\n",
       "    </tr>\n",
       "    <tr>\n",
       "      <th>q21_increase_understanding_of_school_librarian</th>\n",
       "      <td>2</td>\n",
       "      <td>25.0</td>\n",
       "    </tr>\n",
       "    <tr>\n",
       "      <th>q21_with_external_stakeholders</th>\n",
       "      <td>1</td>\n",
       "      <td>12.5</td>\n",
       "    </tr>\n",
       "    <tr>\n",
       "      <th>q21_with_parents</th>\n",
       "      <td>1</td>\n",
       "      <td>12.5</td>\n",
       "    </tr>\n",
       "    <tr>\n",
       "      <th>q21_demonstrate_learner_success</th>\n",
       "      <td>1</td>\n",
       "      <td>12.5</td>\n",
       "    </tr>\n",
       "    <tr>\n",
       "      <th>q21_none</th>\n",
       "      <td>0</td>\n",
       "      <td>0.0</td>\n",
       "    </tr>\n",
       "  </tbody>\n",
       "</table>\n",
       "</div>"
      ],
      "text/plain": [
       "                                               Count Percentage\n",
       "q21_collaboration_with_teacher                     7       87.5\n",
       "q21_guide_instructional_priorities                 5       62.5\n",
       "q21_with_other_educators                           4       50.0\n",
       "q21_advocate_for_school_library                    4       50.0\n",
       "q21_advocate_for_learners                          4       50.0\n",
       "q21_lesson_preparation_and_assessment              3       37.5\n",
       "q21_learning_opportunities_for_educators           2       25.0\n",
       "q21_develop_curriculum                             2       25.0\n",
       "q21_increase_understanding_of_school_librarian     2       25.0\n",
       "q21_with_external_stakeholders                     1       12.5\n",
       "q21_with_parents                                   1       12.5\n",
       "q21_demonstrate_learner_success                    1       12.5\n",
       "q21_none                                           0        0.0"
      ]
     },
     "execution_count": 34,
     "metadata": {},
     "output_type": "execute_result"
    }
   ],
   "source": [
    "df_c_q21 = df_c.iloc[:, 63:76]\n",
    "counts = df_c_q21.sum()\n",
    "percentages = (counts / 8) * 100\n",
    "\n",
    "result = pd.DataFrame({\n",
    "    'Count': counts,\n",
    "    'Percentage': percentages\n",
    "})\n",
    "\n",
    "result.sort_values(by='Count', ascending=False, inplace=True)\n",
    "result"
   ]
  },
  {
   "cell_type": "markdown",
   "metadata": {},
   "source": [
    "- The most common form of collaboration was 'Encouraging collaboration with teacher colleagues' (7 out of 8).\n",
    "\n",
    "- Over half worked on instructional priorities and advocacy, showing active strategic engagement.\n",
    "\n",
    "- Few worked with external stakeholders or parents, suggesting that collaboration is more internally focused."
   ]
  },
  {
   "cell_type": "markdown",
   "metadata": {},
   "source": [
    "`q23`: How frequently do you use or refer to the National School Library Standards when working with your school librarian?"
   ]
  },
  {
   "cell_type": "code",
   "execution_count": 35,
   "metadata": {},
   "outputs": [
    {
     "data": {
      "text/html": [
       "<div>\n",
       "<style scoped>\n",
       "    .dataframe tbody tr th:only-of-type {\n",
       "        vertical-align: middle;\n",
       "    }\n",
       "\n",
       "    .dataframe tbody tr th {\n",
       "        vertical-align: top;\n",
       "    }\n",
       "\n",
       "    .dataframe thead th {\n",
       "        text-align: right;\n",
       "    }\n",
       "</style>\n",
       "<table border=\"1\" class=\"dataframe\">\n",
       "  <thead>\n",
       "    <tr style=\"text-align: right;\">\n",
       "      <th></th>\n",
       "      <th>Count</th>\n",
       "      <th>Percentage</th>\n",
       "    </tr>\n",
       "    <tr>\n",
       "      <th>q23_refer_to_standards</th>\n",
       "      <th></th>\n",
       "      <th></th>\n",
       "    </tr>\n",
       "  </thead>\n",
       "  <tbody>\n",
       "    <tr>\n",
       "      <th>Rarely</th>\n",
       "      <td>4</td>\n",
       "      <td>50.0</td>\n",
       "    </tr>\n",
       "    <tr>\n",
       "      <th>Sometimes</th>\n",
       "      <td>3</td>\n",
       "      <td>37.5</td>\n",
       "    </tr>\n",
       "    <tr>\n",
       "      <th>Never</th>\n",
       "      <td>1</td>\n",
       "      <td>12.5</td>\n",
       "    </tr>\n",
       "  </tbody>\n",
       "</table>\n",
       "</div>"
      ],
      "text/plain": [
       "                        Count  Percentage\n",
       "q23_refer_to_standards                   \n",
       "Rarely                      4        50.0\n",
       "Sometimes                   3        37.5\n",
       "Never                       1        12.5"
      ]
     },
     "execution_count": 35,
     "metadata": {},
     "output_type": "execute_result"
    }
   ],
   "source": [
    "value_counts = df_c.iloc[:, 78].value_counts()\n",
    "percentage = (value_counts / value_counts.sum()) * 100\n",
    "result = pd.DataFrame({'Count': value_counts, 'Percentage': percentage})\n",
    "result.sort_values(by='Count', ascending=False)"
   ]
  },
  {
   "cell_type": "markdown",
   "metadata": {},
   "source": [
    "- None of the 8 respondents use the Standards 'All the time', indicating infrequent personal engagement from collaborators.\n",
    "\n",
    "- Most use them only 'Rarely' (50%) or 'Sometimes' (37.5%) — suggesting limited integration into their own practice.\n",
    "\n",
    "- One respondent (12.5%) says they never personally use or refer to the Standards — even though their school librarian does."
   ]
  },
  {
   "cell_type": "markdown",
   "metadata": {},
   "source": [
    "`q24`: How often do you reference each of the following AASL Standards Frameworks when collaborating with your school librarian?"
   ]
  },
  {
   "cell_type": "code",
   "execution_count": 36,
   "metadata": {},
   "outputs": [
    {
     "name": "stdout",
     "output_type": "stream",
     "text": [
      "q24_for_learners\n",
      "2    3\n",
      "Name: count, dtype: int64\n",
      "q24_for_school_librarians\n",
      "1    1\n",
      "2    2\n",
      "Name: count, dtype: int64\n",
      "q24_for_school_libraries\n",
      "1    1\n",
      "2    2\n",
      "Name: count, dtype: int64\n"
     ]
    }
   ],
   "source": [
    "for col in df_c_q24.columns[1:]:\n",
    "    print(df_c_q24[col].value_counts().sort_index())"
   ]
  },
  {
   "cell_type": "markdown",
   "metadata": {},
   "source": [
    "- 'Sometimes' is the most frequent response across all three frameworks — none are referenced 'All the time'.\n",
    "\n",
    "- The Framework for Learners is used more consistently (100% selected 'Sometimes').\n",
    "\n",
    "- Slightly less consistency for the School Librarians and School Libraries frameworks — 1 respondent in each category selected 'Rarely'."
   ]
  },
  {
   "cell_type": "markdown",
   "metadata": {},
   "source": [
    "`q25`: How often do you consider each of the AASL Standards Shared Foundations when collaborating with your school librarian?"
   ]
  },
  {
   "cell_type": "code",
   "execution_count": 37,
   "metadata": {},
   "outputs": [
    {
     "data": {
      "text/plain": [
       "q25_inquire        2.333333\n",
       "q25_include        2.000000\n",
       "q25_collaborate    2.333333\n",
       "q25_curate         2.666667\n",
       "q25_explore        2.000000\n",
       "q25_engage         2.000000\n",
       "dtype: float64"
      ]
     },
     "execution_count": 37,
     "metadata": {},
     "output_type": "execute_result"
    }
   ],
   "source": [
    "df_c_q25.iloc[:, 1:].astype(float).mean()"
   ]
  },
  {
   "cell_type": "code",
   "execution_count": 38,
   "metadata": {},
   "outputs": [
    {
     "name": "stdout",
     "output_type": "stream",
     "text": [
      "   q25_inquire  q25_include  q25_collaborate  q25_curate  q25_explore  \\\n",
      "3            1            1                1           2            0   \n",
      "0            0            0                0           0            0   \n",
      "\n",
      "   q25_engage  \n",
      "3           0  \n",
      "0           0  \n"
     ]
    }
   ],
   "source": [
    "counts = df_c_q25.iloc[:, 1:].apply(lambda col: col.value_counts().reindex([3, 0], fill_value=0))\n",
    "print(counts)"
   ]
  },
  {
   "cell_type": "markdown",
   "metadata": {},
   "source": [
    "- 'Curate' stands out as the most frequently considered Shared Foundation (mean = 2.67, with 2 respondents selecting 'All the time').\n",
    "\n",
    "- None of the Shared Foundations were marked as 'Never' — showing at least some consideration for all six domains.\n",
    "\n",
    "- Most terms hover around a mean of ~2, suggesting that 'Sometimes' is the dominant frequency overall."
   ]
  },
  {
   "cell_type": "markdown",
   "metadata": {},
   "source": [
    "### Strength"
   ]
  },
  {
   "cell_type": "markdown",
   "metadata": {},
   "source": [
    "`q15`: Overall, how would you rate the AASL National School Library Standards?"
   ]
  },
  {
   "cell_type": "code",
   "execution_count": 39,
   "metadata": {},
   "outputs": [
    {
     "data": {
      "text/html": [
       "<div>\n",
       "<style scoped>\n",
       "    .dataframe tbody tr th:only-of-type {\n",
       "        vertical-align: middle;\n",
       "    }\n",
       "\n",
       "    .dataframe tbody tr th {\n",
       "        vertical-align: top;\n",
       "    }\n",
       "\n",
       "    .dataframe thead th {\n",
       "        text-align: right;\n",
       "    }\n",
       "</style>\n",
       "<table border=\"1\" class=\"dataframe\">\n",
       "  <thead>\n",
       "    <tr style=\"text-align: right;\">\n",
       "      <th></th>\n",
       "      <th>Count</th>\n",
       "      <th>Percentage</th>\n",
       "    </tr>\n",
       "    <tr>\n",
       "      <th>q15_rate</th>\n",
       "      <th></th>\n",
       "      <th></th>\n",
       "    </tr>\n",
       "  </thead>\n",
       "  <tbody>\n",
       "    <tr>\n",
       "      <th>Good</th>\n",
       "      <td>6</td>\n",
       "      <td>75.0</td>\n",
       "    </tr>\n",
       "    <tr>\n",
       "      <th>Excellent</th>\n",
       "      <td>2</td>\n",
       "      <td>25.0</td>\n",
       "    </tr>\n",
       "  </tbody>\n",
       "</table>\n",
       "</div>"
      ],
      "text/plain": [
       "           Count  Percentage\n",
       "q15_rate                    \n",
       "Good           6        75.0\n",
       "Excellent      2        25.0"
      ]
     },
     "execution_count": 39,
     "metadata": {},
     "output_type": "execute_result"
    }
   ],
   "source": [
    "value_counts = df_c.iloc[:, 41].value_counts()\n",
    "percentage = (value_counts / value_counts.sum()) * 100\n",
    "result = pd.DataFrame({'Count': value_counts, 'Percentage': percentage})\n",
    "result.sort_values(by='Count', ascending=False)"
   ]
  },
  {
   "cell_type": "markdown",
   "metadata": {},
   "source": [
    "- 100% of respondents gave a positive rating — either Good or Excellent — showing strong endorsement among those familiar with the Standards.\n",
    "\n",
    "- No respondents selected Fair, Poor, or Not sure, indicating both clarity and perceived value of the Standards by these collaborators."
   ]
  },
  {
   "cell_type": "markdown",
   "metadata": {},
   "source": [
    "`q17`: Below is a list of words and phrases. Please indicate how well you think each word or phrase describes the National School Library Standards for Learners, School Librarians, and School Libraries."
   ]
  },
  {
   "cell_type": "code",
   "execution_count": 40,
   "metadata": {},
   "outputs": [
    {
     "data": {
      "text/plain": [
       "q17_valuable              5.428571\n",
       "q17_relevant              5.428571\n",
       "q17_practical             4.857143\n",
       "q17_useful                5.285714\n",
       "q17_easy_to_use           4.571429\n",
       "q17_easy_to_understand    5.000000\n",
       "q17_well_written          5.142857\n",
       "q17_nicely_designed       5.571429\n",
       "q17_well_organized        5.000000\n",
       "q17_ADA_accessible        4.857143\n",
       "dtype: float64"
      ]
     },
     "execution_count": 40,
     "metadata": {},
     "output_type": "execute_result"
    }
   ],
   "source": [
    "df_c_q17.iloc[:, 1:].astype(float).mean()"
   ]
  },
  {
   "cell_type": "code",
   "execution_count": 41,
   "metadata": {},
   "outputs": [
    {
     "name": "stdout",
     "output_type": "stream",
     "text": [
      "   q17_valuable  q17_relevant  q17_practical  q17_useful  q17_easy_to_use  \\\n",
      "6             4             5              3           4                3   \n",
      "2             0             0              0           0                1   \n",
      "\n",
      "   q17_easy_to_understand  q17_well_written  q17_nicely_designed  \\\n",
      "6                       3                 3                    5   \n",
      "2                       0                 0                    0   \n",
      "\n",
      "   q17_well_organized  q17_ADA_accessible  \n",
      "6                   4                   3  \n",
      "2                   0                   0  \n"
     ]
    }
   ],
   "source": [
    "counts = df_c_q17.iloc[:, 1:].apply(lambda col: col.value_counts().reindex([6, 2], fill_value=0))\n",
    "print(counts)"
   ]
  },
  {
   "cell_type": "markdown",
   "metadata": {},
   "source": [
    "- The top-rated traits were nicely designed, valuable, and relevant, suggesting a strong appreciation for both aesthetics and substance.\n",
    "\n",
    "- While most items scored above 5.0, 'Easy to use' had the lowest mean (4.57) and the only score of 2, pointing to usability as a key area for improvement.\n",
    "\n",
    "- No respondents rated any trait at the bottom of the scale (0) — overall feedback is overwhelmingly positive."
   ]
  },
  {
   "cell_type": "markdown",
   "metadata": {},
   "source": [
    "`q26`: How often do you consider each of the AASL Standards Domains when collaborating with your school librarian?"
   ]
  },
  {
   "cell_type": "code",
   "execution_count": 42,
   "metadata": {},
   "outputs": [
    {
     "data": {
      "text/plain": [
       "q26_think     2.333333\n",
       "q26_create    2.333333\n",
       "q26_share     2.333333\n",
       "q26_grow      2.000000\n",
       "dtype: float64"
      ]
     },
     "execution_count": 42,
     "metadata": {},
     "output_type": "execute_result"
    }
   ],
   "source": [
    "df_c_q26.iloc[:, 1:].astype(float).mean()"
   ]
  },
  {
   "cell_type": "code",
   "execution_count": 43,
   "metadata": {},
   "outputs": [
    {
     "name": "stdout",
     "output_type": "stream",
     "text": [
      "   q26_think  q26_create  q26_share  q26_grow\n",
      "3          1           1          1         0\n",
      "2          2           2          2         3\n",
      "0          0           0          0         0\n"
     ]
    }
   ],
   "source": [
    "counts = df_c_q26.iloc[:, 1:].apply(lambda col: col.value_counts().reindex([3, 2, 0], fill_value=0))\n",
    "print(counts)"
   ]
  },
  {
   "cell_type": "markdown",
   "metadata": {},
   "source": [
    "- Three domains — Think, Create, and Share — are equally referenced, with mean scores of 2.33, showing consistent 'sometimes' to 'often' engagement.\n",
    "\n",
    "- 'Grow' scored slightly lower (2.00) and had no 'all the time' responses, suggesting it may receive less frequent or direct attention during collaboration.\n",
    "\n",
    "- No respondents selected 'never' for any domain, indicating all four domains are acknowledged and at least occasionally considered."
   ]
  },
  {
   "cell_type": "markdown",
   "metadata": {},
   "source": [
    "`q27`: Overall, how would you rate AASL’s efforts to set and maintain up-to-date and practical standards and supporting resources?"
   ]
  },
  {
   "cell_type": "code",
   "execution_count": 44,
   "metadata": {},
   "outputs": [
    {
     "data": {
      "text/html": [
       "<div>\n",
       "<style scoped>\n",
       "    .dataframe tbody tr th:only-of-type {\n",
       "        vertical-align: middle;\n",
       "    }\n",
       "\n",
       "    .dataframe tbody tr th {\n",
       "        vertical-align: top;\n",
       "    }\n",
       "\n",
       "    .dataframe thead th {\n",
       "        text-align: right;\n",
       "    }\n",
       "</style>\n",
       "<table border=\"1\" class=\"dataframe\">\n",
       "  <thead>\n",
       "    <tr style=\"text-align: right;\">\n",
       "      <th></th>\n",
       "      <th>Count</th>\n",
       "      <th>Percentage</th>\n",
       "    </tr>\n",
       "    <tr>\n",
       "      <th>q27_rate_support_materials</th>\n",
       "      <th></th>\n",
       "      <th></th>\n",
       "    </tr>\n",
       "  </thead>\n",
       "  <tbody>\n",
       "    <tr>\n",
       "      <th>Good</th>\n",
       "      <td>5</td>\n",
       "      <td>62.5</td>\n",
       "    </tr>\n",
       "    <tr>\n",
       "      <th>Excellent</th>\n",
       "      <td>2</td>\n",
       "      <td>25.0</td>\n",
       "    </tr>\n",
       "    <tr>\n",
       "      <th>Fair</th>\n",
       "      <td>1</td>\n",
       "      <td>12.5</td>\n",
       "    </tr>\n",
       "  </tbody>\n",
       "</table>\n",
       "</div>"
      ],
      "text/plain": [
       "                            Count  Percentage\n",
       "q27_rate_support_materials                   \n",
       "Good                            5        62.5\n",
       "Excellent                       2        25.0\n",
       "Fair                            1        12.5"
      ]
     },
     "execution_count": 44,
     "metadata": {},
     "output_type": "execute_result"
    }
   ],
   "source": [
    "value_counts = df_c.iloc[:, 92].value_counts()\n",
    "percentage = (value_counts / value_counts.sum()) * 100\n",
    "result = pd.DataFrame({'Count': value_counts, 'Percentage': percentage})\n",
    "result.sort_values(by='Count', ascending=False)"
   ]
  },
  {
   "cell_type": "markdown",
   "metadata": {},
   "source": [
    "- A strong majority (87.5%) rated AASL’s efforts as either Good or Excellent — indicating solid overall satisfaction\n",
    "\n",
    "- No one selected Poor or Not sure, suggesting collaborators have enough awareness to form a positive opinion.\n",
    "\n",
    "- One person did rate it as Fair, which may reflect a desire for improvement in accessibility, relevance, or implementation tools."
   ]
  },
  {
   "cell_type": "markdown",
   "metadata": {},
   "source": [
    "### Challenge"
   ]
  },
  {
   "cell_type": "markdown",
   "metadata": {},
   "source": [
    "`q7`: What are the main reasons you do not work with or collaborate more often with the school librarian?"
   ]
  },
  {
   "cell_type": "code",
   "execution_count": 45,
   "metadata": {},
   "outputs": [
    {
     "data": {
      "text/plain": [
       "['The librarian is not approachable.',\n",
       " 'no time, heavy course work requirements',\n",
       " 'time, meeting standards, and the librarian at my school is amazing I believe the reason comes more from lack of time from my side. ',\n",
       " 'Not enough time!',\n",
       " 'Time that I have to cover material keeps me from collaborating more. ',\n",
       " 'Have a library of Reading Recovery books that already use.',\n",
       " 'She is not willing ',\n",
       " 'To help find books the kids are interested in when we are teaching our units',\n",
       " 'I work with her on certain relevant projects',\n",
       " 'time',\n",
       " 'Our SLM is only in our building 2 days per week with no flexibility on those days.  This makes it difficult to collaborate on lessons.  We do send students for book check-out.']"
      ]
     },
     "execution_count": 45,
     "metadata": {},
     "output_type": "execute_result"
    }
   ],
   "source": [
    "df_c_q7 = df_c.iloc[:, 11].dropna().tolist()\n",
    "df_c_q7"
   ]
  },
  {
   "cell_type": "markdown",
   "metadata": {},
   "source": [
    "- Time is the dominant challenge — affecting both collaborators and librarians alike.\n",
    "\n",
    "- A few responses reflect a strained relationship or limited engagement willingness.\n",
    "\n",
    "- Others suggest that collaboration is situational, based on project relevance or resource needs."
   ]
  },
  {
   "cell_type": "markdown",
   "metadata": {},
   "source": [
    "### Suggestion"
   ]
  },
  {
   "cell_type": "markdown",
   "metadata": {},
   "source": [
    "`q22`: What are some things that could be done to better aid your collaboration with your school librarian to implement the National School Library Standards?"
   ]
  },
  {
   "cell_type": "code",
   "execution_count": 46,
   "metadata": {},
   "outputs": [
    {
     "data": {
      "text/plain": [
       "['Increasing technology',\n",
       " 'my program parameters do not allow me to sway from my content at times for us to collaborate more',\n",
       " \"Better alignment with other standards. They would be better integrated into the classroom teacher's standards so that collaboration would be easier and everyone would feel like we are working toward the same end. Some librarian standards are unique but there is a lot of overlap that could be investigated and used to form bridges\"]"
      ]
     },
     "execution_count": 46,
     "metadata": {},
     "output_type": "execute_result"
    }
   ],
   "source": [
    "df_c_q22 = df_c.iloc[:, 77].dropna().tolist()\n",
    "df_c_q22"
   ]
  },
  {
   "cell_type": "markdown",
   "metadata": {},
   "source": [
    "- Even with just three responses, a clear pattern emerges: collaborators want better alignment, more tech integration, and structural flexibility. These changes could help unlock more meaningful and consistent engagement with school librarians and the AASL Standards."
   ]
  },
  {
   "cell_type": "markdown",
   "metadata": {},
   "source": [
    "`q29`: What additional supports would have been helpful to you when you first encountered the National School Library Standards?"
   ]
  },
  {
   "cell_type": "code",
   "execution_count": 47,
   "metadata": {},
   "outputs": [
    {
     "data": {
      "text/plain": [
       "['conversation with my librarian']"
      ]
     },
     "execution_count": 47,
     "metadata": {},
     "output_type": "execute_result"
    }
   ],
   "source": [
    "df_c_q29 = df_c.iloc[:, 94].dropna().tolist()\n",
    "df_c_q29"
   ]
  },
  {
   "cell_type": "markdown",
   "metadata": {},
   "source": [
    "- The only one respondent suggested that simply having a conversation with their librarian would have been a helpful support when first encountering the AASL Standards, emphasizing the value of early, open communication."
   ]
  },
  {
   "cell_type": "markdown",
   "metadata": {},
   "source": [
    "### With Librarians"
   ]
  },
  {
   "cell_type": "markdown",
   "metadata": {},
   "source": [
    "`q5`: What does school library staffing look like in your place of work or the school(s) you support? Please select all that apply."
   ]
  },
  {
   "cell_type": "code",
   "execution_count": 48,
   "metadata": {},
   "outputs": [
    {
     "data": {
      "text/html": [
       "<div>\n",
       "<style scoped>\n",
       "    .dataframe tbody tr th:only-of-type {\n",
       "        vertical-align: middle;\n",
       "    }\n",
       "\n",
       "    .dataframe tbody tr th {\n",
       "        vertical-align: top;\n",
       "    }\n",
       "\n",
       "    .dataframe thead th {\n",
       "        text-align: right;\n",
       "    }\n",
       "</style>\n",
       "<table border=\"1\" class=\"dataframe\">\n",
       "  <thead>\n",
       "    <tr style=\"text-align: right;\">\n",
       "      <th></th>\n",
       "      <th>Count</th>\n",
       "      <th>Percentage</th>\n",
       "    </tr>\n",
       "  </thead>\n",
       "  <tbody>\n",
       "    <tr>\n",
       "      <th>q5_certified</th>\n",
       "      <td>31</td>\n",
       "      <td>93.939394</td>\n",
       "    </tr>\n",
       "    <tr>\n",
       "      <th>q5_noninstructional</th>\n",
       "      <td>7</td>\n",
       "      <td>21.212121</td>\n",
       "    </tr>\n",
       "    <tr>\n",
       "      <th>q5_none</th>\n",
       "      <td>2</td>\n",
       "      <td>6.060606</td>\n",
       "    </tr>\n",
       "    <tr>\n",
       "      <th>q5_special_teacher</th>\n",
       "      <td>2</td>\n",
       "      <td>6.060606</td>\n",
       "    </tr>\n",
       "    <tr>\n",
       "      <th>q5_volunteer</th>\n",
       "      <td>0</td>\n",
       "      <td>0.0</td>\n",
       "    </tr>\n",
       "  </tbody>\n",
       "</table>\n",
       "</div>"
      ],
      "text/plain": [
       "                    Count Percentage\n",
       "q5_certified           31  93.939394\n",
       "q5_noninstructional     7  21.212121\n",
       "q5_none                 2   6.060606\n",
       "q5_special_teacher      2   6.060606\n",
       "q5_volunteer            0        0.0"
      ]
     },
     "execution_count": 48,
     "metadata": {},
     "output_type": "execute_result"
    }
   ],
   "source": [
    "df_c_q5 = df_c.iloc[:, 4:9]\n",
    "counts = df_c_q5.sum()\n",
    "percentages = (counts / 33) * 100\n",
    "\n",
    "result = pd.DataFrame({\n",
    "    'Count': counts,\n",
    "    'Percentage': percentages\n",
    "})\n",
    "\n",
    "result.sort_values(by='Count', ascending=False, inplace=True)\n",
    "result"
   ]
  },
  {
   "cell_type": "markdown",
   "metadata": {},
   "source": [
    "- Nearly all collaborators (94%) reported working in a setting with a certified or licensed school librarian — a strong foundation for meaningful collaboration.\n",
    "\n",
    "- A small portion also noted the presence of paraprofessionals or teachers on special assignment, suggesting some variation in staffing structures.\n",
    "\n",
    "- No one selected 'Volunteer' or 'Not sure', indicating respondents were generally aware of their school’s library staffing setup."
   ]
  },
  {
   "cell_type": "markdown",
   "metadata": {},
   "source": [
    "`q6`: How often do you collaborate and work with the school librarian(s)?"
   ]
  },
  {
   "cell_type": "code",
   "execution_count": 49,
   "metadata": {},
   "outputs": [
    {
     "data": {
      "text/html": [
       "<div>\n",
       "<style scoped>\n",
       "    .dataframe tbody tr th:only-of-type {\n",
       "        vertical-align: middle;\n",
       "    }\n",
       "\n",
       "    .dataframe tbody tr th {\n",
       "        vertical-align: top;\n",
       "    }\n",
       "\n",
       "    .dataframe thead th {\n",
       "        text-align: right;\n",
       "    }\n",
       "</style>\n",
       "<table border=\"1\" class=\"dataframe\">\n",
       "  <thead>\n",
       "    <tr style=\"text-align: right;\">\n",
       "      <th></th>\n",
       "      <th>Count</th>\n",
       "      <th>Percentage</th>\n",
       "    </tr>\n",
       "    <tr>\n",
       "      <th>q6_how_often</th>\n",
       "      <th></th>\n",
       "      <th></th>\n",
       "    </tr>\n",
       "  </thead>\n",
       "  <tbody>\n",
       "    <tr>\n",
       "      <th>On a monthly basis</th>\n",
       "      <td>11</td>\n",
       "      <td>35.483871</td>\n",
       "    </tr>\n",
       "    <tr>\n",
       "      <th>A couple times per year</th>\n",
       "      <td>8</td>\n",
       "      <td>25.806452</td>\n",
       "    </tr>\n",
       "    <tr>\n",
       "      <th>On a weekly basis</th>\n",
       "      <td>5</td>\n",
       "      <td>16.129032</td>\n",
       "    </tr>\n",
       "    <tr>\n",
       "      <th>On a daily basis</th>\n",
       "      <td>4</td>\n",
       "      <td>12.903226</td>\n",
       "    </tr>\n",
       "    <tr>\n",
       "      <th>Rarely, if ever</th>\n",
       "      <td>3</td>\n",
       "      <td>9.677419</td>\n",
       "    </tr>\n",
       "  </tbody>\n",
       "</table>\n",
       "</div>"
      ],
      "text/plain": [
       "                         Count  Percentage\n",
       "q6_how_often                              \n",
       "On a monthly basis          11   35.483871\n",
       "A couple times per year      8   25.806452\n",
       "On a weekly basis            5   16.129032\n",
       "On a daily basis             4   12.903226\n",
       "Rarely, if ever              3    9.677419"
      ]
     },
     "execution_count": 49,
     "metadata": {},
     "output_type": "execute_result"
    }
   ],
   "source": [
    "value_counts = df_c.iloc[:, 10].value_counts()\n",
    "percentage = (value_counts / value_counts.sum()) * 100\n",
    "result = pd.DataFrame({'Count': value_counts, 'Percentage': percentage})\n",
    "result.sort_values(by='Count', ascending=False)"
   ]
  },
  {
   "cell_type": "markdown",
   "metadata": {},
   "source": [
    "- The most common collaboration frequency is monthly (35%), followed by a couple times per year (26%).\n",
    "\n",
    "- Only 13% collaborate daily and 16% weekly, showing that frequent collaboration is less common.\n",
    "\n",
    "- A small group (10%) reports rare or no collaboration, though this is relatively low."
   ]
  },
  {
   "cell_type": "markdown",
   "metadata": {},
   "source": [
    "`q8`: As an educator, how do you work with the school librarian? Please select all that apply."
   ]
  },
  {
   "cell_type": "code",
   "execution_count": 50,
   "metadata": {},
   "outputs": [
    {
     "data": {
      "text/html": [
       "<div>\n",
       "<style scoped>\n",
       "    .dataframe tbody tr th:only-of-type {\n",
       "        vertical-align: middle;\n",
       "    }\n",
       "\n",
       "    .dataframe tbody tr th {\n",
       "        vertical-align: top;\n",
       "    }\n",
       "\n",
       "    .dataframe thead th {\n",
       "        text-align: right;\n",
       "    }\n",
       "</style>\n",
       "<table border=\"1\" class=\"dataframe\">\n",
       "  <thead>\n",
       "    <tr style=\"text-align: right;\">\n",
       "      <th></th>\n",
       "      <th>Count</th>\n",
       "      <th>Percentage</th>\n",
       "    </tr>\n",
       "  </thead>\n",
       "  <tbody>\n",
       "    <tr>\n",
       "      <th>q8_provide_resources</th>\n",
       "      <td>25</td>\n",
       "      <td>86.206897</td>\n",
       "    </tr>\n",
       "    <tr>\n",
       "      <th>q8_support_lessons</th>\n",
       "      <td>19</td>\n",
       "      <td>65.517241</td>\n",
       "    </tr>\n",
       "    <tr>\n",
       "      <th>q8_special_events</th>\n",
       "      <td>13</td>\n",
       "      <td>44.827586</td>\n",
       "    </tr>\n",
       "    <tr>\n",
       "      <th>q8_deliver_instruction</th>\n",
       "      <td>11</td>\n",
       "      <td>37.931034</td>\n",
       "    </tr>\n",
       "    <tr>\n",
       "      <th>q8_plan_instructional_units</th>\n",
       "      <td>9</td>\n",
       "      <td>31.034483</td>\n",
       "    </tr>\n",
       "    <tr>\n",
       "      <th>q8_assess</th>\n",
       "      <td>1</td>\n",
       "      <td>3.448276</td>\n",
       "    </tr>\n",
       "  </tbody>\n",
       "</table>\n",
       "</div>"
      ],
      "text/plain": [
       "                            Count Percentage\n",
       "q8_provide_resources           25  86.206897\n",
       "q8_support_lessons             19  65.517241\n",
       "q8_special_events              13  44.827586\n",
       "q8_deliver_instruction         11  37.931034\n",
       "q8_plan_instructional_units     9  31.034483\n",
       "q8_assess                       1   3.448276"
      ]
     },
     "execution_count": 50,
     "metadata": {},
     "output_type": "execute_result"
    }
   ],
   "source": [
    "df_c_q8 = df_c.iloc[:, 12:18]\n",
    "counts = df_c_q8.sum()\n",
    "percentages = (counts / 29) * 100\n",
    "\n",
    "result = pd.DataFrame({\n",
    "    'Count': counts,\n",
    "    'Percentage': percentages\n",
    "})\n",
    "\n",
    "result.sort_values(by='Count', ascending=False, inplace=True)\n",
    "result"
   ]
  },
  {
   "cell_type": "code",
   "execution_count": 51,
   "metadata": {},
   "outputs": [
    {
     "data": {
      "text/plain": [
       "[\"I am a liason between the TL's and district Admin\",\n",
       " 'We bounce ideas off one another; we share newsletter/event information and opportunities',\n",
       " 'basically ignored by school librarian ']"
      ]
     },
     "execution_count": 51,
     "metadata": {},
     "output_type": "execute_result"
    }
   ],
   "source": [
    "df_c.iloc[:, 18].dropna().tolist()"
   ]
  },
  {
   "cell_type": "markdown",
   "metadata": {},
   "source": [
    "- Resource support is nearly universal — the foundational way school librarians assist educators.\n",
    "\n",
    "- Nearly two-thirds also receive direct lesson support.\n",
    "\n",
    "- Joint instruction and unit planning happen less frequently, suggesting collaboration tends to focus more on support than co-teaching or assessment.\n",
    "\n",
    "- A few open-ended responses show a range from active liaison work to near non-engagement."
   ]
  },
  {
   "cell_type": "markdown",
   "metadata": {},
   "source": [
    "`q9`: Who usually initiates collaborations between yourself and the school librarian?"
   ]
  },
  {
   "cell_type": "code",
   "execution_count": 52,
   "metadata": {},
   "outputs": [
    {
     "data": {
      "text/html": [
       "<div>\n",
       "<style scoped>\n",
       "    .dataframe tbody tr th:only-of-type {\n",
       "        vertical-align: middle;\n",
       "    }\n",
       "\n",
       "    .dataframe tbody tr th {\n",
       "        vertical-align: top;\n",
       "    }\n",
       "\n",
       "    .dataframe thead th {\n",
       "        text-align: right;\n",
       "    }\n",
       "</style>\n",
       "<table border=\"1\" class=\"dataframe\">\n",
       "  <thead>\n",
       "    <tr style=\"text-align: right;\">\n",
       "      <th></th>\n",
       "      <th>Count</th>\n",
       "      <th>Percentage</th>\n",
       "    </tr>\n",
       "    <tr>\n",
       "      <th>q9_initiate</th>\n",
       "      <th></th>\n",
       "      <th></th>\n",
       "    </tr>\n",
       "  </thead>\n",
       "  <tbody>\n",
       "    <tr>\n",
       "      <th>It varies; sometimes me, sometimes someone else</th>\n",
       "      <td>19</td>\n",
       "      <td>65.517241</td>\n",
       "    </tr>\n",
       "    <tr>\n",
       "      <th>I do</th>\n",
       "      <td>7</td>\n",
       "      <td>24.137931</td>\n",
       "    </tr>\n",
       "    <tr>\n",
       "      <th>My school librarian</th>\n",
       "      <td>2</td>\n",
       "      <td>6.896552</td>\n",
       "    </tr>\n",
       "    <tr>\n",
       "      <th>Other (please specify)</th>\n",
       "      <td>1</td>\n",
       "      <td>3.448276</td>\n",
       "    </tr>\n",
       "  </tbody>\n",
       "</table>\n",
       "</div>"
      ],
      "text/plain": [
       "                                                 Count  Percentage\n",
       "q9_initiate                                                       \n",
       "It varies; sometimes me, sometimes someone else     19   65.517241\n",
       "I do                                                 7   24.137931\n",
       "My school librarian                                  2    6.896552\n",
       "Other (please specify)                               1    3.448276"
      ]
     },
     "execution_count": 52,
     "metadata": {},
     "output_type": "execute_result"
    }
   ],
   "source": [
    "value_counts = df_c.iloc[:, 19].value_counts()\n",
    "percentage = (value_counts / value_counts.sum()) * 100\n",
    "result = pd.DataFrame({'Count': value_counts, 'Percentage': percentage})\n",
    "result.sort_values(by='Count', ascending=False)"
   ]
  },
  {
   "cell_type": "code",
   "execution_count": 53,
   "metadata": {},
   "outputs": [
    {
     "data": {
      "text/plain": [
       "[\"It's 50/50. Sometimes I do, and sometimes the librarian does\"]"
      ]
     },
     "execution_count": 53,
     "metadata": {},
     "output_type": "execute_result"
    }
   ],
   "source": [
    "df_c.iloc[:, 20].dropna().tolist()"
   ]
  },
  {
   "cell_type": "markdown",
   "metadata": {},
   "source": [
    "- The vast majority (about two-thirds) indicated that initiation varies, suggesting collaboration is often mutual or situational, rather than strictly led by one party.\n",
    "\n",
    "- One in four respondents said they are the primary initiator, while very few cited the librarian alone.\n",
    "\n",
    "- No one selected 'Administrator', suggesting that collaboration happens directly between educators and librarians, not via leadership channels."
   ]
  },
  {
   "cell_type": "markdown",
   "metadata": {},
   "source": [
    "`q10`: In your opinion, what are the school librarian’s most important contributions to the education program of the school?"
   ]
  },
  {
   "cell_type": "code",
   "execution_count": 54,
   "metadata": {},
   "outputs": [
    {
     "data": {
      "text/plain": [
       "['Curriculum support with lessons.',\n",
       " 'Development of Literacy Skills',\n",
       " 'Tech and creative support',\n",
       " 'core of the school and activities',\n",
       " 'We would not be able to function without them. They are the backbone of our school.',\n",
       " 'She’s smart and always willing to help.',\n",
       " 'Katie Rainer is an innovator and creative problem solver. I love working with her to discuss ideas and make them come to life. ',\n",
       " 'Providing students and teachers with valuable resources, helping students to understand how to research topics and find reliable sources, supporting teachers in lesson ideas and technology incorporation. ',\n",
       " '-providing resources and support for teachers and students  -collaboration with teachers  ',\n",
       " 'Collaboration on lessons and instruction.',\n",
       " 'Making reading fun, so students learn the joy of reading',\n",
       " 'Our librarian provides formal instruction on library resources and good research practices. She knows YA literature, discusses books with our kids and makes recommendations based on their interests. Our librarian manages a lunchtime maker space and teaches in an after-school gifted and talented program. Our librarian is also our \"in-house\" technology resource - she comes to our classrooms to help solve computer problems, manages classroom technology used by students, and conveys all technology help requests to the IT department (we aren\\'t allowed to send the requests ourselves). She opens her classroom space (the library) to a number of activities, participates in PLCs, and for me, is a good friend and listening ear.',\n",
       " 'They help with technology',\n",
       " 'reading suppport  genre information  library skills  technology skills  internet safety  support of reading lesson content from classroom   finding resources for teachers',\n",
       " 'In my school, not much to be honest. Keeper of the space',\n",
       " 'To get books into the hands of students and to teach them how to use them',\n",
       " 'Leading Guided Inquiry Design, teaching all students information literacy concepts and providing access to loads of awesome and high quality resources for my teaching during inquiry and all the time when I ask',\n",
       " 'Peer partner in teaching and learning with expertise in inquiry, conceptual-understanding of information literacy',\n",
       " 'Providing resources and access to a variety of different books. ',\n",
       " 'Providing of resources that support curriculum and school improvement goals. Providing a safe, welcoming space for all students to support their curiosity. ',\n",
       " 'Access to resources']"
      ]
     },
     "execution_count": 54,
     "metadata": {},
     "output_type": "execute_result"
    }
   ],
   "source": [
    "df_c_q10 = df_c.iloc[:, 21].dropna().tolist()\n",
    "df_c_q10"
   ]
  },
  {
   "cell_type": "markdown",
   "metadata": {},
   "source": [
    "- Resource Experts: Librarians are most commonly praised for providing high-quality resources that support both teachers and students. It is mentioned by 13 respondents.\n",
    "\n",
    "- Instructional Partners: Many respondents highlighted collaboration in lesson planning and instruction as a key contribution.\n",
    "\n",
    "- Reading & Literacy Advocates: Librarians foster a love of reading and build literacy skills through engaging materials and programs.\n",
    "\n",
    "- Technology & Innovation Supporters: They assist with tech integration, troubleshooting, and creative tools, often serving as a go-to tech resource.\n",
    "\n",
    "- Research & Inquiry Guides: Several responses emphasized their role in teaching information literacy and guiding students through research and inquiry-based learning."
   ]
  },
  {
   "cell_type": "markdown",
   "metadata": {},
   "source": [
    "`q11`: In which of the following ways do you engage with your school librarian(s) to effectively maximize their contribution to your academic program? Please select all that apply."
   ]
  },
  {
   "cell_type": "code",
   "execution_count": 55,
   "metadata": {},
   "outputs": [
    {
     "data": {
      "text/html": [
       "<div>\n",
       "<style scoped>\n",
       "    .dataframe tbody tr th:only-of-type {\n",
       "        vertical-align: middle;\n",
       "    }\n",
       "\n",
       "    .dataframe tbody tr th {\n",
       "        vertical-align: top;\n",
       "    }\n",
       "\n",
       "    .dataframe thead th {\n",
       "        text-align: right;\n",
       "    }\n",
       "</style>\n",
       "<table border=\"1\" class=\"dataframe\">\n",
       "  <thead>\n",
       "    <tr style=\"text-align: right;\">\n",
       "      <th></th>\n",
       "      <th>Count</th>\n",
       "      <th>Percentage</th>\n",
       "    </tr>\n",
       "  </thead>\n",
       "  <tbody>\n",
       "    <tr>\n",
       "      <th>q11_instruction_and_teaching</th>\n",
       "      <td>16</td>\n",
       "      <td>55.172414</td>\n",
       "    </tr>\n",
       "    <tr>\n",
       "      <th>q11_content_department_meetings</th>\n",
       "      <td>10</td>\n",
       "      <td>34.482759</td>\n",
       "    </tr>\n",
       "    <tr>\n",
       "      <th>q11_curriculum_planning</th>\n",
       "      <td>9</td>\n",
       "      <td>31.034483</td>\n",
       "    </tr>\n",
       "    <tr>\n",
       "      <th>q11_none</th>\n",
       "      <td>5</td>\n",
       "      <td>17.241379</td>\n",
       "    </tr>\n",
       "    <tr>\n",
       "      <th>q11_grade_level_meetings</th>\n",
       "      <td>5</td>\n",
       "      <td>17.241379</td>\n",
       "    </tr>\n",
       "  </tbody>\n",
       "</table>\n",
       "</div>"
      ],
      "text/plain": [
       "                                Count Percentage\n",
       "q11_instruction_and_teaching       16  55.172414\n",
       "q11_content_department_meetings    10  34.482759\n",
       "q11_curriculum_planning             9  31.034483\n",
       "q11_none                            5  17.241379\n",
       "q11_grade_level_meetings            5  17.241379"
      ]
     },
     "execution_count": 55,
     "metadata": {},
     "output_type": "execute_result"
    }
   ],
   "source": [
    "df_c_q11 = df_c.iloc[:, 22:27]\n",
    "counts = df_c_q11.sum()\n",
    "percentages = (counts / 29) * 100\n",
    "\n",
    "result = pd.DataFrame({\n",
    "    'Count': counts,\n",
    "    'Percentage': percentages\n",
    "})\n",
    "\n",
    "result.sort_values(by='Count', ascending=False, inplace=True)\n",
    "result"
   ]
  },
  {
   "cell_type": "code",
   "execution_count": 56,
   "metadata": {},
   "outputs": [
    {
     "data": {
      "text/plain": [
       "['encourage them to collaborate in their buildings as much as possible',\n",
       " 'STEM ideas/interests, special events',\n",
       " 'Professional development in disciplinary thinking',\n",
       " 'We work together to have a successful reading program in my classes, which include regular library visit, use of library resources (digital and print) and encouraging a culture of reading. We brainstorm and plan together how to make this most effective. ']"
      ]
     },
     "execution_count": 56,
     "metadata": {},
     "output_type": "execute_result"
    }
   ],
   "source": [
    "df_c.iloc[:, 27].dropna().tolist()"
   ]
  },
  {
   "cell_type": "markdown",
   "metadata": {},
   "source": [
    "- More than half of collaborators engage through direct instruction, showing strong integration of the librarian into teaching.\n",
    "\n",
    "- Curriculum planning and meeting participation are secondary but meaningful areas of engagement.\n",
    "\n",
    "- Open responses reveal creative, whole-school partnerships, from STEM and PD to school-wide reading culture."
   ]
  },
  {
   "cell_type": "markdown",
   "metadata": {},
   "source": [
    "`q19`: Please state how much you agree or disagree with each of the following Common Beliefs of the school library profession."
   ]
  },
  {
   "cell_type": "code",
   "execution_count": 57,
   "metadata": {},
   "outputs": [
    {
     "data": {
      "text/plain": [
       "q19_unique_and_essential    2.000000\n",
       "q19_effective               1.928571\n",
       "q19_prepared                2.000000\n",
       "q19_reading                 1.928571\n",
       "q19_intellectual_freedom    2.000000\n",
       "q19_equitably_available     2.000000\n",
       "dtype: float64"
      ]
     },
     "execution_count": 57,
     "metadata": {},
     "output_type": "execute_result"
    }
   ],
   "source": [
    "df_c_q19.iloc[:, 1:].astype(float).mean()"
   ]
  },
  {
   "cell_type": "code",
   "execution_count": 58,
   "metadata": {},
   "outputs": [
    {
     "name": "stdout",
     "output_type": "stream",
     "text": [
      "   q19_unique_and_essential  q19_effective  q19_prepared  q19_reading  \\\n",
      "2                        14             13            14           13   \n",
      "1                         0              1             0            1   \n",
      "\n",
      "   q19_intellectual_freedom  q19_equitably_available  \n",
      "2                        14                       14  \n",
      "1                         0                        0  \n"
     ]
    }
   ],
   "source": [
    "counts = df_c_q19.iloc[:, 1:].apply(lambda col: col.value_counts().reindex([2, 1], fill_value=0))\n",
    "print(counts)"
   ]
  },
  {
   "cell_type": "markdown",
   "metadata": {},
   "source": [
    "- Unanimous support: Every belief received full agreement from respondents.\n",
    "\n",
    "- Most beliefs were met with universal strong agreement, particularly those around intellectual freedom, equity, and preparation for life.\n",
    "\n",
    "- A small number of responses (just 1 each) leaned toward somewhat agreeing with beliefs about librarians’ effectiveness and reading’s role."
   ]
  }
 ],
 "metadata": {
  "kernelspec": {
   "display_name": "Python 3",
   "language": "python",
   "name": "python3"
  },
  "language_info": {
   "codemirror_mode": {
    "name": "ipython",
    "version": 3
   },
   "file_extension": ".py",
   "mimetype": "text/x-python",
   "name": "python",
   "nbconvert_exporter": "python",
   "pygments_lexer": "ipython3",
   "version": "3.11.1"
  }
 },
 "nbformat": 4,
 "nbformat_minor": 2
}
