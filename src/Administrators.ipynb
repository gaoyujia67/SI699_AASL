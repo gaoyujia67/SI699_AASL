{
 "cells": [
  {
   "cell_type": "markdown",
   "metadata": {},
   "source": [
    "# A Third-party Analysis of the AASL Standards"
   ]
  },
  {
   "cell_type": "markdown",
   "metadata": {},
   "source": [
    "Jinren Yuan\n",
    "\n",
    "This section contains the analysis of **administrators**."
   ]
  },
  {
   "cell_type": "code",
   "execution_count": 1,
   "metadata": {},
   "outputs": [],
   "source": [
    "import pandas as pd"
   ]
  },
  {
   "cell_type": "code",
   "execution_count": 2,
   "metadata": {},
   "outputs": [
    {
     "data": {
      "text/plain": [
       "(35, 174)"
      ]
     },
     "execution_count": 2,
     "metadata": {},
     "output_type": "execute_result"
    }
   ],
   "source": [
    "df_a = pd.read_csv(\"data/AASL Standards Survey - Administrators - Sheet.csv\")\n",
    "df_a.shape"
   ]
  },
  {
   "cell_type": "code",
   "execution_count": 3,
   "metadata": {},
   "outputs": [
    {
     "data": {
      "text/html": [
       "<div>\n",
       "<style scoped>\n",
       "    .dataframe tbody tr th:only-of-type {\n",
       "        vertical-align: middle;\n",
       "    }\n",
       "\n",
       "    .dataframe tbody tr th {\n",
       "        vertical-align: top;\n",
       "    }\n",
       "\n",
       "    .dataframe thead th {\n",
       "        text-align: right;\n",
       "    }\n",
       "</style>\n",
       "<table border=\"1\" class=\"dataframe\">\n",
       "  <thead>\n",
       "    <tr style=\"text-align: right;\">\n",
       "      <th></th>\n",
       "      <th>Respondent ID</th>\n",
       "      <th>Collector ID</th>\n",
       "      <th>Start Date</th>\n",
       "      <th>End Date</th>\n",
       "      <th>IP Address</th>\n",
       "      <th>Email Address</th>\n",
       "      <th>First Name</th>\n",
       "      <th>Last Name</th>\n",
       "      <th>Custom Data 1</th>\n",
       "      <th>Which of the following positions most closely reflects your job role? Please select all that apply.</th>\n",
       "      <th>...</th>\n",
       "      <th>Unnamed: 164</th>\n",
       "      <th>Unnamed: 165</th>\n",
       "      <th>What is the primary language spoken in your work environment?</th>\n",
       "      <th>Unnamed: 167</th>\n",
       "      <th>Are you of Hispanic or Latino background – such as Mexican, Puerto Rican, Cuban, or another Latin American background?</th>\n",
       "      <th>Which of the following categories best describes your race or ethnicity?</th>\n",
       "      <th>Unnamed: 170</th>\n",
       "      <th>Which of the following categories best describes your employment status?</th>\n",
       "      <th>Unnamed: 172</th>\n",
       "      <th>Is there anything else you would like to add?</th>\n",
       "    </tr>\n",
       "  </thead>\n",
       "  <tbody>\n",
       "    <tr>\n",
       "      <th>0</th>\n",
       "      <td>NaN</td>\n",
       "      <td>NaN</td>\n",
       "      <td>NaN</td>\n",
       "      <td>NaN</td>\n",
       "      <td>NaN</td>\n",
       "      <td>NaN</td>\n",
       "      <td>NaN</td>\n",
       "      <td>NaN</td>\n",
       "      <td>NaN</td>\n",
       "      <td>None of the above</td>\n",
       "      <td>...</td>\n",
       "      <td>English language version</td>\n",
       "      <td>Another language (please specify)</td>\n",
       "      <td>Response</td>\n",
       "      <td>Other (please specify)</td>\n",
       "      <td>Response</td>\n",
       "      <td>Response</td>\n",
       "      <td>Other (please specify)</td>\n",
       "      <td>Response</td>\n",
       "      <td>Other (please specify)</td>\n",
       "      <td>Open-Ended Response</td>\n",
       "    </tr>\n",
       "    <tr>\n",
       "      <th>1</th>\n",
       "      <td>1.144687e+11</td>\n",
       "      <td>428602768.0</td>\n",
       "      <td>2023-11-20 20:38:23</td>\n",
       "      <td>2023-11-20 20:44:20</td>\n",
       "      <td>NaN</td>\n",
       "      <td>NaN</td>\n",
       "      <td>NaN</td>\n",
       "      <td>NaN</td>\n",
       "      <td>NaN</td>\n",
       "      <td>NaN</td>\n",
       "      <td>...</td>\n",
       "      <td>NaN</td>\n",
       "      <td>NaN</td>\n",
       "      <td>NaN</td>\n",
       "      <td>NaN</td>\n",
       "      <td>NaN</td>\n",
       "      <td>NaN</td>\n",
       "      <td>NaN</td>\n",
       "      <td>NaN</td>\n",
       "      <td>NaN</td>\n",
       "      <td>NaN</td>\n",
       "    </tr>\n",
       "    <tr>\n",
       "      <th>2</th>\n",
       "      <td>1.144669e+11</td>\n",
       "      <td>428602768.0</td>\n",
       "      <td>2023-11-17 19:34:16</td>\n",
       "      <td>2023-11-17 19:41:20</td>\n",
       "      <td>NaN</td>\n",
       "      <td>NaN</td>\n",
       "      <td>NaN</td>\n",
       "      <td>NaN</td>\n",
       "      <td>NaN</td>\n",
       "      <td>NaN</td>\n",
       "      <td>...</td>\n",
       "      <td>NaN</td>\n",
       "      <td>NaN</td>\n",
       "      <td>NaN</td>\n",
       "      <td>NaN</td>\n",
       "      <td>NaN</td>\n",
       "      <td>NaN</td>\n",
       "      <td>NaN</td>\n",
       "      <td>NaN</td>\n",
       "      <td>NaN</td>\n",
       "      <td>NaN</td>\n",
       "    </tr>\n",
       "    <tr>\n",
       "      <th>3</th>\n",
       "      <td>1.144663e+11</td>\n",
       "      <td>428602768.0</td>\n",
       "      <td>2023-11-17 07:59:11</td>\n",
       "      <td>2023-11-17 08:04:47</td>\n",
       "      <td>NaN</td>\n",
       "      <td>NaN</td>\n",
       "      <td>NaN</td>\n",
       "      <td>NaN</td>\n",
       "      <td>NaN</td>\n",
       "      <td>NaN</td>\n",
       "      <td>...</td>\n",
       "      <td>NaN</td>\n",
       "      <td>NaN</td>\n",
       "      <td>NaN</td>\n",
       "      <td>NaN</td>\n",
       "      <td>NaN</td>\n",
       "      <td>NaN</td>\n",
       "      <td>NaN</td>\n",
       "      <td>NaN</td>\n",
       "      <td>NaN</td>\n",
       "      <td>NaN</td>\n",
       "    </tr>\n",
       "    <tr>\n",
       "      <th>4</th>\n",
       "      <td>1.144663e+11</td>\n",
       "      <td>428602768.0</td>\n",
       "      <td>2023-11-17 07:29:23</td>\n",
       "      <td>2023-11-17 08:01:35</td>\n",
       "      <td>NaN</td>\n",
       "      <td>NaN</td>\n",
       "      <td>NaN</td>\n",
       "      <td>NaN</td>\n",
       "      <td>NaN</td>\n",
       "      <td>NaN</td>\n",
       "      <td>...</td>\n",
       "      <td>NaN</td>\n",
       "      <td>NaN</td>\n",
       "      <td>NaN</td>\n",
       "      <td>NaN</td>\n",
       "      <td>NaN</td>\n",
       "      <td>NaN</td>\n",
       "      <td>NaN</td>\n",
       "      <td>NaN</td>\n",
       "      <td>NaN</td>\n",
       "      <td>NaN</td>\n",
       "    </tr>\n",
       "  </tbody>\n",
       "</table>\n",
       "<p>5 rows × 174 columns</p>\n",
       "</div>"
      ],
      "text/plain": [
       "   Respondent ID  Collector ID           Start Date             End Date  \\\n",
       "0            NaN           NaN                  NaN                  NaN   \n",
       "1   1.144687e+11   428602768.0  2023-11-20 20:38:23  2023-11-20 20:44:20   \n",
       "2   1.144669e+11   428602768.0  2023-11-17 19:34:16  2023-11-17 19:41:20   \n",
       "3   1.144663e+11   428602768.0  2023-11-17 07:59:11  2023-11-17 08:04:47   \n",
       "4   1.144663e+11   428602768.0  2023-11-17 07:29:23  2023-11-17 08:01:35   \n",
       "\n",
       "   IP Address  Email Address  First Name  Last Name  Custom Data 1  \\\n",
       "0         NaN            NaN         NaN        NaN            NaN   \n",
       "1         NaN            NaN         NaN        NaN            NaN   \n",
       "2         NaN            NaN         NaN        NaN            NaN   \n",
       "3         NaN            NaN         NaN        NaN            NaN   \n",
       "4         NaN            NaN         NaN        NaN            NaN   \n",
       "\n",
       "  Which of the following positions most closely reflects your job role? Please select all that apply.  \\\n",
       "0                                  None of the above                                                    \n",
       "1                                                NaN                                                    \n",
       "2                                                NaN                                                    \n",
       "3                                                NaN                                                    \n",
       "4                                                NaN                                                    \n",
       "\n",
       "   ...              Unnamed: 164                       Unnamed: 165  \\\n",
       "0  ...  English language version  Another language (please specify)   \n",
       "1  ...                       NaN                                NaN   \n",
       "2  ...                       NaN                                NaN   \n",
       "3  ...                       NaN                                NaN   \n",
       "4  ...                       NaN                                NaN   \n",
       "\n",
       "  What is the primary language spoken in your work environment?  \\\n",
       "0                                           Response              \n",
       "1                                                NaN              \n",
       "2                                                NaN              \n",
       "3                                                NaN              \n",
       "4                                                NaN              \n",
       "\n",
       "             Unnamed: 167  \\\n",
       "0  Other (please specify)   \n",
       "1                     NaN   \n",
       "2                     NaN   \n",
       "3                     NaN   \n",
       "4                     NaN   \n",
       "\n",
       "  Are you of Hispanic or Latino background – such as Mexican, Puerto Rican, Cuban, or another Latin American background?  \\\n",
       "0                                           Response                                                                       \n",
       "1                                                NaN                                                                       \n",
       "2                                                NaN                                                                       \n",
       "3                                                NaN                                                                       \n",
       "4                                                NaN                                                                       \n",
       "\n",
       "  Which of the following categories best describes your race or ethnicity?  \\\n",
       "0                                           Response                         \n",
       "1                                                NaN                         \n",
       "2                                                NaN                         \n",
       "3                                                NaN                         \n",
       "4                                                NaN                         \n",
       "\n",
       "             Unnamed: 170  \\\n",
       "0  Other (please specify)   \n",
       "1                     NaN   \n",
       "2                     NaN   \n",
       "3                     NaN   \n",
       "4                     NaN   \n",
       "\n",
       "  Which of the following categories best describes your employment status?  \\\n",
       "0                                           Response                         \n",
       "1                                                NaN                         \n",
       "2                                                NaN                         \n",
       "3                                                NaN                         \n",
       "4                                                NaN                         \n",
       "\n",
       "             Unnamed: 172 Is there anything else you would like to add?  \n",
       "0  Other (please specify)                           Open-Ended Response  \n",
       "1                     NaN                                           NaN  \n",
       "2                     NaN                                           NaN  \n",
       "3                     NaN                                           NaN  \n",
       "4                     NaN                                           NaN  \n",
       "\n",
       "[5 rows x 174 columns]"
      ]
     },
     "execution_count": 3,
     "metadata": {},
     "output_type": "execute_result"
    }
   ],
   "source": [
    "df_a.head()"
   ]
  },
  {
   "cell_type": "code",
   "execution_count": 4,
   "metadata": {},
   "outputs": [
    {
     "data": {
      "text/plain": [
       "Index(['Respondent ID', 'Collector ID', 'Start Date', 'End Date', 'IP Address',\n",
       "       'Email Address', 'First Name', 'Last Name', 'Custom Data 1',\n",
       "       'Which of the following positions most closely reflects your job role? Please select all that apply.',\n",
       "       ...\n",
       "       'Unnamed: 164', 'Unnamed: 165',\n",
       "       'What is the primary language spoken in your work environment?',\n",
       "       'Unnamed: 167',\n",
       "       'Are you of Hispanic or Latino background – such as Mexican, Puerto Rican, Cuban, or another Latin American background?',\n",
       "       'Which of the following categories best describes your race or ethnicity?',\n",
       "       'Unnamed: 170',\n",
       "       'Which of the following categories best describes your employment status?',\n",
       "       'Unnamed: 172', 'Is there anything else you would like to add?'],\n",
       "      dtype='object', length=174)"
      ]
     },
     "execution_count": 4,
     "metadata": {},
     "output_type": "execute_result"
    }
   ],
   "source": [
    "df_a.columns"
   ]
  },
  {
   "cell_type": "code",
   "execution_count": 5,
   "metadata": {},
   "outputs": [
    {
     "data": {
      "text/html": [
       "<div>\n",
       "<style scoped>\n",
       "    .dataframe tbody tr th:only-of-type {\n",
       "        vertical-align: middle;\n",
       "    }\n",
       "\n",
       "    .dataframe tbody tr th {\n",
       "        vertical-align: top;\n",
       "    }\n",
       "\n",
       "    .dataframe thead th {\n",
       "        text-align: right;\n",
       "    }\n",
       "</style>\n",
       "<table border=\"1\" class=\"dataframe\">\n",
       "  <thead>\n",
       "    <tr style=\"text-align: right;\">\n",
       "      <th></th>\n",
       "      <th>Which of the following positions most closely reflects your job role? Please select all that apply.</th>\n",
       "      <th>Unnamed: 10</th>\n",
       "      <th>Unnamed: 11</th>\n",
       "      <th>Unnamed: 12</th>\n",
       "      <th>Unnamed: 13</th>\n",
       "      <th>Unnamed: 14</th>\n",
       "      <th>Which of the following best describes your work environment? Please select all that apply. (i.e. If you are in a combined setting you may select multiple levels.)</th>\n",
       "      <th>Unnamed: 16</th>\n",
       "      <th>Unnamed: 17</th>\n",
       "      <th>Unnamed: 18</th>\n",
       "      <th>...</th>\n",
       "      <th>Unnamed: 164</th>\n",
       "      <th>Unnamed: 165</th>\n",
       "      <th>What is the primary language spoken in your work environment?</th>\n",
       "      <th>Unnamed: 167</th>\n",
       "      <th>Are you of Hispanic or Latino background – such as Mexican, Puerto Rican, Cuban, or another Latin American background?</th>\n",
       "      <th>Which of the following categories best describes your race or ethnicity?</th>\n",
       "      <th>Unnamed: 170</th>\n",
       "      <th>Which of the following categories best describes your employment status?</th>\n",
       "      <th>Unnamed: 172</th>\n",
       "      <th>Is there anything else you would like to add?</th>\n",
       "    </tr>\n",
       "  </thead>\n",
       "  <tbody>\n",
       "    <tr>\n",
       "      <th>0</th>\n",
       "      <td>None of the above</td>\n",
       "      <td>Building Level Administrator</td>\n",
       "      <td>District Level Technology (e.g. tech coordinat...</td>\n",
       "      <td>District Level Administrator</td>\n",
       "      <td>Superintendent</td>\n",
       "      <td>School Board Member</td>\n",
       "      <td>Elementary school</td>\n",
       "      <td>Middle school or junior high school</td>\n",
       "      <td>High school</td>\n",
       "      <td>Multiple buildings</td>\n",
       "      <td>...</td>\n",
       "      <td>English language version</td>\n",
       "      <td>Another language (please specify)</td>\n",
       "      <td>Response</td>\n",
       "      <td>Other (please specify)</td>\n",
       "      <td>Response</td>\n",
       "      <td>Response</td>\n",
       "      <td>Other (please specify)</td>\n",
       "      <td>Response</td>\n",
       "      <td>Other (please specify)</td>\n",
       "      <td>Open-Ended Response</td>\n",
       "    </tr>\n",
       "    <tr>\n",
       "      <th>1</th>\n",
       "      <td>NaN</td>\n",
       "      <td>NaN</td>\n",
       "      <td>NaN</td>\n",
       "      <td>District Level Administrator</td>\n",
       "      <td>NaN</td>\n",
       "      <td>NaN</td>\n",
       "      <td>NaN</td>\n",
       "      <td>NaN</td>\n",
       "      <td>NaN</td>\n",
       "      <td>NaN</td>\n",
       "      <td>...</td>\n",
       "      <td>NaN</td>\n",
       "      <td>NaN</td>\n",
       "      <td>NaN</td>\n",
       "      <td>NaN</td>\n",
       "      <td>NaN</td>\n",
       "      <td>NaN</td>\n",
       "      <td>NaN</td>\n",
       "      <td>NaN</td>\n",
       "      <td>NaN</td>\n",
       "      <td>NaN</td>\n",
       "    </tr>\n",
       "    <tr>\n",
       "      <th>2</th>\n",
       "      <td>NaN</td>\n",
       "      <td>NaN</td>\n",
       "      <td>NaN</td>\n",
       "      <td>District Level Administrator</td>\n",
       "      <td>NaN</td>\n",
       "      <td>NaN</td>\n",
       "      <td>NaN</td>\n",
       "      <td>NaN</td>\n",
       "      <td>NaN</td>\n",
       "      <td>NaN</td>\n",
       "      <td>...</td>\n",
       "      <td>NaN</td>\n",
       "      <td>NaN</td>\n",
       "      <td>NaN</td>\n",
       "      <td>NaN</td>\n",
       "      <td>NaN</td>\n",
       "      <td>NaN</td>\n",
       "      <td>NaN</td>\n",
       "      <td>NaN</td>\n",
       "      <td>NaN</td>\n",
       "      <td>NaN</td>\n",
       "    </tr>\n",
       "    <tr>\n",
       "      <th>3</th>\n",
       "      <td>NaN</td>\n",
       "      <td>NaN</td>\n",
       "      <td>NaN</td>\n",
       "      <td>District Level Administrator</td>\n",
       "      <td>NaN</td>\n",
       "      <td>NaN</td>\n",
       "      <td>Elementary school</td>\n",
       "      <td>Middle school or junior high school</td>\n",
       "      <td>High school</td>\n",
       "      <td>NaN</td>\n",
       "      <td>...</td>\n",
       "      <td>NaN</td>\n",
       "      <td>NaN</td>\n",
       "      <td>NaN</td>\n",
       "      <td>NaN</td>\n",
       "      <td>NaN</td>\n",
       "      <td>NaN</td>\n",
       "      <td>NaN</td>\n",
       "      <td>NaN</td>\n",
       "      <td>NaN</td>\n",
       "      <td>NaN</td>\n",
       "    </tr>\n",
       "    <tr>\n",
       "      <th>4</th>\n",
       "      <td>NaN</td>\n",
       "      <td>NaN</td>\n",
       "      <td>NaN</td>\n",
       "      <td>District Level Administrator</td>\n",
       "      <td>NaN</td>\n",
       "      <td>NaN</td>\n",
       "      <td>NaN</td>\n",
       "      <td>NaN</td>\n",
       "      <td>NaN</td>\n",
       "      <td>NaN</td>\n",
       "      <td>...</td>\n",
       "      <td>NaN</td>\n",
       "      <td>NaN</td>\n",
       "      <td>NaN</td>\n",
       "      <td>NaN</td>\n",
       "      <td>NaN</td>\n",
       "      <td>NaN</td>\n",
       "      <td>NaN</td>\n",
       "      <td>NaN</td>\n",
       "      <td>NaN</td>\n",
       "      <td>NaN</td>\n",
       "    </tr>\n",
       "  </tbody>\n",
       "</table>\n",
       "<p>5 rows × 165 columns</p>\n",
       "</div>"
      ],
      "text/plain": [
       "  Which of the following positions most closely reflects your job role? Please select all that apply.  \\\n",
       "0                                  None of the above                                                    \n",
       "1                                                NaN                                                    \n",
       "2                                                NaN                                                    \n",
       "3                                                NaN                                                    \n",
       "4                                                NaN                                                    \n",
       "\n",
       "                    Unnamed: 10  \\\n",
       "0  Building Level Administrator   \n",
       "1                           NaN   \n",
       "2                           NaN   \n",
       "3                           NaN   \n",
       "4                           NaN   \n",
       "\n",
       "                                         Unnamed: 11  \\\n",
       "0  District Level Technology (e.g. tech coordinat...   \n",
       "1                                                NaN   \n",
       "2                                                NaN   \n",
       "3                                                NaN   \n",
       "4                                                NaN   \n",
       "\n",
       "                    Unnamed: 12     Unnamed: 13          Unnamed: 14  \\\n",
       "0  District Level Administrator  Superintendent  School Board Member   \n",
       "1  District Level Administrator             NaN                  NaN   \n",
       "2  District Level Administrator             NaN                  NaN   \n",
       "3  District Level Administrator             NaN                  NaN   \n",
       "4  District Level Administrator             NaN                  NaN   \n",
       "\n",
       "  Which of the following best describes your work environment? Please select all that apply. (i.e. If you are in a combined setting you may select multiple levels.)  \\\n",
       "0                                  Elementary school                                                                                                                   \n",
       "1                                                NaN                                                                                                                   \n",
       "2                                                NaN                                                                                                                   \n",
       "3                                  Elementary school                                                                                                                   \n",
       "4                                                NaN                                                                                                                   \n",
       "\n",
       "                           Unnamed: 16  Unnamed: 17         Unnamed: 18  ...  \\\n",
       "0  Middle school or junior high school  High school  Multiple buildings  ...   \n",
       "1                                  NaN          NaN                 NaN  ...   \n",
       "2                                  NaN          NaN                 NaN  ...   \n",
       "3  Middle school or junior high school  High school                 NaN  ...   \n",
       "4                                  NaN          NaN                 NaN  ...   \n",
       "\n",
       "               Unnamed: 164                       Unnamed: 165  \\\n",
       "0  English language version  Another language (please specify)   \n",
       "1                       NaN                                NaN   \n",
       "2                       NaN                                NaN   \n",
       "3                       NaN                                NaN   \n",
       "4                       NaN                                NaN   \n",
       "\n",
       "  What is the primary language spoken in your work environment?  \\\n",
       "0                                           Response              \n",
       "1                                                NaN              \n",
       "2                                                NaN              \n",
       "3                                                NaN              \n",
       "4                                                NaN              \n",
       "\n",
       "             Unnamed: 167  \\\n",
       "0  Other (please specify)   \n",
       "1                     NaN   \n",
       "2                     NaN   \n",
       "3                     NaN   \n",
       "4                     NaN   \n",
       "\n",
       "  Are you of Hispanic or Latino background – such as Mexican, Puerto Rican, Cuban, or another Latin American background?  \\\n",
       "0                                           Response                                                                       \n",
       "1                                                NaN                                                                       \n",
       "2                                                NaN                                                                       \n",
       "3                                                NaN                                                                       \n",
       "4                                                NaN                                                                       \n",
       "\n",
       "  Which of the following categories best describes your race or ethnicity?  \\\n",
       "0                                           Response                         \n",
       "1                                                NaN                         \n",
       "2                                                NaN                         \n",
       "3                                                NaN                         \n",
       "4                                                NaN                         \n",
       "\n",
       "             Unnamed: 170  \\\n",
       "0  Other (please specify)   \n",
       "1                     NaN   \n",
       "2                     NaN   \n",
       "3                     NaN   \n",
       "4                     NaN   \n",
       "\n",
       "  Which of the following categories best describes your employment status?  \\\n",
       "0                                           Response                         \n",
       "1                                                NaN                         \n",
       "2                                                NaN                         \n",
       "3                                                NaN                         \n",
       "4                                                NaN                         \n",
       "\n",
       "             Unnamed: 172 Is there anything else you would like to add?  \n",
       "0  Other (please specify)                           Open-Ended Response  \n",
       "1                     NaN                                           NaN  \n",
       "2                     NaN                                           NaN  \n",
       "3                     NaN                                           NaN  \n",
       "4                     NaN                                           NaN  \n",
       "\n",
       "[5 rows x 165 columns]"
      ]
     },
     "execution_count": 5,
     "metadata": {},
     "output_type": "execute_result"
    }
   ],
   "source": [
    "# drop irrelavent ID and date fields\n",
    "df_a = df_a.drop(columns=['Respondent ID', 'Collector ID', 'Start Date', 'End Date'])\n",
    "\n",
    "# drop fields that contain only missing values (NaN)\n",
    "df_a = df_a.dropna(axis=1, how='all')\n",
    "df_a.head()"
   ]
  },
  {
   "cell_type": "code",
   "execution_count": 6,
   "metadata": {},
   "outputs": [],
   "source": [
    "# Drop Q2 - Q4\n",
    "df_a = df_a.drop(df_a.columns[6:37], axis=1)"
   ]
  },
  {
   "cell_type": "code",
   "execution_count": 7,
   "metadata": {},
   "outputs": [
    {
     "data": {
      "text/plain": [
       "(35, 134)"
      ]
     },
     "execution_count": 7,
     "metadata": {},
     "output_type": "execute_result"
    }
   ],
   "source": [
    "df_a.shape"
   ]
  },
  {
   "cell_type": "code",
   "execution_count": 8,
   "metadata": {},
   "outputs": [],
   "source": [
    "# Drop from Q32\n",
    "df_a = df_a.drop(df_a.columns[117:], axis=1)"
   ]
  },
  {
   "cell_type": "code",
   "execution_count": 9,
   "metadata": {},
   "outputs": [
    {
     "name": "stdout",
     "output_type": "stream",
     "text": [
      "Which of the following positions most closely reflects your job role? Please select all that apply.\n",
      "Unnamed: 10\n",
      "Unnamed: 11\n",
      "Unnamed: 12\n",
      "Unnamed: 13\n",
      "Unnamed: 14\n",
      "What does school library staffing look like in your place of work or the school(s) you support? Please select all that apply.\n",
      "Unnamed: 47\n",
      "Unnamed: 48\n",
      "Unnamed: 49\n",
      "Unnamed: 50\n",
      "Unnamed: 51\n",
      "How often do you collaborate and work with the school librarian(s)?\n",
      "What are the main reasons you do not work with or collaborate more often with the school librarian?\n",
      "Who usually initiates collaborations between yourself and the school librarian?\n",
      "Unnamed: 55\n",
      "In your opinion, what are the school librarian’s most important contributions to the education program of the school?\n",
      "Which, if any, of the following leadership opportunities in your organization are school librarians involved? Please select all that apply.\n",
      "Unnamed: 58\n",
      "Unnamed: 59\n",
      "Unnamed: 60\n",
      "Unnamed: 61\n",
      "Unnamed: 62\n",
      "Unnamed: 63\n",
      "Unnamed: 64\n",
      "Unnamed: 65\n",
      "Unnamed: 66\n",
      "Here is an image of the National School Library Standards for Learners, School Librarians, and School Libraries [book] produced by the American Association of School Librarians (AASL)? Please indicate whether you have seen this document before today or have a copy of this document. Please select all that apply. Standards Book Cover\n",
      "Unnamed: 68\n",
      "Unnamed: 69\n",
      "Unnamed: 70\n",
      "Unnamed: 71\n",
      "Unnamed: 72\n",
      "Here is an image of the AASL Standards Framework for Learners [pamphlet] produced by the American Association of School Librarians (AASL)? Please indicate whether you have seen this document before today or have a copy of this document. Please select all that apply. Learner Pamphlet Cover\n",
      "Unnamed: 74\n",
      "Unnamed: 75\n",
      "Unnamed: 76\n",
      "Unnamed: 77\n",
      "Unnamed: 78\n",
      "Did your school or district provide school library personnel with a copy of the National School Library Standards for Learners, School Librarians, and School Libraries book?\n",
      "Unnamed: 80\n",
      "How familiar are you with the content of the National School Library Standards for Learners, School Librarians, and School Libraries?\n",
      "Overall, how would you rate the AASL National School Library Standards?\n",
      "For what reason did you give that rating? Please explain your thinking.\n",
      "Below is a list of words and phrases. Please indicate how well you think each word or phrase describes the National School Library Standards for Learners, School Librarians, and School Libraries.\n",
      "Unnamed: 85\n",
      "Unnamed: 86\n",
      "Unnamed: 87\n",
      "Unnamed: 88\n",
      "Unnamed: 89\n",
      "Unnamed: 90\n",
      "Unnamed: 91\n",
      "Unnamed: 92\n",
      "Unnamed: 93\n",
      "Please state how much you agree or disagree with each of the following statements about AASL’s National School Library Standards for Learners, School Librarians, and School Libraries.\n",
      "Unnamed: 95\n",
      "Unnamed: 96\n",
      "Please state how much you agree or disagree with each of the following Common Beliefs of the school library profession.\n",
      "Unnamed: 98\n",
      "Unnamed: 99\n",
      "Unnamed: 100\n",
      "Unnamed: 101\n",
      "Unnamed: 102\n",
      "Does the school librarian use the National School Library Standards for Learners, School Librarians, and School Libraries in their work?\n",
      "In which of the following ways have you worked with the school librarian to implement the National School Library Standards for Learners, School Librarians, and School Libraries? Please select all that apply.\n",
      "Unnamed: 105\n",
      "Unnamed: 106\n",
      "Unnamed: 107\n",
      "Unnamed: 108\n",
      "Unnamed: 109\n",
      "Unnamed: 110\n",
      "Unnamed: 111\n",
      "Unnamed: 112\n",
      "Unnamed: 113\n",
      "Unnamed: 114\n",
      "Unnamed: 115\n",
      "Unnamed: 116\n",
      "Unnamed: 117\n",
      "Unnamed: 118\n",
      "Unnamed: 119\n",
      "How helpful do you find the National School Library Standards for school librarian performance evaluations in your school or district in each of the following areas?\n",
      "Unnamed: 121\n",
      "Unnamed: 122\n",
      "Unnamed: 123\n",
      "Unnamed: 124\n",
      "Unnamed: 125\n",
      "Unnamed: 126\n",
      "How have you supported professional development opportunities on the National School Library Standards for school librarians in your school or district? Please select all that apply.\n",
      "Unnamed: 128\n",
      "Unnamed: 129\n",
      "Unnamed: 130\n",
      "Unnamed: 131\n",
      "Unnamed: 132\n",
      "Unnamed: 133\n",
      "Unnamed: 134\n",
      "Unnamed: 135\n",
      "Unnamed: 136\n",
      "Unnamed: 137\n",
      "Unnamed: 138\n",
      "What are some things that could be done to better aid your collaboration with your school librarian to implement the National School Library Standards?\n",
      "How frequently do you use or refer to the National School Library Standards when working with your school librarian?\n",
      "How often do you reference each of the following AASL Standards Frameworks when collaborating with your school librarian?\n",
      "Unnamed: 142\n",
      "Unnamed: 143\n",
      "How often do you consider each of the AASL Standards Shared Foundations when collaborating with your school librarian?\n",
      "Unnamed: 145\n",
      "Unnamed: 146\n",
      "Unnamed: 147\n",
      "Unnamed: 148\n",
      "Unnamed: 149\n",
      "How often do you consider each of the AASL Standards Domains when collaborating with your school librarian?\n",
      "Unnamed: 151\n",
      "Unnamed: 152\n",
      "Unnamed: 153\n",
      "Overall, how would you rate AASL’s efforts to set and maintain up-to-date and practical standards and supporting resources?\n",
      "For what reason did you give that rating? Please explain your thinking..1\n",
      "What additional supports would have been helpful to you when you first encountered the National School Library Standards?\n"
     ]
    }
   ],
   "source": [
    "for col in df_a.columns:\n",
    "    print(col)"
   ]
  },
  {
   "cell_type": "code",
   "execution_count": 10,
   "metadata": {},
   "outputs": [
    {
     "data": {
      "text/plain": [
       "(35, 117)"
      ]
     },
     "execution_count": 10,
     "metadata": {},
     "output_type": "execute_result"
    }
   ],
   "source": [
    "df_a.shape"
   ]
  },
  {
   "cell_type": "code",
   "execution_count": 11,
   "metadata": {},
   "outputs": [
    {
     "data": {
      "text/html": [
       "<div>\n",
       "<style scoped>\n",
       "    .dataframe tbody tr th:only-of-type {\n",
       "        vertical-align: middle;\n",
       "    }\n",
       "\n",
       "    .dataframe tbody tr th {\n",
       "        vertical-align: top;\n",
       "    }\n",
       "\n",
       "    .dataframe thead th {\n",
       "        text-align: right;\n",
       "    }\n",
       "</style>\n",
       "<table border=\"1\" class=\"dataframe\">\n",
       "  <thead>\n",
       "    <tr style=\"text-align: right;\">\n",
       "      <th></th>\n",
       "      <th>Which of the following positions most closely reflects your job role? Please select all that apply.</th>\n",
       "      <th>Unnamed: 10</th>\n",
       "      <th>Unnamed: 11</th>\n",
       "      <th>Unnamed: 12</th>\n",
       "      <th>Unnamed: 13</th>\n",
       "      <th>Unnamed: 14</th>\n",
       "      <th>What does school library staffing look like in your place of work or the school(s) you support? Please select all that apply.</th>\n",
       "      <th>Unnamed: 47</th>\n",
       "      <th>Unnamed: 48</th>\n",
       "      <th>Unnamed: 49</th>\n",
       "      <th>...</th>\n",
       "      <th>Unnamed: 147</th>\n",
       "      <th>Unnamed: 148</th>\n",
       "      <th>Unnamed: 149</th>\n",
       "      <th>How often do you consider each of the AASL Standards Domains when collaborating with your school librarian?</th>\n",
       "      <th>Unnamed: 151</th>\n",
       "      <th>Unnamed: 152</th>\n",
       "      <th>Unnamed: 153</th>\n",
       "      <th>Overall, how would you rate AASL’s efforts to set and maintain up-to-date and practical standards and supporting resources?</th>\n",
       "      <th>For what reason did you give that rating? Please explain your thinking..1</th>\n",
       "      <th>What additional supports would have been helpful to you when you first encountered the National School Library Standards?</th>\n",
       "    </tr>\n",
       "  </thead>\n",
       "  <tbody>\n",
       "    <tr>\n",
       "      <th>0</th>\n",
       "      <td>None of the above</td>\n",
       "      <td>Building Level Administrator</td>\n",
       "      <td>District Level Technology (e.g. tech coordinat...</td>\n",
       "      <td>District Level Administrator</td>\n",
       "      <td>Superintendent</td>\n",
       "      <td>School Board Member</td>\n",
       "      <td>None of the above</td>\n",
       "      <td>Certified / licensed school librarian</td>\n",
       "      <td>Paraprofessional or other non-instructional staff</td>\n",
       "      <td>Teacher on special assignment</td>\n",
       "      <td>...</td>\n",
       "      <td>Curate Make meaning for oneself and others by ...</td>\n",
       "      <td>Explore Discover and innovate in a growth mind...</td>\n",
       "      <td>Engage Demonstrate safe, legal, and ethical cr...</td>\n",
       "      <td>Think Inquire, think critically, and gain know...</td>\n",
       "      <td>Create Draw conclusions, make informed decisio...</td>\n",
       "      <td>Share Share knowledge and participate ethicall...</td>\n",
       "      <td>Grow Pursue personal and aesthetic growth</td>\n",
       "      <td>Response</td>\n",
       "      <td>Open-Ended Response</td>\n",
       "      <td>Open-Ended Response</td>\n",
       "    </tr>\n",
       "    <tr>\n",
       "      <th>1</th>\n",
       "      <td>NaN</td>\n",
       "      <td>NaN</td>\n",
       "      <td>NaN</td>\n",
       "      <td>District Level Administrator</td>\n",
       "      <td>NaN</td>\n",
       "      <td>NaN</td>\n",
       "      <td>NaN</td>\n",
       "      <td>Certified / licensed school librarian</td>\n",
       "      <td>Paraprofessional or other non-instructional staff</td>\n",
       "      <td>NaN</td>\n",
       "      <td>...</td>\n",
       "      <td>NaN</td>\n",
       "      <td>NaN</td>\n",
       "      <td>NaN</td>\n",
       "      <td>NaN</td>\n",
       "      <td>NaN</td>\n",
       "      <td>NaN</td>\n",
       "      <td>NaN</td>\n",
       "      <td>NaN</td>\n",
       "      <td>NaN</td>\n",
       "      <td>NaN</td>\n",
       "    </tr>\n",
       "    <tr>\n",
       "      <th>2</th>\n",
       "      <td>NaN</td>\n",
       "      <td>NaN</td>\n",
       "      <td>NaN</td>\n",
       "      <td>District Level Administrator</td>\n",
       "      <td>NaN</td>\n",
       "      <td>NaN</td>\n",
       "      <td>NaN</td>\n",
       "      <td>Certified / licensed school librarian</td>\n",
       "      <td>NaN</td>\n",
       "      <td>NaN</td>\n",
       "      <td>...</td>\n",
       "      <td>NaN</td>\n",
       "      <td>NaN</td>\n",
       "      <td>NaN</td>\n",
       "      <td>NaN</td>\n",
       "      <td>NaN</td>\n",
       "      <td>NaN</td>\n",
       "      <td>NaN</td>\n",
       "      <td>NaN</td>\n",
       "      <td>NaN</td>\n",
       "      <td>NaN</td>\n",
       "    </tr>\n",
       "    <tr>\n",
       "      <th>3</th>\n",
       "      <td>NaN</td>\n",
       "      <td>NaN</td>\n",
       "      <td>NaN</td>\n",
       "      <td>District Level Administrator</td>\n",
       "      <td>NaN</td>\n",
       "      <td>NaN</td>\n",
       "      <td>NaN</td>\n",
       "      <td>Certified / licensed school librarian</td>\n",
       "      <td>Paraprofessional or other non-instructional staff</td>\n",
       "      <td>NaN</td>\n",
       "      <td>...</td>\n",
       "      <td>NaN</td>\n",
       "      <td>NaN</td>\n",
       "      <td>NaN</td>\n",
       "      <td>NaN</td>\n",
       "      <td>NaN</td>\n",
       "      <td>NaN</td>\n",
       "      <td>NaN</td>\n",
       "      <td>NaN</td>\n",
       "      <td>NaN</td>\n",
       "      <td>NaN</td>\n",
       "    </tr>\n",
       "    <tr>\n",
       "      <th>4</th>\n",
       "      <td>NaN</td>\n",
       "      <td>NaN</td>\n",
       "      <td>NaN</td>\n",
       "      <td>District Level Administrator</td>\n",
       "      <td>NaN</td>\n",
       "      <td>NaN</td>\n",
       "      <td>NaN</td>\n",
       "      <td>Certified / licensed school librarian</td>\n",
       "      <td>NaN</td>\n",
       "      <td>NaN</td>\n",
       "      <td>...</td>\n",
       "      <td>NaN</td>\n",
       "      <td>NaN</td>\n",
       "      <td>NaN</td>\n",
       "      <td>NaN</td>\n",
       "      <td>NaN</td>\n",
       "      <td>NaN</td>\n",
       "      <td>NaN</td>\n",
       "      <td>NaN</td>\n",
       "      <td>NaN</td>\n",
       "      <td>NaN</td>\n",
       "    </tr>\n",
       "  </tbody>\n",
       "</table>\n",
       "<p>5 rows × 117 columns</p>\n",
       "</div>"
      ],
      "text/plain": [
       "  Which of the following positions most closely reflects your job role? Please select all that apply.  \\\n",
       "0                                  None of the above                                                    \n",
       "1                                                NaN                                                    \n",
       "2                                                NaN                                                    \n",
       "3                                                NaN                                                    \n",
       "4                                                NaN                                                    \n",
       "\n",
       "                    Unnamed: 10  \\\n",
       "0  Building Level Administrator   \n",
       "1                           NaN   \n",
       "2                           NaN   \n",
       "3                           NaN   \n",
       "4                           NaN   \n",
       "\n",
       "                                         Unnamed: 11  \\\n",
       "0  District Level Technology (e.g. tech coordinat...   \n",
       "1                                                NaN   \n",
       "2                                                NaN   \n",
       "3                                                NaN   \n",
       "4                                                NaN   \n",
       "\n",
       "                    Unnamed: 12     Unnamed: 13          Unnamed: 14  \\\n",
       "0  District Level Administrator  Superintendent  School Board Member   \n",
       "1  District Level Administrator             NaN                  NaN   \n",
       "2  District Level Administrator             NaN                  NaN   \n",
       "3  District Level Administrator             NaN                  NaN   \n",
       "4  District Level Administrator             NaN                  NaN   \n",
       "\n",
       "  What does school library staffing look like in your place of work or the school(s) you support? Please select all that apply.  \\\n",
       "0                                  None of the above                                                                              \n",
       "1                                                NaN                                                                              \n",
       "2                                                NaN                                                                              \n",
       "3                                                NaN                                                                              \n",
       "4                                                NaN                                                                              \n",
       "\n",
       "                             Unnamed: 47  \\\n",
       "0  Certified / licensed school librarian   \n",
       "1  Certified / licensed school librarian   \n",
       "2  Certified / licensed school librarian   \n",
       "3  Certified / licensed school librarian   \n",
       "4  Certified / licensed school librarian   \n",
       "\n",
       "                                         Unnamed: 48  \\\n",
       "0  Paraprofessional or other non-instructional staff   \n",
       "1  Paraprofessional or other non-instructional staff   \n",
       "2                                                NaN   \n",
       "3  Paraprofessional or other non-instructional staff   \n",
       "4                                                NaN   \n",
       "\n",
       "                     Unnamed: 49  ...  \\\n",
       "0  Teacher on special assignment  ...   \n",
       "1                            NaN  ...   \n",
       "2                            NaN  ...   \n",
       "3                            NaN  ...   \n",
       "4                            NaN  ...   \n",
       "\n",
       "                                        Unnamed: 147  \\\n",
       "0  Curate Make meaning for oneself and others by ...   \n",
       "1                                                NaN   \n",
       "2                                                NaN   \n",
       "3                                                NaN   \n",
       "4                                                NaN   \n",
       "\n",
       "                                        Unnamed: 148  \\\n",
       "0  Explore Discover and innovate in a growth mind...   \n",
       "1                                                NaN   \n",
       "2                                                NaN   \n",
       "3                                                NaN   \n",
       "4                                                NaN   \n",
       "\n",
       "                                        Unnamed: 149  \\\n",
       "0  Engage Demonstrate safe, legal, and ethical cr...   \n",
       "1                                                NaN   \n",
       "2                                                NaN   \n",
       "3                                                NaN   \n",
       "4                                                NaN   \n",
       "\n",
       "  How often do you consider each of the AASL Standards Domains when collaborating with your school librarian?  \\\n",
       "0  Think Inquire, think critically, and gain know...                                                            \n",
       "1                                                NaN                                                            \n",
       "2                                                NaN                                                            \n",
       "3                                                NaN                                                            \n",
       "4                                                NaN                                                            \n",
       "\n",
       "                                        Unnamed: 151  \\\n",
       "0  Create Draw conclusions, make informed decisio...   \n",
       "1                                                NaN   \n",
       "2                                                NaN   \n",
       "3                                                NaN   \n",
       "4                                                NaN   \n",
       "\n",
       "                                        Unnamed: 152  \\\n",
       "0  Share Share knowledge and participate ethicall...   \n",
       "1                                                NaN   \n",
       "2                                                NaN   \n",
       "3                                                NaN   \n",
       "4                                                NaN   \n",
       "\n",
       "                                Unnamed: 153  \\\n",
       "0  Grow Pursue personal and aesthetic growth   \n",
       "1                                        NaN   \n",
       "2                                        NaN   \n",
       "3                                        NaN   \n",
       "4                                        NaN   \n",
       "\n",
       "  Overall, how would you rate AASL’s efforts to set and maintain up-to-date and practical standards and supporting resources?  \\\n",
       "0                                           Response                                                                            \n",
       "1                                                NaN                                                                            \n",
       "2                                                NaN                                                                            \n",
       "3                                                NaN                                                                            \n",
       "4                                                NaN                                                                            \n",
       "\n",
       "  For what reason did you give that rating? Please explain your thinking..1  \\\n",
       "0                                Open-Ended Response                          \n",
       "1                                                NaN                          \n",
       "2                                                NaN                          \n",
       "3                                                NaN                          \n",
       "4                                                NaN                          \n",
       "\n",
       "  What additional supports would have been helpful to you when you first encountered the National School Library Standards?  \n",
       "0                                Open-Ended Response                                                                         \n",
       "1                                                NaN                                                                         \n",
       "2                                                NaN                                                                         \n",
       "3                                                NaN                                                                         \n",
       "4                                                NaN                                                                         \n",
       "\n",
       "[5 rows x 117 columns]"
      ]
     },
     "execution_count": 11,
     "metadata": {},
     "output_type": "execute_result"
    }
   ],
   "source": [
    "df_a.head()"
   ]
  },
  {
   "cell_type": "code",
   "execution_count": 12,
   "metadata": {},
   "outputs": [],
   "source": [
    "df_a.rename(columns={df_a.columns[0]: 'q1_none', # Q1\n",
    "                     df_a.columns[1]: 'q1_building',\n",
    "                     df_a.columns[2]: 'q1_district_technology',\n",
    "                     df_a.columns[3]: 'q1_district_administrator',\n",
    "                     df_a.columns[4]: 'q1_superintendent',\n",
    "                     df_a.columns[5]: 'q1_school_board',\n",
    "\n",
    "                     df_a.columns[6]: 'q5_none', # Q5\n",
    "                     df_a.columns[7]: 'q5_certified',\n",
    "                     df_a.columns[8]: 'q5_noninstructional',\n",
    "                     df_a.columns[9]: 'q5_special_teacher',\n",
    "                     df_a.columns[10]: 'q5_volunteer',\n",
    "                     df_a.columns[11]: 'q5_not_sure',\n",
    "\n",
    "                     df_a.columns[12]: 'q6_how_often', # Q6\n",
    "                     df_a.columns[13]: 'q7_main_reason', # Q7\n",
    "\n",
    "                     df_a.columns[14]: 'q8_initiate', # Q8\n",
    "                     df_a.columns[15]: 'q8_others',\n",
    "\n",
    "                     df_a.columns[16]: 'q9_librarians_contribution', # Q9\n",
    "\n",
    "                     df_a.columns[17]: 'q10_none', # Q10\n",
    "                     df_a.columns[18]: 'q10_building_leadership',\n",
    "                     df_a.columns[19]: 'q10_school_improvement',\n",
    "                     df_a.columns[20]: 'q10_district_leadership',\n",
    "                     df_a.columns[21]: 'q10_district_improvement',\n",
    "                     df_a.columns[22]: 'q10_district_strategy',\n",
    "                     df_a.columns[23]: 'q10_technology_committee',\n",
    "                     df_a.columns[24]: 'q10_professional_learning',\n",
    "                     df_a.columns[25]: 'q10_curriculum_committee',\n",
    "                     df_a.columns[26]: 'q10_others'}\n",
    "                     , inplace=True)"
   ]
  },
  {
   "cell_type": "code",
   "execution_count": 13,
   "metadata": {},
   "outputs": [],
   "source": [
    "df_a.rename(columns={df_a.columns[27]: 'q11_no', # Q11\n",
    "                     df_a.columns[28]: 'q11_yes_purchase',\n",
    "                     df_a.columns[29]: 'q11_yes_from_workplace',\n",
    "                     df_a.columns[30]: 'q11_yes_from_librarian',\n",
    "                     df_a.columns[31]: 'q11_yes_not_own',\n",
    "                     df_a.columns[32]: 'q11_others',\n",
    "\n",
    "                     df_a.columns[33]: 'q12_no', # Q12\n",
    "                     df_a.columns[34]: 'q12_yes_purchase',\n",
    "                     df_a.columns[35]: 'q12_yes_from_workplace',\n",
    "                     df_a.columns[36]: 'q12_yes_from_librarian',\n",
    "                     df_a.columns[37]: 'q12_yes_not_own',\n",
    "                     df_a.columns[38]: 'q12_others',\n",
    "\n",
    "                     df_a.columns[39]: 'q13_provide_copy', # Q13\n",
    "                     df_a.columns[40]: 'q13_others',\n",
    "\n",
    "                     df_a.columns[41]: 'q14_how_familiar', # Q14\n",
    "                     df_a.columns[42]: 'q15_rate', # Q15\n",
    "                     df_a.columns[43]: 'q16_poor_rating_reason', # Q16\n",
    "\n",
    "                     df_a.columns[44]: 'q17_valuable', # Q17\n",
    "                     df_a.columns[45]: 'q17_relevant',\n",
    "                     df_a.columns[46]: 'q17_practical',\n",
    "                     df_a.columns[47]: 'q17_useful',\n",
    "                     df_a.columns[48]: 'q17_easy_to_use',\n",
    "                     df_a.columns[49]: 'q17_easy_to_understand',\n",
    "                     df_a.columns[50]: 'q17_well_written',\n",
    "                     df_a.columns[51]: 'q17_nicely_designed',\n",
    "                     df_a.columns[52]: 'q17_well_organized',\n",
    "                     df_a.columns[53]: 'q17_ADA_accessible',\n",
    "\n",
    "                     df_a.columns[54]: 'q18_mirror_other_standards.', # Q18\n",
    "                     df_a.columns[55]: 'q18_crosswalk_with_other_standards',\n",
    "                     df_a.columns[56]: 'q18_align_educational_outlook'}\n",
    "                     , inplace=True)"
   ]
  },
  {
   "cell_type": "code",
   "execution_count": 14,
   "metadata": {},
   "outputs": [],
   "source": [
    "df_a.rename(columns={df_a.columns[57]: 'q19_unique_and_essential', # Q19\n",
    "                     df_a.columns[58]: 'q19_effective',\n",
    "                     df_a.columns[59]: 'q19_prepared',\n",
    "                     df_a.columns[60]: 'q19_reading',\n",
    "                     df_a.columns[61]: 'q19_intellectual_freedom',\n",
    "                     df_a.columns[62]: 'q19_equitably_available',\n",
    "\n",
    "                     df_a.columns[63]: 'q20_librarian_using', # Q20\n",
    "\n",
    "                     df_a.columns[64]: 'q21_none', # Q21\n",
    "                     df_a.columns[65]: 'q21_lesson_preparation_and_assessment',\n",
    "                     df_a.columns[66]: 'q21_evaluate_librarians_or_libraries',\n",
    "                     df_a.columns[67]: 'q21_learning_opportunities_for_educators',\n",
    "                     df_a.columns[68]: 'q21_collaboration_with_teacher',\n",
    "                     df_a.columns[69]: 'q21_with_other_educators',\n",
    "                     df_a.columns[70]: 'q21_with_external_stakeholders',\n",
    "                     df_a.columns[71]: 'q21_with_parents',\n",
    "                     df_a.columns[72]: 'q21_demonstrate_learner_success',\n",
    "                     df_a.columns[73]: 'q21_guide_instructional_priorities',\n",
    "                     df_a.columns[74]: 'q21_develop_curriculum',\n",
    "                     df_a.columns[75]: 'q21_advocate_for_school_library',\n",
    "                     df_a.columns[76]: 'q21_advocate_for_learners',\n",
    "                     df_a.columns[77]: 'q21_increase_understanding_of_school_librarian',\n",
    "                     df_a.columns[78]: 'q21_support_school_mission',\n",
    "                     df_a.columns[79]: 'q21_others',\n",
    "\n",
    "                     df_a.columns[80]: 'q22_direct_instruction', # Q22\n",
    "                     df_a.columns[81]: 'q22_lesson_development',\n",
    "                     df_a.columns[82]: 'q22_collaboration',\n",
    "                     df_a.columns[83]: 'q22_collection',\n",
    "                     df_a.columns[84]: 'q22_leadership',\n",
    "                     df_a.columns[85]: 'q22_advocacy',\n",
    "                     df_a.columns[86]: 'q22_goal_and_planning'}\n",
    "                     , inplace=True)"
   ]
  },
  {
   "cell_type": "code",
   "execution_count": 15,
   "metadata": {},
   "outputs": [],
   "source": [
    "df_a.rename(columns={df_a.columns[87]: 'q23_none', # Q23\n",
    "                     df_a.columns[88]: 'q23_professional_associations',\n",
    "                     df_a.columns[89]: 'q23_conferences',\n",
    "                     df_a.columns[90]: 'q23_workshops',\n",
    "                     df_a.columns[91]: 'q23_webinars',\n",
    "                     df_a.columns[92]: 'q23_orgnization',\n",
    "                     df_a.columns[93]: 'q23_leaders',\n",
    "                     df_a.columns[94]: 'q23_facilitate_trainings',\n",
    "                     df_a.columns[95]: 'q23_self_training_encouraged',\n",
    "                     df_a.columns[96]: 'q23_self_training_expected',\n",
    "                     df_a.columns[97]: 'q23_purchase_publications',\n",
    "                     df_a.columns[98]: 'q23_others',\n",
    "\n",
    "                     df_a.columns[99]: 'q24_collaboration_aids', # Q24\n",
    "                     df_a.columns[100]: 'q25_refer_to_standards', # Q25\n",
    "\n",
    "                     df_a.columns[101]: 'q26_for_learners', # Q26\n",
    "                     df_a.columns[102]: 'q26_for_school_librarians',\n",
    "                     df_a.columns[103]: 'q26_for_school_libraries',\n",
    "\n",
    "                     df_a.columns[104]: 'q27_inquire', # Q27\n",
    "                     df_a.columns[105]: 'q27_include',\n",
    "                     df_a.columns[106]: 'q27_collaborate',\n",
    "                     df_a.columns[107]: 'q27_curate',\n",
    "                     df_a.columns[108]: 'q27_explore',\n",
    "                     df_a.columns[109]: 'q27_engage',\n",
    "\n",
    "                     df_a.columns[110]: 'q28_think', # Q28\n",
    "                     df_a.columns[111]: 'q28_create',\n",
    "                     df_a.columns[112]: 'q28_share',\n",
    "                     df_a.columns[113]: 'q28_grow',\n",
    "\n",
    "                     df_a.columns[114]: 'q29_rate_support_materials', # Q29\n",
    "                     df_a.columns[115]: 'q30_poor_support_reason', # Q30\n",
    "                     df_a.columns[116]: 'q31_additional_support'} # Q31\n",
    "                     , inplace=True)"
   ]
  },
  {
   "cell_type": "code",
   "execution_count": 16,
   "metadata": {},
   "outputs": [],
   "source": [
    "df_a = df_a.iloc[1:].reset_index(drop=True)"
   ]
  },
  {
   "cell_type": "code",
   "execution_count": 17,
   "metadata": {},
   "outputs": [
    {
     "data": {
      "text/html": [
       "<div>\n",
       "<style scoped>\n",
       "    .dataframe tbody tr th:only-of-type {\n",
       "        vertical-align: middle;\n",
       "    }\n",
       "\n",
       "    .dataframe tbody tr th {\n",
       "        vertical-align: top;\n",
       "    }\n",
       "\n",
       "    .dataframe thead th {\n",
       "        text-align: right;\n",
       "    }\n",
       "</style>\n",
       "<table border=\"1\" class=\"dataframe\">\n",
       "  <thead>\n",
       "    <tr style=\"text-align: right;\">\n",
       "      <th></th>\n",
       "      <th>q1_none</th>\n",
       "      <th>q1_building</th>\n",
       "      <th>q1_district_technology</th>\n",
       "      <th>q1_district_administrator</th>\n",
       "      <th>q1_superintendent</th>\n",
       "      <th>q1_school_board</th>\n",
       "      <th>q5_none</th>\n",
       "      <th>q5_certified</th>\n",
       "      <th>q5_noninstructional</th>\n",
       "      <th>q5_special_teacher</th>\n",
       "      <th>...</th>\n",
       "      <th>q27_curate</th>\n",
       "      <th>q27_explore</th>\n",
       "      <th>q27_engage</th>\n",
       "      <th>q28_think</th>\n",
       "      <th>q28_create</th>\n",
       "      <th>q28_share</th>\n",
       "      <th>q28_grow</th>\n",
       "      <th>q29_rate_support_materials</th>\n",
       "      <th>q30_poor_support_reason</th>\n",
       "      <th>q31_additional_support</th>\n",
       "    </tr>\n",
       "  </thead>\n",
       "  <tbody>\n",
       "    <tr>\n",
       "      <th>0</th>\n",
       "      <td>NaN</td>\n",
       "      <td>NaN</td>\n",
       "      <td>NaN</td>\n",
       "      <td>District Level Administrator</td>\n",
       "      <td>NaN</td>\n",
       "      <td>NaN</td>\n",
       "      <td>NaN</td>\n",
       "      <td>Certified / licensed school librarian</td>\n",
       "      <td>Paraprofessional or other non-instructional staff</td>\n",
       "      <td>NaN</td>\n",
       "      <td>...</td>\n",
       "      <td>NaN</td>\n",
       "      <td>NaN</td>\n",
       "      <td>NaN</td>\n",
       "      <td>NaN</td>\n",
       "      <td>NaN</td>\n",
       "      <td>NaN</td>\n",
       "      <td>NaN</td>\n",
       "      <td>NaN</td>\n",
       "      <td>NaN</td>\n",
       "      <td>NaN</td>\n",
       "    </tr>\n",
       "    <tr>\n",
       "      <th>1</th>\n",
       "      <td>NaN</td>\n",
       "      <td>NaN</td>\n",
       "      <td>NaN</td>\n",
       "      <td>District Level Administrator</td>\n",
       "      <td>NaN</td>\n",
       "      <td>NaN</td>\n",
       "      <td>NaN</td>\n",
       "      <td>Certified / licensed school librarian</td>\n",
       "      <td>NaN</td>\n",
       "      <td>NaN</td>\n",
       "      <td>...</td>\n",
       "      <td>NaN</td>\n",
       "      <td>NaN</td>\n",
       "      <td>NaN</td>\n",
       "      <td>NaN</td>\n",
       "      <td>NaN</td>\n",
       "      <td>NaN</td>\n",
       "      <td>NaN</td>\n",
       "      <td>NaN</td>\n",
       "      <td>NaN</td>\n",
       "      <td>NaN</td>\n",
       "    </tr>\n",
       "    <tr>\n",
       "      <th>2</th>\n",
       "      <td>NaN</td>\n",
       "      <td>NaN</td>\n",
       "      <td>NaN</td>\n",
       "      <td>District Level Administrator</td>\n",
       "      <td>NaN</td>\n",
       "      <td>NaN</td>\n",
       "      <td>NaN</td>\n",
       "      <td>Certified / licensed school librarian</td>\n",
       "      <td>Paraprofessional or other non-instructional staff</td>\n",
       "      <td>NaN</td>\n",
       "      <td>...</td>\n",
       "      <td>NaN</td>\n",
       "      <td>NaN</td>\n",
       "      <td>NaN</td>\n",
       "      <td>NaN</td>\n",
       "      <td>NaN</td>\n",
       "      <td>NaN</td>\n",
       "      <td>NaN</td>\n",
       "      <td>NaN</td>\n",
       "      <td>NaN</td>\n",
       "      <td>NaN</td>\n",
       "    </tr>\n",
       "    <tr>\n",
       "      <th>3</th>\n",
       "      <td>NaN</td>\n",
       "      <td>NaN</td>\n",
       "      <td>NaN</td>\n",
       "      <td>District Level Administrator</td>\n",
       "      <td>NaN</td>\n",
       "      <td>NaN</td>\n",
       "      <td>NaN</td>\n",
       "      <td>Certified / licensed school librarian</td>\n",
       "      <td>NaN</td>\n",
       "      <td>NaN</td>\n",
       "      <td>...</td>\n",
       "      <td>NaN</td>\n",
       "      <td>NaN</td>\n",
       "      <td>NaN</td>\n",
       "      <td>NaN</td>\n",
       "      <td>NaN</td>\n",
       "      <td>NaN</td>\n",
       "      <td>NaN</td>\n",
       "      <td>NaN</td>\n",
       "      <td>NaN</td>\n",
       "      <td>NaN</td>\n",
       "    </tr>\n",
       "    <tr>\n",
       "      <th>4</th>\n",
       "      <td>NaN</td>\n",
       "      <td>Building Level Administrator</td>\n",
       "      <td>NaN</td>\n",
       "      <td>NaN</td>\n",
       "      <td>NaN</td>\n",
       "      <td>NaN</td>\n",
       "      <td>NaN</td>\n",
       "      <td>NaN</td>\n",
       "      <td>NaN</td>\n",
       "      <td>NaN</td>\n",
       "      <td>...</td>\n",
       "      <td>NaN</td>\n",
       "      <td>NaN</td>\n",
       "      <td>NaN</td>\n",
       "      <td>NaN</td>\n",
       "      <td>NaN</td>\n",
       "      <td>NaN</td>\n",
       "      <td>NaN</td>\n",
       "      <td>NaN</td>\n",
       "      <td>NaN</td>\n",
       "      <td>NaN</td>\n",
       "    </tr>\n",
       "  </tbody>\n",
       "</table>\n",
       "<p>5 rows × 117 columns</p>\n",
       "</div>"
      ],
      "text/plain": [
       "  q1_none                   q1_building q1_district_technology  \\\n",
       "0     NaN                           NaN                    NaN   \n",
       "1     NaN                           NaN                    NaN   \n",
       "2     NaN                           NaN                    NaN   \n",
       "3     NaN                           NaN                    NaN   \n",
       "4     NaN  Building Level Administrator                    NaN   \n",
       "\n",
       "      q1_district_administrator q1_superintendent q1_school_board q5_none  \\\n",
       "0  District Level Administrator               NaN             NaN     NaN   \n",
       "1  District Level Administrator               NaN             NaN     NaN   \n",
       "2  District Level Administrator               NaN             NaN     NaN   \n",
       "3  District Level Administrator               NaN             NaN     NaN   \n",
       "4                           NaN               NaN             NaN     NaN   \n",
       "\n",
       "                            q5_certified  \\\n",
       "0  Certified / licensed school librarian   \n",
       "1  Certified / licensed school librarian   \n",
       "2  Certified / licensed school librarian   \n",
       "3  Certified / licensed school librarian   \n",
       "4                                    NaN   \n",
       "\n",
       "                                 q5_noninstructional q5_special_teacher  ...  \\\n",
       "0  Paraprofessional or other non-instructional staff                NaN  ...   \n",
       "1                                                NaN                NaN  ...   \n",
       "2  Paraprofessional or other non-instructional staff                NaN  ...   \n",
       "3                                                NaN                NaN  ...   \n",
       "4                                                NaN                NaN  ...   \n",
       "\n",
       "  q27_curate q27_explore q27_engage q28_think q28_create q28_share q28_grow  \\\n",
       "0        NaN         NaN        NaN       NaN        NaN       NaN      NaN   \n",
       "1        NaN         NaN        NaN       NaN        NaN       NaN      NaN   \n",
       "2        NaN         NaN        NaN       NaN        NaN       NaN      NaN   \n",
       "3        NaN         NaN        NaN       NaN        NaN       NaN      NaN   \n",
       "4        NaN         NaN        NaN       NaN        NaN       NaN      NaN   \n",
       "\n",
       "  q29_rate_support_materials q30_poor_support_reason q31_additional_support  \n",
       "0                        NaN                     NaN                    NaN  \n",
       "1                        NaN                     NaN                    NaN  \n",
       "2                        NaN                     NaN                    NaN  \n",
       "3                        NaN                     NaN                    NaN  \n",
       "4                        NaN                     NaN                    NaN  \n",
       "\n",
       "[5 rows x 117 columns]"
      ]
     },
     "execution_count": 17,
     "metadata": {},
     "output_type": "execute_result"
    }
   ],
   "source": [
    "df_a.head()"
   ]
  },
  {
   "cell_type": "code",
   "execution_count": 18,
   "metadata": {},
   "outputs": [],
   "source": [
    "# Drop the first column\n",
    "df_a = df_a.iloc[:, 1:]\n",
    "\n",
    "# Drop rows with all NaN values\n",
    "df_a = df_a.dropna(how='all')"
   ]
  },
  {
   "cell_type": "code",
   "execution_count": 19,
   "metadata": {},
   "outputs": [
    {
     "data": {
      "text/plain": [
       "(30, 116)"
      ]
     },
     "execution_count": 19,
     "metadata": {},
     "output_type": "execute_result"
    }
   ],
   "source": [
    "df_a.shape"
   ]
  },
  {
   "cell_type": "code",
   "execution_count": 20,
   "metadata": {},
   "outputs": [],
   "source": [
    "# Q17 - Replace extreme values with corresponding integers\n",
    "df_a_q17 = df_a.iloc[:, [0] + list(range(43, 53))].dropna(\n",
    "    subset=df_a.columns[43:53], how='all')\n",
    "\n",
    "df_a_q17.iloc[:, 1:11] = df_a_q17.iloc[:, 1:11].replace({\n",
    "        'Describes completely': 6,\n",
    "        '2': 5,\n",
    "        '3': 4,\n",
    "        '4': 3,\n",
    "        '5': 2,\n",
    "        'Does not describe at all': 0\n",
    "    }).astype(int)"
   ]
  },
  {
   "cell_type": "code",
   "execution_count": 21,
   "metadata": {},
   "outputs": [],
   "source": [
    "# Q18 - Two-extremes rescale\n",
    "df_a_q18 = df_a.iloc[:, [0] + list(range(53, 56))].dropna(\n",
    "    subset=df_a.columns[53:56], how='all')\n",
    "\n",
    "df_a_q18.iloc[:, 1:4] = df_a_q18.iloc[:, 1:4].replace({\n",
    "    \"Strongly agree\": 2,\n",
    "    \"Somewhat agree\": 1,\n",
    "    \"Somewhat disagree\": -1,\n",
    "    \"Strongly disagree\": -2\n",
    "}).astype(int)"
   ]
  },
  {
   "cell_type": "code",
   "execution_count": 22,
   "metadata": {},
   "outputs": [],
   "source": [
    "# Q19 - Two-extremes rescale\n",
    "df_a_q19 = df_a.iloc[:, [0] + list(range(56, 62))].dropna(\n",
    "    subset=df_a.columns[56:62], how='all')\n",
    "\n",
    "df_a_q19.iloc[:, 1:7] = df_a_q19.iloc[:, 1:7].replace({\n",
    "    \"Strongly agree\": 2,\n",
    "    \"Somewhat agree\": 1,\n",
    "    \"Somewhat disagree\": -1,\n",
    "    \"Strongly disagree\": -2\n",
    "}).astype(int)"
   ]
  },
  {
   "cell_type": "code",
   "execution_count": 23,
   "metadata": {},
   "outputs": [],
   "source": [
    "# Q26 - Four levels\n",
    "df_a_q26 = df_a.iloc[:, [0] + list(range(100, 103))].dropna(\n",
    "    subset=df_a.columns[100:103], how='all')\n",
    "\n",
    "df_a_q26.iloc[:, 1:4] = df_a_q26.iloc[:, 1:4].replace({\n",
    "    \"All the time\": 3,\n",
    "    \"Sometimes\": 2,\n",
    "    \"Rarely\": 1,\n",
    "    \"Never\": 0,\n",
    "}).astype(int)"
   ]
  },
  {
   "cell_type": "code",
   "execution_count": 24,
   "metadata": {},
   "outputs": [],
   "source": [
    "# Q27 - Four levels\n",
    "df_a_q27 = df_a.iloc[:, [0] + list(range(103, 109))].dropna(\n",
    "    subset=df_a.columns[103:109], how='all')\n",
    "\n",
    "df_a_q27.iloc[:, 1:7] = df_a_q27.iloc[:, 1:7].replace({\n",
    "    \"All the time\": 3,\n",
    "    \"Sometimes\": 2,\n",
    "    \"Rarely\": 1,\n",
    "    \"Never\": 0,\n",
    "}).astype(int)"
   ]
  },
  {
   "cell_type": "code",
   "execution_count": 25,
   "metadata": {},
   "outputs": [],
   "source": [
    "# Q28 - Four levels\n",
    "df_a_q28 = df_a.iloc[:, [0] + list(range(109, 113))].dropna(\n",
    "    subset=df_a.columns[109:113], how='all')\n",
    "\n",
    "df_a_q28.iloc[:, 1:5] = df_a_q28.iloc[:, 1:5].replace({\n",
    "    \"All the time\": 3,\n",
    "    \"Sometimes\": 2,\n",
    "    \"Rarely\": 1,\n",
    "    \"Never\": 0,\n",
    "}).astype(int)"
   ]
  },
  {
   "cell_type": "code",
   "execution_count": 26,
   "metadata": {},
   "outputs": [],
   "source": [
    "# OneHot encode\n",
    "df_a.iloc[:, 0:5] = df_a.iloc[:, 0:5].notna().astype(int) # Q1\n",
    "df_a.iloc[:, 5:11] = df_a.iloc[:, 5:11].notna().astype(int) # Q5\n",
    "df_a.iloc[:, 16:25] = df_a.iloc[:, 16:25].notna().astype(int) # Q10\n",
    "df_a.iloc[:, 26:31] = df_a.iloc[:, 26:31].notna().astype(int) # Q11\n",
    "df_a.iloc[:, 32:37] = df_a.iloc[:, 32:37].notna().astype(int) # Q12\n",
    "df_a.iloc[:, 63:78] = df_a.iloc[:, 63:78].notna().astype(int) # Q21\n",
    "df_a.iloc[:, 86:97] = df_a.iloc[:, 86:97].notna().astype(int) # Q23"
   ]
  },
  {
   "cell_type": "markdown",
   "metadata": {},
   "source": [
    "## Analysis"
   ]
  },
  {
   "cell_type": "markdown",
   "metadata": {},
   "source": [
    "`q1`: Which of the following positions most closely reflects your job role? Please select all that apply."
   ]
  },
  {
   "cell_type": "code",
   "execution_count": 27,
   "metadata": {},
   "outputs": [
    {
     "name": "stdout",
     "output_type": "stream",
     "text": [
      "q1_building                  13\n",
      "q1_district_technology        1\n",
      "q1_district_administrator    16\n",
      "q1_superintendent             0\n",
      "q1_school_board               0\n",
      "dtype: object\n"
     ]
    }
   ],
   "source": [
    "q1_distribution = df_a.iloc[:, 0:5].sum()\n",
    "print(q1_distribution)"
   ]
  },
  {
   "cell_type": "code",
   "execution_count": 28,
   "metadata": {},
   "outputs": [
    {
     "name": "stdout",
     "output_type": "stream",
     "text": [
      "Percentage:\n",
      " q1_building                  43.333333\n",
      "q1_district_technology        3.333333\n",
      "q1_district_administrator    53.333333\n",
      "q1_superintendent                  0.0\n",
      "q1_school_board                    0.0\n",
      "dtype: object\n"
     ]
    }
   ],
   "source": [
    "# Calculate the percentage\n",
    "q1_percentage = (q1_distribution / q1_distribution.sum()) * 100\n",
    "print(\"Percentage:\\n\", q1_percentage)"
   ]
  },
  {
   "cell_type": "code",
   "execution_count": 29,
   "metadata": {},
   "outputs": [
    {
     "name": "stdout",
     "output_type": "stream",
     "text": [
      "Number of multiple choices: 0\n",
      "Choices for those selecting multiple options:\n",
      "Empty DataFrame\n",
      "Columns: [q1_building, q1_district_technology, q1_district_administrator, q1_superintendent, q1_school_board]\n",
      "Index: []\n"
     ]
    }
   ],
   "source": [
    "# Calculate the number of multiple choices\n",
    "multiple_choices = (df_a.iloc[:, 0:5].sum(axis=1) > 1).sum()\n",
    "print(\"Number of multiple choices:\", multiple_choices)\n",
    "\n",
    "# Filter rows where multiple choices were made\n",
    "multiple_choices_rows = df_a[df_a.iloc[:, 0:5].sum(axis=1) > 1]\n",
    "print(\"Choices for those selecting multiple options:\")\n",
    "print(multiple_choices_rows.iloc[:, 0:5])"
   ]
  },
  {
   "cell_type": "markdown",
   "metadata": {},
   "source": [
    "- There are 30 respondents at all.\n",
    "\n",
    "- There are only 3 different kinds of administrators, and none of them replied multiple options."
   ]
  },
  {
   "cell_type": "markdown",
   "metadata": {},
   "source": [
    "### Utilization"
   ]
  },
  {
   "cell_type": "markdown",
   "metadata": {},
   "source": [
    "`q11`: Here is an image of the National School Library Standards for Learners, School Librarians, and School Libraries [book] produced by the American Association of School Librarians (AASL)? Please indicate whether you have seen this document before today or have a copy of this document. Please select all that apply."
   ]
  },
  {
   "cell_type": "code",
   "execution_count": 30,
   "metadata": {},
   "outputs": [
    {
     "data": {
      "text/html": [
       "<div>\n",
       "<style scoped>\n",
       "    .dataframe tbody tr th:only-of-type {\n",
       "        vertical-align: middle;\n",
       "    }\n",
       "\n",
       "    .dataframe tbody tr th {\n",
       "        vertical-align: top;\n",
       "    }\n",
       "\n",
       "    .dataframe thead th {\n",
       "        text-align: right;\n",
       "    }\n",
       "</style>\n",
       "<table border=\"1\" class=\"dataframe\">\n",
       "  <thead>\n",
       "    <tr style=\"text-align: right;\">\n",
       "      <th></th>\n",
       "      <th>Count</th>\n",
       "      <th>Percentage</th>\n",
       "    </tr>\n",
       "  </thead>\n",
       "  <tbody>\n",
       "    <tr>\n",
       "      <th>q11_yes_from_workplace</th>\n",
       "      <td>6</td>\n",
       "      <td>33.333333</td>\n",
       "    </tr>\n",
       "    <tr>\n",
       "      <th>q11_yes_purchase</th>\n",
       "      <td>5</td>\n",
       "      <td>27.777778</td>\n",
       "    </tr>\n",
       "    <tr>\n",
       "      <th>q11_yes_not_own</th>\n",
       "      <td>4</td>\n",
       "      <td>22.222222</td>\n",
       "    </tr>\n",
       "    <tr>\n",
       "      <th>q11_yes_from_librarian</th>\n",
       "      <td>3</td>\n",
       "      <td>16.666667</td>\n",
       "    </tr>\n",
       "    <tr>\n",
       "      <th>q11_no</th>\n",
       "      <td>1</td>\n",
       "      <td>5.555556</td>\n",
       "    </tr>\n",
       "  </tbody>\n",
       "</table>\n",
       "</div>"
      ],
      "text/plain": [
       "                       Count Percentage\n",
       "q11_yes_from_workplace     6  33.333333\n",
       "q11_yes_purchase           5  27.777778\n",
       "q11_yes_not_own            4  22.222222\n",
       "q11_yes_from_librarian     3  16.666667\n",
       "q11_no                     1   5.555556"
      ]
     },
     "execution_count": 30,
     "metadata": {},
     "output_type": "execute_result"
    }
   ],
   "source": [
    "df_a_q11 = df_a.iloc[:, 26:31]\n",
    "counts = df_a_q11.sum()\n",
    "percentages = (counts / 18) * 100\n",
    "\n",
    "result = pd.DataFrame({\n",
    "    'Count': counts,\n",
    "    'Percentage': percentages\n",
    "})\n",
    "\n",
    "result.sort_values(by='Count', ascending=False, inplace=True)\n",
    "result"
   ]
  },
  {
   "cell_type": "markdown",
   "metadata": {},
   "source": [
    "- The majority of administrators are familiar with the AASL Standards, primarily through workplace-provided copies (33%) or personal purchases (28%).\n",
    "\n",
    "- A notable proportion (17%) received their copies directly from librarians, highlighting librarians' active role in promoting the standards.\n",
    "\n",
    "- Only a small minority (6%) have never seen the standards, suggesting strong overall penetration among administrators."
   ]
  },
  {
   "cell_type": "markdown",
   "metadata": {},
   "source": [
    "`q12`: Here is an image of the AASL Standards Framework for Learners [pamphlet] produced by the American Association of School Librarians (AASL)? Please indicate whether you have seen this document before today or have a copy of this document. Please select all that apply."
   ]
  },
  {
   "cell_type": "code",
   "execution_count": 31,
   "metadata": {},
   "outputs": [
    {
     "data": {
      "text/html": [
       "<div>\n",
       "<style scoped>\n",
       "    .dataframe tbody tr th:only-of-type {\n",
       "        vertical-align: middle;\n",
       "    }\n",
       "\n",
       "    .dataframe tbody tr th {\n",
       "        vertical-align: top;\n",
       "    }\n",
       "\n",
       "    .dataframe thead th {\n",
       "        text-align: right;\n",
       "    }\n",
       "</style>\n",
       "<table border=\"1\" class=\"dataframe\">\n",
       "  <thead>\n",
       "    <tr style=\"text-align: right;\">\n",
       "      <th></th>\n",
       "      <th>Count</th>\n",
       "      <th>Percentage</th>\n",
       "    </tr>\n",
       "  </thead>\n",
       "  <tbody>\n",
       "    <tr>\n",
       "      <th>q12_yes_not_own</th>\n",
       "      <td>7</td>\n",
       "      <td>38.888889</td>\n",
       "    </tr>\n",
       "    <tr>\n",
       "      <th>q12_yes_purchase</th>\n",
       "      <td>5</td>\n",
       "      <td>27.777778</td>\n",
       "    </tr>\n",
       "    <tr>\n",
       "      <th>q12_no</th>\n",
       "      <td>3</td>\n",
       "      <td>16.666667</td>\n",
       "    </tr>\n",
       "    <tr>\n",
       "      <th>q12_yes_from_workplace</th>\n",
       "      <td>2</td>\n",
       "      <td>11.111111</td>\n",
       "    </tr>\n",
       "    <tr>\n",
       "      <th>q12_yes_from_librarian</th>\n",
       "      <td>2</td>\n",
       "      <td>11.111111</td>\n",
       "    </tr>\n",
       "  </tbody>\n",
       "</table>\n",
       "</div>"
      ],
      "text/plain": [
       "                       Count Percentage\n",
       "q12_yes_not_own            7  38.888889\n",
       "q12_yes_purchase           5  27.777778\n",
       "q12_no                     3  16.666667\n",
       "q12_yes_from_workplace     2  11.111111\n",
       "q12_yes_from_librarian     2  11.111111"
      ]
     },
     "execution_count": 31,
     "metadata": {},
     "output_type": "execute_result"
    }
   ],
   "source": [
    "df_a_q12 = df_a.iloc[:, 32:37]\n",
    "counts = df_a_q12.sum()\n",
    "percentages = (counts / 18) * 100\n",
    "\n",
    "result = pd.DataFrame({\n",
    "    'Count': counts,\n",
    "    'Percentage': percentages\n",
    "})\n",
    "\n",
    "result.sort_values(by='Count', ascending=False, inplace=True)\n",
    "result"
   ]
  },
  {
   "cell_type": "markdown",
   "metadata": {},
   "source": [
    "- Most administrators (39%) have seen the pamphlet but don't own a copy, indicating familiarity without personal access.\n",
    "\n",
    "- Around 28% have purchased their own copies, suggesting strong personal initiative.\n",
    "\n",
    "- A notable proportion (17%) have never encountered this pamphlet, highlighting potential gaps in distribution or awareness efforts."
   ]
  },
  {
   "cell_type": "markdown",
   "metadata": {},
   "source": [
    "`q13`: Did your school or district provide school library personnel with a copy of the National School Library Standards for Learners, School Librarians, and School Libraries book?"
   ]
  },
  {
   "cell_type": "code",
   "execution_count": 32,
   "metadata": {},
   "outputs": [
    {
     "data": {
      "text/html": [
       "<div>\n",
       "<style scoped>\n",
       "    .dataframe tbody tr th:only-of-type {\n",
       "        vertical-align: middle;\n",
       "    }\n",
       "\n",
       "    .dataframe tbody tr th {\n",
       "        vertical-align: top;\n",
       "    }\n",
       "\n",
       "    .dataframe thead th {\n",
       "        text-align: right;\n",
       "    }\n",
       "</style>\n",
       "<table border=\"1\" class=\"dataframe\">\n",
       "  <thead>\n",
       "    <tr style=\"text-align: right;\">\n",
       "      <th></th>\n",
       "      <th>Count</th>\n",
       "      <th>Percentage</th>\n",
       "    </tr>\n",
       "    <tr>\n",
       "      <th>q13_provide_copy</th>\n",
       "      <th></th>\n",
       "      <th></th>\n",
       "    </tr>\n",
       "  </thead>\n",
       "  <tbody>\n",
       "    <tr>\n",
       "      <th>Yes</th>\n",
       "      <td>8</td>\n",
       "      <td>44.444444</td>\n",
       "    </tr>\n",
       "    <tr>\n",
       "      <th>Not sure</th>\n",
       "      <td>5</td>\n",
       "      <td>27.777778</td>\n",
       "    </tr>\n",
       "    <tr>\n",
       "      <th>No</th>\n",
       "      <td>3</td>\n",
       "      <td>16.666667</td>\n",
       "    </tr>\n",
       "    <tr>\n",
       "      <th>Other (please specify)</th>\n",
       "      <td>2</td>\n",
       "      <td>11.111111</td>\n",
       "    </tr>\n",
       "  </tbody>\n",
       "</table>\n",
       "</div>"
      ],
      "text/plain": [
       "                        Count  Percentage\n",
       "q13_provide_copy                         \n",
       "Yes                         8   44.444444\n",
       "Not sure                    5   27.777778\n",
       "No                          3   16.666667\n",
       "Other (please specify)      2   11.111111"
      ]
     },
     "execution_count": 32,
     "metadata": {},
     "output_type": "execute_result"
    }
   ],
   "source": [
    "value_counts = df_a.iloc[:, 38].value_counts()\n",
    "percentage = (value_counts / value_counts.sum()) * 100\n",
    "result = pd.DataFrame({'Count': value_counts, 'Percentage': percentage})\n",
    "result.sort_values(by='Count', ascending=False)"
   ]
  },
  {
   "cell_type": "code",
   "execution_count": 33,
   "metadata": {},
   "outputs": [
    {
     "data": {
      "text/plain": [
       "['Several copies were purchased to circulate across the district, but indivdual copies were not purchased for each librarian.',\n",
       " 'Only for library leaders due to the high financial cost']"
      ]
     },
     "execution_count": 33,
     "metadata": {},
     "output_type": "execute_result"
    }
   ],
   "source": [
    "df_a.iloc[:, 39].dropna().tolist()"
   ]
  },
  {
   "cell_type": "markdown",
   "metadata": {},
   "source": [
    "- Nearly half (44%) confirmed their district provided copies of the standards book to library personnel.\n",
    "\n",
    "- About 28% of administrators are unsure, indicating potential gaps in communication or awareness.\n",
    "\n",
    "- Open-ended responses reveal selective purchasing due to budget constraints, with copies sometimes limited to district-wide circulation or only available to library leaders."
   ]
  },
  {
   "cell_type": "markdown",
   "metadata": {},
   "source": [
    "`q14`: How familiar are you with the content of the National School Library Standards for Learners, School Librarians, and School Libraries?"
   ]
  },
  {
   "cell_type": "code",
   "execution_count": 34,
   "metadata": {},
   "outputs": [
    {
     "data": {
      "text/html": [
       "<div>\n",
       "<style scoped>\n",
       "    .dataframe tbody tr th:only-of-type {\n",
       "        vertical-align: middle;\n",
       "    }\n",
       "\n",
       "    .dataframe tbody tr th {\n",
       "        vertical-align: top;\n",
       "    }\n",
       "\n",
       "    .dataframe thead th {\n",
       "        text-align: right;\n",
       "    }\n",
       "</style>\n",
       "<table border=\"1\" class=\"dataframe\">\n",
       "  <thead>\n",
       "    <tr style=\"text-align: right;\">\n",
       "      <th></th>\n",
       "      <th>Count</th>\n",
       "      <th>Percentage</th>\n",
       "    </tr>\n",
       "    <tr>\n",
       "      <th>q14_how_familiar</th>\n",
       "      <th></th>\n",
       "      <th></th>\n",
       "    </tr>\n",
       "  </thead>\n",
       "  <tbody>\n",
       "    <tr>\n",
       "      <th>Somewhat familiar</th>\n",
       "      <td>8</td>\n",
       "      <td>44.444444</td>\n",
       "    </tr>\n",
       "    <tr>\n",
       "      <th>Very familiar</th>\n",
       "      <td>6</td>\n",
       "      <td>33.333333</td>\n",
       "    </tr>\n",
       "    <tr>\n",
       "      <th>Not too familiar</th>\n",
       "      <td>3</td>\n",
       "      <td>16.666667</td>\n",
       "    </tr>\n",
       "    <tr>\n",
       "      <th>Not at all familiar</th>\n",
       "      <td>1</td>\n",
       "      <td>5.555556</td>\n",
       "    </tr>\n",
       "  </tbody>\n",
       "</table>\n",
       "</div>"
      ],
      "text/plain": [
       "                     Count  Percentage\n",
       "q14_how_familiar                      \n",
       "Somewhat familiar        8   44.444444\n",
       "Very familiar            6   33.333333\n",
       "Not too familiar         3   16.666667\n",
       "Not at all familiar      1    5.555556"
      ]
     },
     "execution_count": 34,
     "metadata": {},
     "output_type": "execute_result"
    }
   ],
   "source": [
    "value_counts = df_a.iloc[:, 40].value_counts()\n",
    "percentage = (value_counts / value_counts.sum()) * 100\n",
    "result = pd.DataFrame({'Count': value_counts, 'Percentage': percentage})\n",
    "result.sort_values(by='Count', ascending=False)"
   ]
  },
  {
   "cell_type": "markdown",
   "metadata": {},
   "source": [
    "- Most administrators (78%) report being 'Somewhat' or 'Very familiar' with the content of the standards.\n",
    "\n",
    "- About 22% have limited or no familiarity, suggesting opportunities for further awareness or training initiatives."
   ]
  },
  {
   "cell_type": "markdown",
   "metadata": {},
   "source": [
    "`q20`: Does the school librarian use the National School Library Standards for Learners, School Librarians, and School Libraries in their work?"
   ]
  },
  {
   "cell_type": "code",
   "execution_count": 35,
   "metadata": {},
   "outputs": [
    {
     "data": {
      "text/html": [
       "<div>\n",
       "<style scoped>\n",
       "    .dataframe tbody tr th:only-of-type {\n",
       "        vertical-align: middle;\n",
       "    }\n",
       "\n",
       "    .dataframe tbody tr th {\n",
       "        vertical-align: top;\n",
       "    }\n",
       "\n",
       "    .dataframe thead th {\n",
       "        text-align: right;\n",
       "    }\n",
       "</style>\n",
       "<table border=\"1\" class=\"dataframe\">\n",
       "  <thead>\n",
       "    <tr style=\"text-align: right;\">\n",
       "      <th></th>\n",
       "      <th>Count</th>\n",
       "      <th>Percentage</th>\n",
       "    </tr>\n",
       "    <tr>\n",
       "      <th>q20_librarian_using</th>\n",
       "      <th></th>\n",
       "      <th></th>\n",
       "    </tr>\n",
       "  </thead>\n",
       "  <tbody>\n",
       "    <tr>\n",
       "      <th>Yes</th>\n",
       "      <td>10</td>\n",
       "      <td>58.823529</td>\n",
       "    </tr>\n",
       "    <tr>\n",
       "      <th>Not sure</th>\n",
       "      <td>6</td>\n",
       "      <td>35.294118</td>\n",
       "    </tr>\n",
       "    <tr>\n",
       "      <th>No</th>\n",
       "      <td>1</td>\n",
       "      <td>5.882353</td>\n",
       "    </tr>\n",
       "  </tbody>\n",
       "</table>\n",
       "</div>"
      ],
      "text/plain": [
       "                     Count  Percentage\n",
       "q20_librarian_using                   \n",
       "Yes                     10   58.823529\n",
       "Not sure                 6   35.294118\n",
       "No                       1    5.882353"
      ]
     },
     "execution_count": 35,
     "metadata": {},
     "output_type": "execute_result"
    }
   ],
   "source": [
    "value_counts = df_a.iloc[:, 62].value_counts()\n",
    "percentage = (value_counts / value_counts.sum()) * 100\n",
    "result = pd.DataFrame({'Count': value_counts, 'Percentage': percentage})\n",
    "result.sort_values(by='Count', ascending=False)"
   ]
  },
  {
   "cell_type": "markdown",
   "metadata": {},
   "source": [
    "- A majority of administrators (59%) confirm that school librarians use the AASL Standards in their work.\n",
    "\n",
    "- Over a third (35%) are unsure, indicating opportunities for better communication about librarians' implementation of these standards."
   ]
  },
  {
   "cell_type": "markdown",
   "metadata": {},
   "source": [
    "`q21`: In which of the following ways have you worked with the school librarian to implement the National School Library Standards for Learners, School Librarians, and School Libraries? Please select all that apply."
   ]
  },
  {
   "cell_type": "code",
   "execution_count": 36,
   "metadata": {},
   "outputs": [
    {
     "data": {
      "text/html": [
       "<div>\n",
       "<style scoped>\n",
       "    .dataframe tbody tr th:only-of-type {\n",
       "        vertical-align: middle;\n",
       "    }\n",
       "\n",
       "    .dataframe tbody tr th {\n",
       "        vertical-align: top;\n",
       "    }\n",
       "\n",
       "    .dataframe thead th {\n",
       "        text-align: right;\n",
       "    }\n",
       "</style>\n",
       "<table border=\"1\" class=\"dataframe\">\n",
       "  <thead>\n",
       "    <tr style=\"text-align: right;\">\n",
       "      <th></th>\n",
       "      <th>Count</th>\n",
       "      <th>Percentage</th>\n",
       "    </tr>\n",
       "  </thead>\n",
       "  <tbody>\n",
       "    <tr>\n",
       "      <th>q21_lesson_preparation_and_assessment</th>\n",
       "      <td>7</td>\n",
       "      <td>70.0</td>\n",
       "    </tr>\n",
       "    <tr>\n",
       "      <th>q21_advocate_for_school_library</th>\n",
       "      <td>7</td>\n",
       "      <td>70.0</td>\n",
       "    </tr>\n",
       "    <tr>\n",
       "      <th>q21_learning_opportunities_for_educators</th>\n",
       "      <td>6</td>\n",
       "      <td>60.0</td>\n",
       "    </tr>\n",
       "    <tr>\n",
       "      <th>q21_increase_understanding_of_school_librarian</th>\n",
       "      <td>6</td>\n",
       "      <td>60.0</td>\n",
       "    </tr>\n",
       "    <tr>\n",
       "      <th>q21_evaluate_librarians_or_libraries</th>\n",
       "      <td>4</td>\n",
       "      <td>40.0</td>\n",
       "    </tr>\n",
       "    <tr>\n",
       "      <th>q21_collaboration_with_teacher</th>\n",
       "      <td>4</td>\n",
       "      <td>40.0</td>\n",
       "    </tr>\n",
       "    <tr>\n",
       "      <th>q21_with_other_educators</th>\n",
       "      <td>4</td>\n",
       "      <td>40.0</td>\n",
       "    </tr>\n",
       "    <tr>\n",
       "      <th>q21_guide_instructional_priorities</th>\n",
       "      <td>4</td>\n",
       "      <td>40.0</td>\n",
       "    </tr>\n",
       "    <tr>\n",
       "      <th>q21_with_parents</th>\n",
       "      <td>3</td>\n",
       "      <td>30.0</td>\n",
       "    </tr>\n",
       "    <tr>\n",
       "      <th>q21_develop_curriculum</th>\n",
       "      <td>3</td>\n",
       "      <td>30.0</td>\n",
       "    </tr>\n",
       "    <tr>\n",
       "      <th>q21_advocate_for_learners</th>\n",
       "      <td>3</td>\n",
       "      <td>30.0</td>\n",
       "    </tr>\n",
       "    <tr>\n",
       "      <th>q21_support_school_mission</th>\n",
       "      <td>3</td>\n",
       "      <td>30.0</td>\n",
       "    </tr>\n",
       "    <tr>\n",
       "      <th>q21_with_external_stakeholders</th>\n",
       "      <td>2</td>\n",
       "      <td>20.0</td>\n",
       "    </tr>\n",
       "    <tr>\n",
       "      <th>q21_demonstrate_learner_success</th>\n",
       "      <td>1</td>\n",
       "      <td>10.0</td>\n",
       "    </tr>\n",
       "    <tr>\n",
       "      <th>q21_none</th>\n",
       "      <td>0</td>\n",
       "      <td>0.0</td>\n",
       "    </tr>\n",
       "  </tbody>\n",
       "</table>\n",
       "</div>"
      ],
      "text/plain": [
       "                                               Count Percentage\n",
       "q21_lesson_preparation_and_assessment              7       70.0\n",
       "q21_advocate_for_school_library                    7       70.0\n",
       "q21_learning_opportunities_for_educators           6       60.0\n",
       "q21_increase_understanding_of_school_librarian     6       60.0\n",
       "q21_evaluate_librarians_or_libraries               4       40.0\n",
       "q21_collaboration_with_teacher                     4       40.0\n",
       "q21_with_other_educators                           4       40.0\n",
       "q21_guide_instructional_priorities                 4       40.0\n",
       "q21_with_parents                                   3       30.0\n",
       "q21_develop_curriculum                             3       30.0\n",
       "q21_advocate_for_learners                          3       30.0\n",
       "q21_support_school_mission                         3       30.0\n",
       "q21_with_external_stakeholders                     2       20.0\n",
       "q21_demonstrate_learner_success                    1       10.0\n",
       "q21_none                                           0        0.0"
      ]
     },
     "execution_count": 36,
     "metadata": {},
     "output_type": "execute_result"
    }
   ],
   "source": [
    "df_a_q21 = df_a.iloc[:, 63:78]\n",
    "counts = df_a_q21.sum()\n",
    "percentages = (counts / 10) * 100\n",
    "\n",
    "result = pd.DataFrame({\n",
    "    'Count': counts,\n",
    "    'Percentage': percentages\n",
    "})\n",
    "\n",
    "result.sort_values(by='Count', ascending=False, inplace=True)\n",
    "result"
   ]
  },
  {
   "cell_type": "code",
   "execution_count": 37,
   "metadata": {},
   "outputs": [
    {
     "data": {
      "text/plain": [
       "['educating librarians about their roles',\n",
       " 'Librarians are involved in everything']"
      ]
     },
     "execution_count": 37,
     "metadata": {},
     "output_type": "execute_result"
    }
   ],
   "source": [
    "df_a.iloc[:, 78].dropna().tolist()"
   ]
  },
  {
   "cell_type": "markdown",
   "metadata": {},
   "source": [
    "- Most administrators collaborate in lesson preparation and learner assessment (70%) and advocate for the school library (70%).\n",
    "\n",
    "- Many (60%) partner with librarians to deliver professional learning opportunities or increase awareness about librarians' roles.\n",
    "\n",
    "- Collaboration extends to instructional priorities, evaluation of libraries, and engaging educators across subjects (40% each), demonstrating diverse integration of standards into school functions."
   ]
  },
  {
   "cell_type": "markdown",
   "metadata": {},
   "source": [
    "`q25`: How frequently do you use or refer to the National School Library Standards when working with your school librarian?"
   ]
  },
  {
   "cell_type": "code",
   "execution_count": 38,
   "metadata": {},
   "outputs": [
    {
     "data": {
      "text/html": [
       "<div>\n",
       "<style scoped>\n",
       "    .dataframe tbody tr th:only-of-type {\n",
       "        vertical-align: middle;\n",
       "    }\n",
       "\n",
       "    .dataframe tbody tr th {\n",
       "        vertical-align: top;\n",
       "    }\n",
       "\n",
       "    .dataframe thead th {\n",
       "        text-align: right;\n",
       "    }\n",
       "</style>\n",
       "<table border=\"1\" class=\"dataframe\">\n",
       "  <thead>\n",
       "    <tr style=\"text-align: right;\">\n",
       "      <th></th>\n",
       "      <th>Count</th>\n",
       "      <th>Percentage</th>\n",
       "    </tr>\n",
       "    <tr>\n",
       "      <th>q25_refer_to_standards</th>\n",
       "      <th></th>\n",
       "      <th></th>\n",
       "    </tr>\n",
       "  </thead>\n",
       "  <tbody>\n",
       "    <tr>\n",
       "      <th>Rarely</th>\n",
       "      <td>4</td>\n",
       "      <td>40.0</td>\n",
       "    </tr>\n",
       "    <tr>\n",
       "      <th>Sometimes</th>\n",
       "      <td>3</td>\n",
       "      <td>30.0</td>\n",
       "    </tr>\n",
       "    <tr>\n",
       "      <th>Never</th>\n",
       "      <td>2</td>\n",
       "      <td>20.0</td>\n",
       "    </tr>\n",
       "    <tr>\n",
       "      <th>All the time</th>\n",
       "      <td>1</td>\n",
       "      <td>10.0</td>\n",
       "    </tr>\n",
       "  </tbody>\n",
       "</table>\n",
       "</div>"
      ],
      "text/plain": [
       "                        Count  Percentage\n",
       "q25_refer_to_standards                   \n",
       "Rarely                      4        40.0\n",
       "Sometimes                   3        30.0\n",
       "Never                       2        20.0\n",
       "All the time                1        10.0"
      ]
     },
     "execution_count": 38,
     "metadata": {},
     "output_type": "execute_result"
    }
   ],
   "source": [
    "value_counts = df_a.iloc[:, 99].value_counts()\n",
    "percentage = (value_counts / value_counts.sum()) * 100\n",
    "result = pd.DataFrame({'Count': value_counts, 'Percentage': percentage})\n",
    "result.sort_values(by='Count', ascending=False)"
   ]
  },
  {
   "cell_type": "markdown",
   "metadata": {},
   "source": [
    "- Only a small percentage (10%) of administrators frequently reference the standards.\n",
    "\n",
    "- About 30% sometimes refer to the standards in collaboration with librarians.\n",
    "\n",
    "- A significant portion rarely (40%) or never (20%) directly use the standards, highlighting opportunities for more consistent implementation."
   ]
  },
  {
   "cell_type": "markdown",
   "metadata": {},
   "source": [
    "`q26`: How often do you reference each of the following AASL Standards Frameworks when collaborating with your school librarian?"
   ]
  },
  {
   "cell_type": "code",
   "execution_count": 39,
   "metadata": {},
   "outputs": [
    {
     "name": "stdout",
     "output_type": "stream",
     "text": [
      "q26_for_learners\n",
      "2    1\n",
      "3    2\n",
      "Name: count, dtype: int64\n",
      "q26_for_school_librarians\n",
      "2    2\n",
      "3    1\n",
      "Name: count, dtype: int64\n",
      "q26_for_school_libraries\n",
      "2    2\n",
      "3    1\n",
      "Name: count, dtype: int64\n"
     ]
    }
   ],
   "source": [
    "for col in df_a_q26.columns[1:]:\n",
    "    print(df_a_q26[col].value_counts().sort_index())"
   ]
  },
  {
   "cell_type": "markdown",
   "metadata": {},
   "source": [
    "- Administrators most frequently reference the standards framework for learners, with the majority (67%) using it consistently.\n",
    "\n",
    "- Standards for school librarians are referenced regularly by fewer administrators (33%), but occasionally by most (67%).\n",
    "\n",
    "- Similarly, administrators occasionally (67%) rather than regularly (33%) reference standards specifically for school libraries."
   ]
  },
  {
   "cell_type": "markdown",
   "metadata": {},
   "source": [
    "`q27`: How often do you consider each of the AASL Standards Shared Foundations when collaborating with your school librarian?"
   ]
  },
  {
   "cell_type": "code",
   "execution_count": 40,
   "metadata": {},
   "outputs": [
    {
     "data": {
      "text/plain": [
       "q27_inquire        3.0\n",
       "q27_include        3.0\n",
       "q27_collaborate    3.0\n",
       "q27_curate         3.0\n",
       "q27_explore        3.0\n",
       "q27_engage         3.0\n",
       "dtype: float64"
      ]
     },
     "execution_count": 40,
     "metadata": {},
     "output_type": "execute_result"
    }
   ],
   "source": [
    "df_a_q27.iloc[:, 1:].astype(float).mean()"
   ]
  },
  {
   "cell_type": "code",
   "execution_count": 41,
   "metadata": {},
   "outputs": [
    {
     "name": "stdout",
     "output_type": "stream",
     "text": [
      "   q27_inquire  q27_include  q27_collaborate  q27_curate  q27_explore  \\\n",
      "3            3            3                3           3            3   \n",
      "0            0            0                0           0            0   \n",
      "\n",
      "   q27_engage  \n",
      "3           3  \n",
      "0           0  \n"
     ]
    }
   ],
   "source": [
    "counts = df_a_q27.iloc[:, 1:].apply(lambda col: col.value_counts().reindex([3, 0], fill_value=0))\n",
    "print(counts)"
   ]
  },
  {
   "cell_type": "markdown",
   "metadata": {},
   "source": [
    "- Among the few administrators (3 respondents) who answered this question, all consistently reference every Shared Foundation when collaborating with school librarians.\n",
    "\n",
    "- However, the low response count indicates that referencing these Shared Foundations may not be widespread among administrators overall."
   ]
  },
  {
   "cell_type": "markdown",
   "metadata": {},
   "source": [
    "### Strength"
   ]
  },
  {
   "cell_type": "markdown",
   "metadata": {},
   "source": [
    "`q15`: Overall, how would you rate the AASL National School Library Standards?"
   ]
  },
  {
   "cell_type": "code",
   "execution_count": 42,
   "metadata": {},
   "outputs": [
    {
     "data": {
      "text/html": [
       "<div>\n",
       "<style scoped>\n",
       "    .dataframe tbody tr th:only-of-type {\n",
       "        vertical-align: middle;\n",
       "    }\n",
       "\n",
       "    .dataframe tbody tr th {\n",
       "        vertical-align: top;\n",
       "    }\n",
       "\n",
       "    .dataframe thead th {\n",
       "        text-align: right;\n",
       "    }\n",
       "</style>\n",
       "<table border=\"1\" class=\"dataframe\">\n",
       "  <thead>\n",
       "    <tr style=\"text-align: right;\">\n",
       "      <th></th>\n",
       "      <th>Count</th>\n",
       "      <th>Percentage</th>\n",
       "    </tr>\n",
       "    <tr>\n",
       "      <th>q15_rate</th>\n",
       "      <th></th>\n",
       "      <th></th>\n",
       "    </tr>\n",
       "  </thead>\n",
       "  <tbody>\n",
       "    <tr>\n",
       "      <th>Good</th>\n",
       "      <td>6</td>\n",
       "      <td>42.857143</td>\n",
       "    </tr>\n",
       "    <tr>\n",
       "      <th>Excellent</th>\n",
       "      <td>4</td>\n",
       "      <td>28.571429</td>\n",
       "    </tr>\n",
       "    <tr>\n",
       "      <th>Fair</th>\n",
       "      <td>4</td>\n",
       "      <td>28.571429</td>\n",
       "    </tr>\n",
       "  </tbody>\n",
       "</table>\n",
       "</div>"
      ],
      "text/plain": [
       "           Count  Percentage\n",
       "q15_rate                    \n",
       "Good           6   42.857143\n",
       "Excellent      4   28.571429\n",
       "Fair           4   28.571429"
      ]
     },
     "execution_count": 42,
     "metadata": {},
     "output_type": "execute_result"
    }
   ],
   "source": [
    "value_counts = df_a.iloc[:, 41].value_counts()\n",
    "percentage = (value_counts / value_counts.sum()) * 100\n",
    "result = pd.DataFrame({'Count': value_counts, 'Percentage': percentage})\n",
    "result.sort_values(by='Count', ascending=False)"
   ]
  },
  {
   "cell_type": "markdown",
   "metadata": {},
   "source": [
    "- The majority of administrators rated the standards as either Good (43%) or Excellent (29%), showing general approval.\n",
    "\n",
    "- Another 29% rated them as Fair, while none rated them poor or selected Not sure, indicating no strong negative perceptions."
   ]
  },
  {
   "cell_type": "markdown",
   "metadata": {},
   "source": [
    "`q17`: Below is a list of words and phrases. Please indicate how well you think each word or phrase describes the National School Library Standards for Learners, School Librarians, and School Libraries."
   ]
  },
  {
   "cell_type": "code",
   "execution_count": 43,
   "metadata": {},
   "outputs": [
    {
     "data": {
      "text/plain": [
       "q17_valuable              4.500000\n",
       "q17_relevant              4.571429\n",
       "q17_practical             3.928571\n",
       "q17_useful                4.214286\n",
       "q17_easy_to_use           4.142857\n",
       "q17_easy_to_understand    4.142857\n",
       "q17_well_written          4.500000\n",
       "q17_nicely_designed       4.428571\n",
       "q17_well_organized        4.071429\n",
       "q17_ADA_accessible        4.142857\n",
       "dtype: float64"
      ]
     },
     "execution_count": 43,
     "metadata": {},
     "output_type": "execute_result"
    }
   ],
   "source": [
    "df_a_q17.iloc[:, 1:].astype(float).mean()"
   ]
  },
  {
   "cell_type": "code",
   "execution_count": 44,
   "metadata": {},
   "outputs": [
    {
     "name": "stdout",
     "output_type": "stream",
     "text": [
      "   q17_valuable  q17_relevant  q17_practical  q17_useful  q17_easy_to_use  \\\n",
      "6             4             4              3           3                3   \n",
      "0             0             0              1           0                1   \n",
      "\n",
      "   q17_easy_to_understand  q17_well_written  q17_nicely_designed  \\\n",
      "6                       3                 5                    5   \n",
      "0                       1                 0                    0   \n",
      "\n",
      "   q17_well_organized  q17_ADA_accessible  \n",
      "6                   4                   2  \n",
      "0                   1                   0  \n"
     ]
    }
   ],
   "source": [
    "counts = df_a_q17.iloc[:, 1:].apply(lambda col: col.value_counts().reindex([6, 0], fill_value=0))\n",
    "print(counts)"
   ]
  },
  {
   "cell_type": "markdown",
   "metadata": {},
   "source": [
    "- 'Relevant' received the highest average score (4.57), followed closely by 'Well written' and 'Valuable' (4.50 each), with 4 administrators giving the top rating of 6 for all three terms. 'Nicely designed' also stood out (4.43 average, 5 top ratings).\n",
    "\n",
    "- While terms like 'Useful', 'Easy to use', and 'Easy to understand' received solid average ratings (~4.14–4.21), each had one respondent who rated them a 0, indicating occasional accessibility or clarity issues.\n",
    "\n",
    "- 'Practical' had the lowest mean (3.93) and the only instance with both a top (3 responses) and a bottom score (1 response), signaling a more divided view on how actionable the standards are in real-world settings."
   ]
  },
  {
   "cell_type": "markdown",
   "metadata": {},
   "source": [
    "`q28`: How often do you consider each of the AASL Standards Domains when collaborating with your school librarian?"
   ]
  },
  {
   "cell_type": "code",
   "execution_count": 45,
   "metadata": {},
   "outputs": [
    {
     "data": {
      "text/plain": [
       "q28_think     3.0\n",
       "q28_create    3.0\n",
       "q28_share     3.0\n",
       "q28_grow      3.0\n",
       "dtype: float64"
      ]
     },
     "execution_count": 45,
     "metadata": {},
     "output_type": "execute_result"
    }
   ],
   "source": [
    "df_a_q28.iloc[:, 1:].astype(float).mean()"
   ]
  },
  {
   "cell_type": "code",
   "execution_count": 46,
   "metadata": {},
   "outputs": [
    {
     "name": "stdout",
     "output_type": "stream",
     "text": [
      "   q28_think  q28_create  q28_share  q28_grow\n",
      "3          3           3          3         3\n",
      "2          0           0          0         0\n",
      "0          0           0          0         0\n"
     ]
    }
   ],
   "source": [
    "counts = df_a_q28.iloc[:, 1:].apply(lambda col: col.value_counts().reindex([3, 2, 0], fill_value=0))\n",
    "print(counts)"
   ]
  },
  {
   "cell_type": "markdown",
   "metadata": {},
   "source": [
    "- All three administrators who answered this question reported considering each AASL Domain (Think, Create, Share, Grow) all the time when collaborating with school librarians.\n",
    "\n",
    "- Despite this unanimous enthusiasm, the small number of responses (only 3) suggests that regular use of these domains may not yet be widespread among the broader administrator group."
   ]
  },
  {
   "cell_type": "markdown",
   "metadata": {},
   "source": [
    "`q29`: Overall, how would you rate AASL’s efforts to set and maintain up-to-date and practical standards and supporting resources?"
   ]
  },
  {
   "cell_type": "code",
   "execution_count": 47,
   "metadata": {},
   "outputs": [
    {
     "data": {
      "text/html": [
       "<div>\n",
       "<style scoped>\n",
       "    .dataframe tbody tr th:only-of-type {\n",
       "        vertical-align: middle;\n",
       "    }\n",
       "\n",
       "    .dataframe tbody tr th {\n",
       "        vertical-align: top;\n",
       "    }\n",
       "\n",
       "    .dataframe thead th {\n",
       "        text-align: right;\n",
       "    }\n",
       "</style>\n",
       "<table border=\"1\" class=\"dataframe\">\n",
       "  <thead>\n",
       "    <tr style=\"text-align: right;\">\n",
       "      <th></th>\n",
       "      <th>Count</th>\n",
       "      <th>Percentage</th>\n",
       "    </tr>\n",
       "    <tr>\n",
       "      <th>q29_rate_support_materials</th>\n",
       "      <th></th>\n",
       "      <th></th>\n",
       "    </tr>\n",
       "  </thead>\n",
       "  <tbody>\n",
       "    <tr>\n",
       "      <th>Good</th>\n",
       "      <td>7</td>\n",
       "      <td>87.5</td>\n",
       "    </tr>\n",
       "    <tr>\n",
       "      <th>Excellent</th>\n",
       "      <td>1</td>\n",
       "      <td>12.5</td>\n",
       "    </tr>\n",
       "  </tbody>\n",
       "</table>\n",
       "</div>"
      ],
      "text/plain": [
       "                            Count  Percentage\n",
       "q29_rate_support_materials                   \n",
       "Good                            7        87.5\n",
       "Excellent                       1        12.5"
      ]
     },
     "execution_count": 47,
     "metadata": {},
     "output_type": "execute_result"
    }
   ],
   "source": [
    "value_counts = df_a.iloc[:, 113].value_counts()\n",
    "percentage = (value_counts / value_counts.sum()) * 100\n",
    "result = pd.DataFrame({'Count': value_counts, 'Percentage': percentage})\n",
    "result.sort_values(by='Count', ascending=False)"
   ]
  },
  {
   "cell_type": "markdown",
   "metadata": {},
   "source": [
    "- All respondents rated AASL’s efforts as either Good (88%) or Excellent (13%), showing high confidence in the organization’s work.\n",
    "\n",
    "- No administrators rated the efforts as Fair, Poor, or selected Not sure, indicating a solid and unified endorsement."
   ]
  },
  {
   "cell_type": "markdown",
   "metadata": {},
   "source": [
    "### Challenge"
   ]
  },
  {
   "cell_type": "markdown",
   "metadata": {},
   "source": [
    "`q7`: What are the main reasons you do not work with or collaborate more often with the school librarian?"
   ]
  },
  {
   "cell_type": "code",
   "execution_count": 48,
   "metadata": {},
   "outputs": [
    {
     "data": {
      "text/plain": [
       "['I stay in communication with the librarians as needed, but as a district level supervisor I am tasked with numerous other responsibilities that dominate my work days.',\n",
       " 'My role is to manage the affairs of all special education students and staff. Our paths just don’t cross as often as I’d like but I fully support our library program. ',\n",
       " 'The library is housed on another campus']"
      ]
     },
     "execution_count": 48,
     "metadata": {},
     "output_type": "execute_result"
    }
   ],
   "source": [
    "df_a_q7 = df_a.iloc[:, 12].dropna().tolist()\n",
    "df_a_q7"
   ]
  },
  {
   "cell_type": "markdown",
   "metadata": {},
   "source": [
    "- District-level duties often take priority, limiting time for librarian engagement.\n",
    "\n",
    "- One mentioned their primary focus on special education, which naturally reduces overlap with library functions despite their support.\n",
    "\n",
    "- The logistical challenges due to the library is located on a different campus, making collaboration more difficult."
   ]
  },
  {
   "cell_type": "markdown",
   "metadata": {},
   "source": [
    "`q16`: For what reason did you give that rating? Please explain your thinking."
   ]
  },
  {
   "cell_type": "code",
   "execution_count": 49,
   "metadata": {},
   "outputs": [
    {
     "data": {
      "text/plain": [
       "['They seem very traditional and not forward thinking',\n",
       " 'The standards at times are overly broad, jargon-y, and hard to understand. Also, the exorbitant cost of the standards book makes it impossible for us to provide access to all of our librarians.  ',\n",
       " 'It is just too complicated.  Too much.',\n",
       " \"For library to operate as any other curriculum does, it would be highly beneficial to have grade or age level outcomes for each overall standard; identifying how a first grade student meets proficiency for Inquiry is different than a high school student, but we don't have language available to help break that down. Scaffolded language would be a gift.\"]"
      ]
     },
     "execution_count": 49,
     "metadata": {},
     "output_type": "execute_result"
    }
   ],
   "source": [
    "df_a_q16 = df_a.iloc[:, 42].dropna().tolist()\n",
    "df_a_q16"
   ]
  },
  {
   "cell_type": "markdown",
   "metadata": {},
   "source": [
    "- Administrators described the standards as overly broad, complicated, and difficult to understand, making them challenging to implement effectively.\n",
    "\n",
    "- High costs and lack of scaffolded, grade-level language were seen as major obstacles to equitable access and practical use.\n",
    "\n",
    "- One respondent felt the standards were too traditional and not aligned with modern educational needs."
   ]
  },
  {
   "cell_type": "markdown",
   "metadata": {},
   "source": [
    "### Suggestion"
   ]
  },
  {
   "cell_type": "markdown",
   "metadata": {},
   "source": [
    "`q24`: What are some things that could be done to better aid your collaboration with your school librarian to implement the National School Library Standards?"
   ]
  },
  {
   "cell_type": "code",
   "execution_count": 50,
   "metadata": {},
   "outputs": [
    {
     "data": {
      "text/plain": [
       "['More days for her to work in the summer. This is a local contractual issue though. ',\n",
       " 'Put them in a format that is printable, and easy to refer to.  Provide crosswalks with other national standards to make them easier for librarians to implement.',\n",
       " 'Create standards that are detailed, specific, and descriptive at different grade levels.',\n",
       " 'Pare them down.  The book is too long.  ',\n",
       " 'More cross-walks with other standards (ELA, Math, Science, SS) like there is with ISTE.']"
      ]
     },
     "execution_count": 50,
     "metadata": {},
     "output_type": "execute_result"
    }
   ],
   "source": [
    "df_a_q24 = df_a.iloc[:, 98].dropna().tolist()\n",
    "df_a_q24"
   ]
  },
  {
   "cell_type": "markdown",
   "metadata": {},
   "source": [
    "- Administrators called for a shorter, more printable format with clearer language, easier reference tools, and better alignment with other national standards (e.g., ELA, Math, ISTE). These would reduce barriers to practical application.\n",
    "\n",
    "- Several responses emphasized the need for standards that are detailed and descriptive across grade levels to improve instructional alignment and meaningful implementation.\n",
    "\n",
    "- One suggestion focused on increasing summer work days for librarians—highlighting how contractual and logistical limitations also hinder collaboration, beyond the content of the standards themselves."
   ]
  },
  {
   "cell_type": "markdown",
   "metadata": {},
   "source": [
    "`q31`: What additional supports would have been helpful to you when you first encountered the National School Library Standards?"
   ]
  },
  {
   "cell_type": "code",
   "execution_count": 51,
   "metadata": {},
   "outputs": [
    {
     "data": {
      "text/plain": [
       "['Crosswalks and ties to content standards',\n",
       " 'Creating a book that was more affordable or putting more things online that can be printed out - I could only find the learner standards in a printable format online',\n",
       " 'Affordable access to the full standards.',\n",
       " 'Emphasis on the role of school librarian as a leader and teacher so it would have been more obvious to other educators.']"
      ]
     },
     "execution_count": 51,
     "metadata": {},
     "output_type": "execute_result"
    }
   ],
   "source": [
    "df_a_q31 = df_a.iloc[:, 115].dropna().tolist()\n",
    "df_a_q31"
   ]
  },
  {
   "cell_type": "markdown",
   "metadata": {},
   "source": [
    "- Several administrators emphasized the importance of having the full standards available in a more affordable and printable format, beyond just the learner portion. This reflects a broader concern about financial and logistical accessibility.\n",
    "\n",
    "- Respondents requested crosswalks linking AASL standards to core content areas, suggesting that clearer alignment could aid in adoption and application across disciplines.\n",
    "\n",
    "- One administrator wished there had been a stronger emphasis on the librarian’s leadership and teaching roles, implying that early framing of the standards could do more to elevate the school librarian’s visibility and influence within the education team."
   ]
  },
  {
   "cell_type": "markdown",
   "metadata": {},
   "source": [
    "### With Librarians"
   ]
  },
  {
   "cell_type": "markdown",
   "metadata": {},
   "source": [
    "`q5`: What does school library staffing look like in your place of work or the school(s) you support? Please select all that apply."
   ]
  },
  {
   "cell_type": "code",
   "execution_count": 52,
   "metadata": {},
   "outputs": [
    {
     "data": {
      "text/html": [
       "<div>\n",
       "<style scoped>\n",
       "    .dataframe tbody tr th:only-of-type {\n",
       "        vertical-align: middle;\n",
       "    }\n",
       "\n",
       "    .dataframe tbody tr th {\n",
       "        vertical-align: top;\n",
       "    }\n",
       "\n",
       "    .dataframe thead th {\n",
       "        text-align: right;\n",
       "    }\n",
       "</style>\n",
       "<table border=\"1\" class=\"dataframe\">\n",
       "  <thead>\n",
       "    <tr style=\"text-align: right;\">\n",
       "      <th></th>\n",
       "      <th>Count</th>\n",
       "      <th>Percentage</th>\n",
       "    </tr>\n",
       "  </thead>\n",
       "  <tbody>\n",
       "    <tr>\n",
       "      <th>q5_certified</th>\n",
       "      <td>24</td>\n",
       "      <td>92.307692</td>\n",
       "    </tr>\n",
       "    <tr>\n",
       "      <th>q5_noninstructional</th>\n",
       "      <td>11</td>\n",
       "      <td>42.307692</td>\n",
       "    </tr>\n",
       "    <tr>\n",
       "      <th>q5_none</th>\n",
       "      <td>2</td>\n",
       "      <td>7.692308</td>\n",
       "    </tr>\n",
       "    <tr>\n",
       "      <th>q5_volunteer</th>\n",
       "      <td>2</td>\n",
       "      <td>7.692308</td>\n",
       "    </tr>\n",
       "    <tr>\n",
       "      <th>q5_special_teacher</th>\n",
       "      <td>0</td>\n",
       "      <td>0.0</td>\n",
       "    </tr>\n",
       "    <tr>\n",
       "      <th>q5_not_sure</th>\n",
       "      <td>0</td>\n",
       "      <td>0.0</td>\n",
       "    </tr>\n",
       "  </tbody>\n",
       "</table>\n",
       "</div>"
      ],
      "text/plain": [
       "                    Count Percentage\n",
       "q5_certified           24  92.307692\n",
       "q5_noninstructional    11  42.307692\n",
       "q5_none                 2   7.692308\n",
       "q5_volunteer            2   7.692308\n",
       "q5_special_teacher      0        0.0\n",
       "q5_not_sure             0        0.0"
      ]
     },
     "execution_count": 52,
     "metadata": {},
     "output_type": "execute_result"
    }
   ],
   "source": [
    "df_a_q5 = df_a.iloc[:, 5:11]\n",
    "counts = df_a_q5.sum()\n",
    "percentages = (counts / 26) * 100\n",
    "\n",
    "result = pd.DataFrame({\n",
    "    'Count': counts,\n",
    "    'Percentage': percentages\n",
    "})\n",
    "\n",
    "result.sort_values(by='Count', ascending=False, inplace=True)\n",
    "result"
   ]
  },
  {
   "cell_type": "markdown",
   "metadata": {},
   "source": [
    "- A strong majority (92%) of respondents reported having certified or licensed school librarians in their school(s), indicating professional qualifications are the norm in most settings.\n",
    "\n",
    "- Nearly half (42%) also noted the presence of paraprofessionals or other non-instructional staff, suggesting that while certified librarians lead, additional support roles are common.\n",
    "\n",
    "- A few schools rely on volunteers (8%) or respondents selected 'None of the above' (8%), pointing to exceptions that may reflect limited funding or alternative staffing models."
   ]
  },
  {
   "cell_type": "markdown",
   "metadata": {},
   "source": [
    "`q6`: How often do you collaborate and work with the school librarian(s)?"
   ]
  },
  {
   "cell_type": "code",
   "execution_count": 53,
   "metadata": {},
   "outputs": [
    {
     "data": {
      "text/html": [
       "<div>\n",
       "<style scoped>\n",
       "    .dataframe tbody tr th:only-of-type {\n",
       "        vertical-align: middle;\n",
       "    }\n",
       "\n",
       "    .dataframe tbody tr th {\n",
       "        vertical-align: top;\n",
       "    }\n",
       "\n",
       "    .dataframe thead th {\n",
       "        text-align: right;\n",
       "    }\n",
       "</style>\n",
       "<table border=\"1\" class=\"dataframe\">\n",
       "  <thead>\n",
       "    <tr style=\"text-align: right;\">\n",
       "      <th></th>\n",
       "      <th>Count</th>\n",
       "      <th>Percentage</th>\n",
       "    </tr>\n",
       "    <tr>\n",
       "      <th>q6_how_often</th>\n",
       "      <th></th>\n",
       "      <th></th>\n",
       "    </tr>\n",
       "  </thead>\n",
       "  <tbody>\n",
       "    <tr>\n",
       "      <th>On a daily basis</th>\n",
       "      <td>11</td>\n",
       "      <td>52.380952</td>\n",
       "    </tr>\n",
       "    <tr>\n",
       "      <th>A couple times per year</th>\n",
       "      <td>4</td>\n",
       "      <td>19.047619</td>\n",
       "    </tr>\n",
       "    <tr>\n",
       "      <th>On a weekly basis</th>\n",
       "      <td>3</td>\n",
       "      <td>14.285714</td>\n",
       "    </tr>\n",
       "    <tr>\n",
       "      <th>Rarely, if ever</th>\n",
       "      <td>2</td>\n",
       "      <td>9.523810</td>\n",
       "    </tr>\n",
       "    <tr>\n",
       "      <th>On a monthly basis</th>\n",
       "      <td>1</td>\n",
       "      <td>4.761905</td>\n",
       "    </tr>\n",
       "  </tbody>\n",
       "</table>\n",
       "</div>"
      ],
      "text/plain": [
       "                         Count  Percentage\n",
       "q6_how_often                              \n",
       "On a daily basis            11   52.380952\n",
       "A couple times per year      4   19.047619\n",
       "On a weekly basis            3   14.285714\n",
       "Rarely, if ever              2    9.523810\n",
       "On a monthly basis           1    4.761905"
      ]
     },
     "execution_count": 53,
     "metadata": {},
     "output_type": "execute_result"
    }
   ],
   "source": [
    "value_counts = df_a.iloc[:, 11].value_counts()\n",
    "percentage = (value_counts / value_counts.sum()) * 100\n",
    "result = pd.DataFrame({'Count': value_counts, 'Percentage': percentage})\n",
    "result.sort_values(by='Count', ascending=False)"
   ]
  },
  {
   "cell_type": "markdown",
   "metadata": {},
   "source": [
    "- A majority (52%) of librarians report working with others every day, highlighting strong integration into school activities.\n",
    "\n",
    "- About 38% collaborate on a weekly, monthly, or occasional yearly basis, showing moderate but less consistent involvement.\n",
    "\n",
    "- Nearly 10% rarely, if ever, collaborate—indicating potential barriers such as scheduling conflicts, staffing limitations, or unclear expectations."
   ]
  },
  {
   "cell_type": "markdown",
   "metadata": {},
   "source": [
    "`q8`: Who usually initiates collaborations between yourself and the school librarian?"
   ]
  },
  {
   "cell_type": "code",
   "execution_count": 54,
   "metadata": {},
   "outputs": [
    {
     "data": {
      "text/html": [
       "<div>\n",
       "<style scoped>\n",
       "    .dataframe tbody tr th:only-of-type {\n",
       "        vertical-align: middle;\n",
       "    }\n",
       "\n",
       "    .dataframe tbody tr th {\n",
       "        vertical-align: top;\n",
       "    }\n",
       "\n",
       "    .dataframe thead th {\n",
       "        text-align: right;\n",
       "    }\n",
       "</style>\n",
       "<table border=\"1\" class=\"dataframe\">\n",
       "  <thead>\n",
       "    <tr style=\"text-align: right;\">\n",
       "      <th></th>\n",
       "      <th>Count</th>\n",
       "      <th>Percentage</th>\n",
       "    </tr>\n",
       "    <tr>\n",
       "      <th>q8_initiate</th>\n",
       "      <th></th>\n",
       "      <th></th>\n",
       "    </tr>\n",
       "  </thead>\n",
       "  <tbody>\n",
       "    <tr>\n",
       "      <th>It varies; sometimes me, sometimes someone else</th>\n",
       "      <td>11</td>\n",
       "      <td>57.894737</td>\n",
       "    </tr>\n",
       "    <tr>\n",
       "      <th>I do</th>\n",
       "      <td>7</td>\n",
       "      <td>36.842105</td>\n",
       "    </tr>\n",
       "    <tr>\n",
       "      <th>Another Administrator</th>\n",
       "      <td>1</td>\n",
       "      <td>5.263158</td>\n",
       "    </tr>\n",
       "  </tbody>\n",
       "</table>\n",
       "</div>"
      ],
      "text/plain": [
       "                                                 Count  Percentage\n",
       "q8_initiate                                                       \n",
       "It varies; sometimes me, sometimes someone else     11   57.894737\n",
       "I do                                                 7   36.842105\n",
       "Another Administrator                                1    5.263158"
      ]
     },
     "execution_count": 54,
     "metadata": {},
     "output_type": "execute_result"
    }
   ],
   "source": [
    "value_counts = df_a.iloc[:, 13].value_counts()\n",
    "percentage = (value_counts / value_counts.sum()) * 100\n",
    "result = pd.DataFrame({'Count': value_counts, 'Percentage': percentage})\n",
    "result.sort_values(by='Count', ascending=False)"
   ]
  },
  {
   "cell_type": "markdown",
   "metadata": {},
   "source": [
    "- The majority (58%) say collaboration initiation varies, reflecting a flexible or informal process based on context or availability.\n",
    "\n",
    "- Over a third (37%) of respondents report that they themselves typically initiate collaboration with the librarian.\n",
    "\n",
    "- Notably, no respondents indicated that their school librarian usually initiates collaboration, which may suggest hierarchical dynamics or uncertainty about the librarian’s role in initiating partnerships."
   ]
  },
  {
   "cell_type": "markdown",
   "metadata": {},
   "source": [
    "`q9`: In your opinion, what are the school librarian’s most important contributions to the education program of the school?"
   ]
  },
  {
   "cell_type": "code",
   "execution_count": 55,
   "metadata": {},
   "outputs": [
    {
     "data": {
      "text/plain": [
       "['leader on the campus, collaborator with teachers, professional learning support, literacy support for students and teachers, technology integrator',\n",
       " 'Elevating and adding value to classroom instruction',\n",
       " 'Build community, promote literacy and support content area curriculum.',\n",
       " 'The librarians provide a bridge to students and faculty to connect the classroom curriculum to personal interests, responsible use of resources, and access to current, accurate information.',\n",
       " 'Providing support and resources to students and teachers. ',\n",
       " 'Lifting learning outside the walls of the classroom; enhancing lessons through collaborative planning with ALL content area teachers.',\n",
       " 'The library is the literacy and technology center for the school. ',\n",
       " 'Education, research, STEM, technology support',\n",
       " 'It should be supporting classroom teachers and teaching standards in a different way.',\n",
       " 'Supporting school-level goals; supporting culture and climate; teaching digital citizenship, safety, and literacy; providing equitable access to resources; intentional curation of diverse resources',\n",
       " 'Previous librarians have provided my students with direct instruction on research skills and materials',\n",
       " 'Access to resources',\n",
       " 'Providing instruction on important skills such as information literacy, digital citizenship, media literacy, and research skills.',\n",
       " 'Supporting all staff and students with instruction and resources',\n",
       " 'Providing students with the tools and resources to becoming ethical, information literate and lifelong readers while curating and providing access to texts that serve as windows, mirrors, and sliding glass doors to the world.',\n",
       " 'Providing and promoting curriculum relevant resources and recreational reading materials that encourage reading growth and capacity for learning.',\n",
       " 'Supporting student achievement, information literacy, love of reading',\n",
       " \"School librarians have the unique opportunity to meet students' interests where they are as opposed to following a specific topic in a curriculum.  They are vital in fostering a love of reading for pleasure and information in our future leaders.\"]"
      ]
     },
     "execution_count": 55,
     "metadata": {},
     "output_type": "execute_result"
    }
   ],
   "source": [
    "df_a_q9 = df_a.iloc[:, 15].dropna().tolist()\n",
    "df_a_q9"
   ]
  },
  {
   "cell_type": "markdown",
   "metadata": {},
   "source": [
    "- Literacy Champions: Librarians are seen as essential in fostering reading for both pleasure and academic growth, often serving as the literacy hub of the school.\n",
    "\n",
    "- Guides for Information Navigation: Their role in teaching research skills, information literacy, and digital citizenship highlights their importance in preparing students for an information-rich world.\n",
    "\n",
    "- Collaborative Instructional Partners: Many responses emphasized collaboration with teachers across all subject areas, enhancing instruction and supporting curriculum goals.\n",
    "\n",
    "- Equity and Inclusion Advocates: Librarians are valued for curating diverse, inclusive resources and ensuring equitable access for all students, helping foster a supportive and culturally responsive environment.\n",
    "\n",
    "- Instructional Leaders & Innovators: They are recognized as technology integrators, school leaders, and creative contributors who extend learning beyond the classroom and personalize student support."
   ]
  },
  {
   "cell_type": "markdown",
   "metadata": {},
   "source": [
    "`q10`: Which, if any, of the following leadership opportunities in your organization are school librarians involved? Please select all that apply."
   ]
  },
  {
   "cell_type": "code",
   "execution_count": 56,
   "metadata": {},
   "outputs": [
    {
     "data": {
      "text/html": [
       "<div>\n",
       "<style scoped>\n",
       "    .dataframe tbody tr th:only-of-type {\n",
       "        vertical-align: middle;\n",
       "    }\n",
       "\n",
       "    .dataframe tbody tr th {\n",
       "        vertical-align: top;\n",
       "    }\n",
       "\n",
       "    .dataframe thead th {\n",
       "        text-align: right;\n",
       "    }\n",
       "</style>\n",
       "<table border=\"1\" class=\"dataframe\">\n",
       "  <thead>\n",
       "    <tr style=\"text-align: right;\">\n",
       "      <th></th>\n",
       "      <th>Count</th>\n",
       "      <th>Percentage</th>\n",
       "    </tr>\n",
       "  </thead>\n",
       "  <tbody>\n",
       "    <tr>\n",
       "      <th>q10_technology_committee</th>\n",
       "      <td>13</td>\n",
       "      <td>68.421053</td>\n",
       "    </tr>\n",
       "    <tr>\n",
       "      <th>q10_professional_learning</th>\n",
       "      <td>13</td>\n",
       "      <td>68.421053</td>\n",
       "    </tr>\n",
       "    <tr>\n",
       "      <th>q10_building_leadership</th>\n",
       "      <td>11</td>\n",
       "      <td>57.894737</td>\n",
       "    </tr>\n",
       "    <tr>\n",
       "      <th>q10_school_improvement</th>\n",
       "      <td>8</td>\n",
       "      <td>42.105263</td>\n",
       "    </tr>\n",
       "    <tr>\n",
       "      <th>q10_curriculum_committee</th>\n",
       "      <td>8</td>\n",
       "      <td>42.105263</td>\n",
       "    </tr>\n",
       "    <tr>\n",
       "      <th>q10_district_strategy</th>\n",
       "      <td>6</td>\n",
       "      <td>31.578947</td>\n",
       "    </tr>\n",
       "    <tr>\n",
       "      <th>q10_district_leadership</th>\n",
       "      <td>5</td>\n",
       "      <td>26.315789</td>\n",
       "    </tr>\n",
       "    <tr>\n",
       "      <th>q10_district_improvement</th>\n",
       "      <td>5</td>\n",
       "      <td>26.315789</td>\n",
       "    </tr>\n",
       "    <tr>\n",
       "      <th>q10_none</th>\n",
       "      <td>2</td>\n",
       "      <td>10.526316</td>\n",
       "    </tr>\n",
       "  </tbody>\n",
       "</table>\n",
       "</div>"
      ],
      "text/plain": [
       "                          Count Percentage\n",
       "q10_technology_committee     13  68.421053\n",
       "q10_professional_learning    13  68.421053\n",
       "q10_building_leadership      11  57.894737\n",
       "q10_school_improvement        8  42.105263\n",
       "q10_curriculum_committee      8  42.105263\n",
       "q10_district_strategy         6  31.578947\n",
       "q10_district_leadership       5  26.315789\n",
       "q10_district_improvement      5  26.315789\n",
       "q10_none                      2  10.526316"
      ]
     },
     "execution_count": 56,
     "metadata": {},
     "output_type": "execute_result"
    }
   ],
   "source": [
    "df_a_q10 = df_a.iloc[:, 16:25]\n",
    "counts = df_a_q10.sum()\n",
    "percentages = (counts / 19) * 100\n",
    "\n",
    "result = pd.DataFrame({\n",
    "    'Count': counts,\n",
    "    'Percentage': percentages\n",
    "})\n",
    "\n",
    "result.sort_values(by='Count', ascending=False, inplace=True)\n",
    "result"
   ]
  },
  {
   "cell_type": "markdown",
   "metadata": {},
   "source": [
    "- Librarians are most often involved in technology committees and professional learning (both 68%), showing their key role in digital integration and staff development.\n",
    "\n",
    "- Over half (58%) participate in building-level leadership, with 42% involved in school improvement and curriculum committees, suggesting active engagement in instructional planning.\n",
    "\n",
    "- About a quarter of respondents noted librarian participation in district-level leadership, district improvement, and strategic planning, indicating growing but still modest influence at higher administrative levels."
   ]
  },
  {
   "cell_type": "markdown",
   "metadata": {},
   "source": [
    "`q19`: Please state how much you agree or disagree with each of the following Common Beliefs of the school library profession."
   ]
  },
  {
   "cell_type": "code",
   "execution_count": 57,
   "metadata": {},
   "outputs": [
    {
     "data": {
      "text/plain": [
       "q19_unique_and_essential    1.941176\n",
       "q19_effective               1.882353\n",
       "q19_prepared                1.823529\n",
       "q19_reading                 1.882353\n",
       "q19_intellectual_freedom    1.882353\n",
       "q19_equitably_available     1.882353\n",
       "dtype: float64"
      ]
     },
     "execution_count": 57,
     "metadata": {},
     "output_type": "execute_result"
    }
   ],
   "source": [
    "df_a_q19.iloc[:, 1:].astype(float).mean()"
   ]
  },
  {
   "cell_type": "code",
   "execution_count": 58,
   "metadata": {},
   "outputs": [
    {
     "name": "stdout",
     "output_type": "stream",
     "text": [
      "   q19_unique_and_essential  q19_effective  q19_prepared  q19_reading  \\\n",
      "2                        16             15            14           15   \n",
      "1                         1              2             3            2   \n",
      "\n",
      "   q19_intellectual_freedom  q19_equitably_available  \n",
      "2                        15                       15  \n",
      "1                         2                        2  \n"
     ]
    }
   ],
   "source": [
    "counts = df_a_q19.iloc[:, 1:].apply(lambda col: col.value_counts().reindex([2, 1], fill_value=0))\n",
    "print(counts)"
   ]
  },
  {
   "cell_type": "markdown",
   "metadata": {},
   "source": [
    "- Most respondents strongly agree with each belief, particularly that the school library is essential, reading is core, and intellectual freedom is a right—each endorsed strongly by 15 or more out of 17 participants.\n",
    "\n",
    "- There were no respondents who disagreed with any belief, reflecting a shared professional identity and consistent values across the group.\n",
    "\n",
    "- A few respondents selected 'Somewhat agree', particularly on the belief that learners should be prepared for college, career, and life—possibly signaling varied views on how well school libraries currently support this goal."
   ]
  },
  {
   "cell_type": "markdown",
   "metadata": {},
   "source": [
    "`q23`: How have you supported professional development opportunities on the National School Library Standards for school librarians in your school or district? Please select all that apply."
   ]
  },
  {
   "cell_type": "code",
   "execution_count": 59,
   "metadata": {},
   "outputs": [
    {
     "data": {
      "text/html": [
       "<div>\n",
       "<style scoped>\n",
       "    .dataframe tbody tr th:only-of-type {\n",
       "        vertical-align: middle;\n",
       "    }\n",
       "\n",
       "    .dataframe tbody tr th {\n",
       "        vertical-align: top;\n",
       "    }\n",
       "\n",
       "    .dataframe thead th {\n",
       "        text-align: right;\n",
       "    }\n",
       "</style>\n",
       "<table border=\"1\" class=\"dataframe\">\n",
       "  <thead>\n",
       "    <tr style=\"text-align: right;\">\n",
       "      <th></th>\n",
       "      <th>Count</th>\n",
       "      <th>Percentage</th>\n",
       "    </tr>\n",
       "  </thead>\n",
       "  <tbody>\n",
       "    <tr>\n",
       "      <th>q23_conferences</th>\n",
       "      <td>8</td>\n",
       "      <td>80.0</td>\n",
       "    </tr>\n",
       "    <tr>\n",
       "      <th>q23_leaders</th>\n",
       "      <td>8</td>\n",
       "      <td>80.0</td>\n",
       "    </tr>\n",
       "    <tr>\n",
       "      <th>q23_professional_associations</th>\n",
       "      <td>7</td>\n",
       "      <td>70.0</td>\n",
       "    </tr>\n",
       "    <tr>\n",
       "      <th>q23_orgnization</th>\n",
       "      <td>6</td>\n",
       "      <td>60.0</td>\n",
       "    </tr>\n",
       "    <tr>\n",
       "      <th>q23_purchase_publications</th>\n",
       "      <td>6</td>\n",
       "      <td>60.0</td>\n",
       "    </tr>\n",
       "    <tr>\n",
       "      <th>q23_workshops</th>\n",
       "      <td>5</td>\n",
       "      <td>50.0</td>\n",
       "    </tr>\n",
       "    <tr>\n",
       "      <th>q23_webinars</th>\n",
       "      <td>5</td>\n",
       "      <td>50.0</td>\n",
       "    </tr>\n",
       "    <tr>\n",
       "      <th>q23_facilitate_trainings</th>\n",
       "      <td>5</td>\n",
       "      <td>50.0</td>\n",
       "    </tr>\n",
       "    <tr>\n",
       "      <th>q23_self_training_encouraged</th>\n",
       "      <td>4</td>\n",
       "      <td>40.0</td>\n",
       "    </tr>\n",
       "    <tr>\n",
       "      <th>q23_self_training_expected</th>\n",
       "      <td>1</td>\n",
       "      <td>10.0</td>\n",
       "    </tr>\n",
       "    <tr>\n",
       "      <th>q23_none</th>\n",
       "      <td>0</td>\n",
       "      <td>0.0</td>\n",
       "    </tr>\n",
       "  </tbody>\n",
       "</table>\n",
       "</div>"
      ],
      "text/plain": [
       "                              Count Percentage\n",
       "q23_conferences                   8       80.0\n",
       "q23_leaders                       8       80.0\n",
       "q23_professional_associations     7       70.0\n",
       "q23_orgnization                   6       60.0\n",
       "q23_purchase_publications         6       60.0\n",
       "q23_workshops                     5       50.0\n",
       "q23_webinars                      5       50.0\n",
       "q23_facilitate_trainings          5       50.0\n",
       "q23_self_training_encouraged      4       40.0\n",
       "q23_self_training_expected        1       10.0\n",
       "q23_none                          0        0.0"
      ]
     },
     "execution_count": 59,
     "metadata": {},
     "output_type": "execute_result"
    }
   ],
   "source": [
    "df_a_q23 = df_a.iloc[:, 86:97]\n",
    "counts = df_a_q23.sum()\n",
    "percentages = (counts / 10) * 100\n",
    "\n",
    "result = pd.DataFrame({\n",
    "    'Count': counts,\n",
    "    'Percentage': percentages\n",
    "})\n",
    "\n",
    "result.sort_values(by='Count', ascending=False, inplace=True)\n",
    "result"
   ]
  },
  {
   "cell_type": "markdown",
   "metadata": {},
   "source": [
    "- The most common supports were conference attendance and district-led training by library leaders (both 80%), followed closely by association memberships (70%) and district-organized training by educational organizations (60%).\n",
    "\n",
    "- Half of the respondents supported workshops, webinars, and even facilitated training for others, indicating a strong commitment to diverse professional learning formats.\n",
    "\n",
    "- While 60% supported access to professional publications, fewer encouraged self-directed learning—only 40% did so with time allotted, and just 10% expected it without specific time."
   ]
  }
 ],
 "metadata": {
  "kernelspec": {
   "display_name": "Python 3",
   "language": "python",
   "name": "python3"
  },
  "language_info": {
   "codemirror_mode": {
    "name": "ipython",
    "version": 3
   },
   "file_extension": ".py",
   "mimetype": "text/x-python",
   "name": "python",
   "nbconvert_exporter": "python",
   "pygments_lexer": "ipython3",
   "version": "3.11.1"
  }
 },
 "nbformat": 4,
 "nbformat_minor": 2
}
